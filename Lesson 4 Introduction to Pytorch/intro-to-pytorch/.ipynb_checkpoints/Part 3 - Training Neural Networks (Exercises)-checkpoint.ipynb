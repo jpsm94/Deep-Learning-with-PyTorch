{
 "cells": [
  {
   "cell_type": "markdown",
   "metadata": {},
   "source": [
    "# Training Neural Networks\n",
    "\n",
    "The network we built in the previous part isn't so smart, it doesn't know anything about our handwritten digits. Neural networks with non-linear activations work like universal function approximators. There is some function that maps your input to the output. For example, images of handwritten digits to class probabilities. The power of neural networks is that we can train them to approximate this function, and basically any function given enough data and compute time.\n",
    "\n",
    "<img src=\"assets/function_approx.png\" width=500px>\n",
    "\n",
    "At first the network is naive, it doesn't know the function mapping the inputs to the outputs. We train the network by showing it examples of real data, then adjusting the network parameters such that it approximates this function.\n",
    "\n",
    "To find these parameters, we need to know how poorly the network is predicting the real outputs. For this we calculate a **loss function** (also called the cost), a measure of our prediction error. For example, the mean squared loss is often used in regression and binary classification problems\n",
    "\n",
    "$$\n",
    "\\large \\ell = \\frac{1}{2n}\\sum_i^n{\\left(y_i - \\hat{y}_i\\right)^2}\n",
    "$$\n",
    "\n",
    "where $n$ is the number of training examples, $y_i$ are the true labels, and $\\hat{y}_i$ are the predicted labels.\n",
    "\n",
    "By minimizing this loss with respect to the network parameters, we can find configurations where the loss is at a minimum and the network is able to predict the correct labels with high accuracy. We find this minimum using a process called **gradient descent**. The gradient is the slope of the loss function and points in the direction of fastest change. To get to the minimum in the least amount of time, we then want to follow the gradient (downwards). You can think of this like descending a mountain by following the steepest slope to the base.\n",
    "\n",
    "<img src='assets/gradient_descent.png' width=350px>"
   ]
  },
  {
   "cell_type": "markdown",
   "metadata": {},
   "source": [
    "## Backpropagation\n",
    "\n",
    "For single layer networks, gradient descent is straightforward to implement. However, it's more complicated for deeper, multilayer neural networks like the one we've built. Complicated enough that it took about 30 years before researchers figured out how to train multilayer networks.\n",
    "\n",
    "Training multilayer networks is done through **backpropagation** which is really just an application of the chain rule from calculus. It's easiest to understand if we convert a two layer network into a graph representation.\n",
    "\n",
    "<img src='assets/backprop_diagram.png' width=550px>\n",
    "\n",
    "In the forward pass through the network, our data and operations go from bottom to top here. We pass the input $x$ through a linear transformation $L_1$ with weights $W_1$ and biases $b_1$. The output then goes through the sigmoid operation $S$ and another linear transformation $L_2$. Finally we calculate the loss $\\ell$. We use the loss as a measure of how bad the network's predictions are. The goal then is to adjust the weights and biases to minimize the loss.\n",
    "\n",
    "To train the weights with gradient descent, we propagate the gradient of the loss backwards through the network. Each operation has some gradient between the inputs and outputs. As we send the gradients backwards, we multiply the incoming gradient with the gradient for the operation. Mathematically, this is really just calculating the gradient of the loss with respect to the weights using the chain rule.\n",
    "\n",
    "$$\n",
    "\\large \\frac{\\partial \\ell}{\\partial W_1} = \\frac{\\partial L_1}{\\partial W_1} \\frac{\\partial S}{\\partial L_1} \\frac{\\partial L_2}{\\partial S} \\frac{\\partial \\ell}{\\partial L_2}\n",
    "$$\n",
    "\n",
    "**Note:** I'm glossing over a few details here that require some knowledge of vector calculus, but they aren't necessary to understand what's going on.\n",
    "\n",
    "We update our weights using this gradient with some learning rate $\\alpha$. \n",
    "\n",
    "$$\n",
    "\\large W^\\prime_1 = W_1 - \\alpha \\frac{\\partial \\ell}{\\partial W_1}\n",
    "$$\n",
    "\n",
    "The learning rate $\\alpha$ is set such that the weight update steps are small enough that the iterative method settles in a minimum."
   ]
  },
  {
   "cell_type": "markdown",
   "metadata": {},
   "source": [
    "## Losses in PyTorch\n",
    "\n",
    "Let's start by seeing how we calculate the loss with PyTorch. Through the `nn` module, PyTorch provides losses such as the cross-entropy loss (`nn.CrossEntropyLoss`). You'll usually see the loss assigned to `criterion`. As noted in the last part, with a classification problem such as MNIST, we're using the softmax function to predict class probabilities. With a softmax output, you want to use cross-entropy as the loss. To actually calculate the loss, you first define the criterion then pass in the output of your network and the correct labels.\n",
    "\n",
    "Something really important to note here. Looking at [the documentation for `nn.CrossEntropyLoss`](https://pytorch.org/docs/stable/nn.html#torch.nn.CrossEntropyLoss),\n",
    "\n",
    "> This criterion combines `nn.LogSoftmax()` and `nn.NLLLoss()` in one single class.\n",
    ">\n",
    "> The input is expected to contain scores for each class.\n",
    "\n",
    "This means we need to pass in the raw output of our network into the loss, not the output of the softmax function. This raw output is usually called the *logits* or *scores*. We use the logits because softmax gives you probabilities which will often be very close to zero or one but floating-point numbers can't accurately represent values near zero or one ([read more here](https://docs.python.org/3/tutorial/floatingpoint.html)). It's usually best to avoid doing calculations with probabilities, typically we use log-probabilities."
   ]
  },
  {
   "cell_type": "code",
   "execution_count": 15,
   "metadata": {},
   "outputs": [],
   "source": [
    "import torch\n",
    "from torch import nn\n",
    "import torch.nn.functional as F\n",
    "from torchvision import datasets, transforms\n",
    "\n",
    "# Define a transform to normalize the data\n",
    "transform = transforms.Compose([transforms.ToTensor(),\n",
    "                                transforms.Normalize((0.5, 0.5, 0.5), (0.5, 0.5, 0.5)),\n",
    "                              ])\n",
    "# Download and load the training data\n",
    "trainset = datasets.MNIST('~/.pytorch/MNIST_data/', download=True, train=True, transform=transform)\n",
    "trainloader = torch.utils.data.DataLoader(trainset, batch_size=64, shuffle=True)"
   ]
  },
  {
   "cell_type": "markdown",
   "metadata": {},
   "source": [
    "### Note\n",
    "If you haven't seen `nn.Sequential` yet, please finish the end of the Part 2 notebook."
   ]
  },
  {
   "cell_type": "code",
   "execution_count": 16,
   "metadata": {},
   "outputs": [
    {
     "name": "stdout",
     "output_type": "stream",
     "text": [
      "tensor(2.3018, grad_fn=<NllLossBackward>)\n"
     ]
    }
   ],
   "source": [
    "# Build a feed-forward network\n",
    "model = nn.Sequential(nn.Linear(784, 128),\n",
    "                      nn.ReLU(),\n",
    "                      nn.Linear(128, 64),\n",
    "                      nn.ReLU(),\n",
    "                      nn.Linear(64, 10))\n",
    "\n",
    "# Define the loss\n",
    "criterion = nn.CrossEntropyLoss()\n",
    "\n",
    "# Get our data\n",
    "images, labels = next(iter(trainloader))\n",
    "# Flatten imagesb\n",
    "images = images.view(images.shape[0], -1)\n",
    "\n",
    "# Forward pass, get our logits\n",
    "logits = model(images)\n",
    "# Calculate the loss with the logits and the labels\n",
    "loss = criterion(logits, labels)\n",
    "\n",
    "print(loss)"
   ]
  },
  {
   "cell_type": "code",
   "execution_count": 17,
   "metadata": {},
   "outputs": [
    {
     "name": "stdout",
     "output_type": "stream",
     "text": [
      "torch.Size([64, 10])\n",
      "tensor([[ 0.1455,  0.1648, -0.1028,  0.1647,  0.0532, -0.1155,  0.0221,  0.0896,\n",
      "          0.0703,  0.0757],\n",
      "        [ 0.1075,  0.1051, -0.1579,  0.0455,  0.0705, -0.1675,  0.0837, -0.0578,\n",
      "          0.1254,  0.0587],\n",
      "        [ 0.0308,  0.2443, -0.1132,  0.0849, -0.0862, -0.0154,  0.0315,  0.0757,\n",
      "          0.0885, -0.0012],\n",
      "        [ 0.0733,  0.2927, -0.2588,  0.1573,  0.0180, -0.0293,  0.0322,  0.0089,\n",
      "          0.0533,  0.0920],\n",
      "        [ 0.0789,  0.1095, -0.1910,  0.1302, -0.0003, -0.1192, -0.0185,  0.0429,\n",
      "          0.0922,  0.0777],\n",
      "        [ 0.0568,  0.1441, -0.1975,  0.1777,  0.0103, -0.0771, -0.0065, -0.0215,\n",
      "          0.0229,  0.0681],\n",
      "        [ 0.0636,  0.1715, -0.2039,  0.1131, -0.0637, -0.0459, -0.0151,  0.1071,\n",
      "         -0.0144, -0.0009],\n",
      "        [ 0.1370,  0.1584, -0.2836,  0.1151,  0.0302, -0.1118,  0.0395,  0.0684,\n",
      "          0.1212,  0.0611],\n",
      "        [ 0.0969,  0.1673, -0.2778,  0.1019,  0.0076, -0.1137,  0.0145,  0.0808,\n",
      "          0.0170,  0.0556],\n",
      "        [ 0.1913,  0.1851, -0.1668,  0.0942, -0.0387, -0.0175, -0.0558,  0.0624,\n",
      "          0.0127,  0.0330],\n",
      "        [ 0.1394,  0.1319, -0.1475,  0.1356,  0.0381, -0.1642, -0.0753,  0.0438,\n",
      "          0.0201,  0.0534],\n",
      "        [ 0.1436,  0.1739, -0.1248,  0.1862,  0.0110,  0.0156, -0.1272,  0.0863,\n",
      "         -0.0219,  0.1238],\n",
      "        [ 0.1245,  0.2131, -0.2302,  0.0987,  0.0375, -0.0720,  0.0524,  0.0202,\n",
      "          0.1288,  0.0133],\n",
      "        [ 0.1297,  0.1217, -0.1871,  0.0668, -0.0341, -0.0664, -0.0399,  0.0978,\n",
      "          0.0440,  0.0718],\n",
      "        [ 0.1253,  0.2530, -0.1720,  0.2013, -0.0047, -0.0843,  0.0089,  0.1021,\n",
      "          0.0200,  0.0661],\n",
      "        [ 0.1494,  0.1886, -0.2261,  0.1753,  0.0566, -0.1403,  0.0403,  0.0683,\n",
      "          0.0512,  0.1004],\n",
      "        [ 0.1495,  0.1514, -0.1608,  0.0754, -0.0498, -0.1444,  0.0131,  0.0912,\n",
      "          0.0155,  0.0639],\n",
      "        [ 0.0952,  0.1387, -0.1318,  0.1548,  0.0251, -0.0892, -0.0109,  0.0104,\n",
      "          0.1196,  0.0937],\n",
      "        [ 0.0865,  0.1846, -0.1663,  0.1529,  0.0068, -0.1224,  0.0470,  0.0477,\n",
      "          0.0309,  0.0948],\n",
      "        [ 0.2181,  0.1143, -0.1818,  0.1961,  0.0212, -0.1096, -0.0089,  0.0956,\n",
      "          0.0370,  0.0723],\n",
      "        [ 0.0308,  0.2262, -0.1994,  0.1352,  0.0225, -0.1087,  0.0900,  0.0375,\n",
      "          0.0394,  0.0871],\n",
      "        [ 0.1635,  0.2013, -0.2678,  0.2034, -0.0462, -0.0420, -0.0415,  0.1415,\n",
      "         -0.0093,  0.0942],\n",
      "        [ 0.1446,  0.1559, -0.1356,  0.1523,  0.0507, -0.0884,  0.0632,  0.0831,\n",
      "          0.0877,  0.1158],\n",
      "        [ 0.1110,  0.1896, -0.1039,  0.1919,  0.0629, -0.1082, -0.0042,  0.1270,\n",
      "          0.0723,  0.0880],\n",
      "        [ 0.0548,  0.1172, -0.2122,  0.1578,  0.0593, -0.0506,  0.0362,  0.1831,\n",
      "          0.0385,  0.0675],\n",
      "        [ 0.1633,  0.1911, -0.2077,  0.2507,  0.0771, -0.0975,  0.0249,  0.0713,\n",
      "         -0.0192,  0.1242],\n",
      "        [ 0.1801,  0.2131, -0.2088,  0.1372,  0.0595, -0.1326,  0.0393,  0.0405,\n",
      "          0.0894,  0.1386],\n",
      "        [ 0.1557,  0.1176, -0.1255,  0.0288,  0.0594, -0.0313, -0.0044,  0.1839,\n",
      "          0.1324,  0.0991],\n",
      "        [ 0.1304,  0.1811, -0.1873,  0.1496, -0.0103, -0.0510, -0.0324,  0.0481,\n",
      "          0.0442,  0.1299],\n",
      "        [ 0.2044,  0.2297, -0.2275,  0.1969, -0.0292, -0.0586, -0.0515,  0.0891,\n",
      "         -0.0083,  0.1017],\n",
      "        [ 0.1737,  0.0927, -0.2106,  0.1917,  0.0405, -0.1129, -0.0565,  0.0131,\n",
      "          0.0229,  0.0565],\n",
      "        [ 0.0896,  0.1671, -0.2022,  0.1327, -0.0615, -0.0892, -0.0900,  0.0770,\n",
      "         -0.0220,  0.0424],\n",
      "        [ 0.0474,  0.1167, -0.1168,  0.0212,  0.0061, -0.0880,  0.0093,  0.0717,\n",
      "          0.0995,  0.1129],\n",
      "        [ 0.0607,  0.1882, -0.1258,  0.0412,  0.0447, -0.0677,  0.0463,  0.0785,\n",
      "          0.0975, -0.0349],\n",
      "        [ 0.1532,  0.1920, -0.1102,  0.2277,  0.0572, -0.1632, -0.0115,  0.0408,\n",
      "         -0.0328,  0.0141],\n",
      "        [ 0.1780,  0.0847, -0.1810,  0.1560,  0.0077, -0.1366, -0.0094,  0.0404,\n",
      "          0.0386,  0.0660],\n",
      "        [ 0.1736,  0.1178, -0.0763,  0.0886,  0.0362, -0.1455, -0.0227,  0.0968,\n",
      "         -0.0511,  0.1090],\n",
      "        [ 0.0617,  0.1786, -0.2285,  0.1898,  0.0341, -0.1318,  0.0595,  0.0934,\n",
      "          0.0149,  0.0301],\n",
      "        [ 0.0021,  0.2198, -0.2348,  0.0792, -0.1320, -0.0852,  0.0605,  0.0659,\n",
      "          0.0809, -0.0111],\n",
      "        [ 0.1133,  0.1635, -0.1798,  0.1129,  0.0247, -0.0657, -0.0331,  0.0687,\n",
      "          0.0712,  0.0665],\n",
      "        [ 0.1272,  0.0845, -0.2200,  0.1398,  0.0201, -0.1119, -0.0247,  0.0286,\n",
      "          0.1079,  0.0725],\n",
      "        [ 0.0791,  0.1459, -0.1528,  0.1431, -0.0606, -0.0605, -0.0616,  0.0467,\n",
      "          0.0259,  0.0351],\n",
      "        [ 0.1303,  0.1669, -0.2112,  0.1702,  0.0361, -0.0480, -0.0025,  0.0984,\n",
      "          0.0678,  0.1085],\n",
      "        [ 0.0545,  0.1033, -0.0898,  0.0969, -0.0255, -0.0394,  0.0136,  0.0214,\n",
      "          0.1498,  0.0060],\n",
      "        [ 0.1643,  0.1392, -0.1662,  0.1176,  0.0280, -0.1553, -0.0088,  0.0559,\n",
      "          0.0445,  0.0656],\n",
      "        [ 0.2030,  0.1317, -0.1887,  0.1109,  0.0052, -0.1237,  0.0032,  0.0267,\n",
      "          0.1023,  0.0570],\n",
      "        [ 0.1442,  0.2331, -0.1562,  0.2218,  0.0548, -0.1202,  0.0091,  0.0174,\n",
      "          0.0884,  0.1107],\n",
      "        [ 0.1141,  0.1746, -0.1083,  0.1598,  0.1147, -0.1315,  0.0161,  0.0780,\n",
      "          0.0829,  0.1382],\n",
      "        [ 0.2017,  0.1484, -0.2231,  0.1916,  0.0371, -0.1041,  0.0292,  0.0477,\n",
      "          0.0999,  0.0946],\n",
      "        [ 0.0789,  0.1177, -0.2000,  0.1836,  0.0122, -0.1404,  0.0217,  0.0759,\n",
      "          0.0098,  0.0762],\n",
      "        [ 0.1108,  0.2197, -0.1225,  0.2414,  0.0755, -0.0889,  0.0189,  0.1351,\n",
      "          0.0362,  0.1131],\n",
      "        [ 0.0922,  0.1158, -0.1601,  0.1324,  0.0825, -0.0752,  0.0435,  0.0345,\n",
      "          0.1380,  0.0410],\n",
      "        [ 0.1812,  0.1997, -0.1869,  0.1689,  0.0952, -0.1387,  0.0369,  0.1036,\n",
      "          0.0480,  0.1227],\n",
      "        [ 0.1880,  0.2217, -0.1840,  0.1525,  0.0053, -0.0538,  0.0205,  0.0702,\n",
      "          0.0623,  0.0979],\n",
      "        [ 0.1711,  0.2282, -0.1766,  0.1663,  0.0327, -0.0448,  0.0316,  0.0490,\n",
      "          0.0977,  0.1099],\n",
      "        [ 0.1717,  0.2219, -0.1556,  0.1896,  0.1059, -0.0411, -0.0446,  0.0503,\n",
      "          0.0553,  0.1169],\n",
      "        [ 0.0389,  0.2087, -0.3081,  0.1368, -0.0415, -0.1161,  0.0483,  0.0915,\n",
      "          0.0047,  0.0935],\n",
      "        [ 0.1275,  0.1419, -0.1191,  0.1325,  0.0335, -0.0562,  0.0397,  0.0444,\n",
      "          0.1273,  0.1089],\n",
      "        [ 0.0894,  0.1443, -0.2038,  0.1385,  0.0069, -0.0648,  0.0108,  0.0347,\n",
      "          0.1228,  0.0850],\n",
      "        [ 0.1535,  0.1645, -0.2662,  0.1054, -0.0489, -0.0681,  0.0335,  0.0808,\n",
      "          0.0274,  0.0803],\n",
      "        [ 0.1723,  0.1294, -0.1613,  0.1539,  0.0375, -0.2407,  0.0556,  0.0254,\n",
      "         -0.0014,  0.0380],\n",
      "        [ 0.1485,  0.2034, -0.1895,  0.1489,  0.0275, -0.1267,  0.0099,  0.0256,\n",
      "          0.0591,  0.1306],\n",
      "        [ 0.1540,  0.1080, -0.1767,  0.1102,  0.0516, -0.0789,  0.0198,  0.0427,\n",
      "          0.0975,  0.0996],\n",
      "        [ 0.1250,  0.1529, -0.2017,  0.1353,  0.0362, -0.1163, -0.0127,  0.0559,\n",
      "          0.0897,  0.1151]], grad_fn=<ThAddmmBackward>)\n"
     ]
    }
   ],
   "source": [
    "print(logits.shape)\n",
    "print(logits)"
   ]
  },
  {
   "cell_type": "code",
   "execution_count": 18,
   "metadata": {},
   "outputs": [
    {
     "name": "stdout",
     "output_type": "stream",
     "text": [
      "tensor([6, 0, 8, 3, 1, 5, 6, 7, 6, 0, 9, 2, 3, 5, 4, 9, 6, 0, 2, 2, 3, 6, 1, 6,\n",
      "        2, 0, 1, 5, 8, 6, 9, 0, 0, 0, 4, 9, 2, 3, 3, 0, 1, 0, 8, 0, 9, 9, 4, 2,\n",
      "        7, 3, 2, 0, 4, 5, 1, 2, 3, 0, 1, 5, 4, 1, 5, 1])\n",
      "torch.Size([64])\n"
     ]
    }
   ],
   "source": [
    "print(labels)\n",
    "print(labels.shape)"
   ]
  },
  {
   "cell_type": "markdown",
   "metadata": {},
   "source": [
    "In my experience it's more convenient to build the model with a log-softmax output using `nn.LogSoftmax` or `F.log_softmax` ([documentation](https://pytorch.org/docs/stable/nn.html#torch.nn.LogSoftmax)). Then you can get the actual probabilities by taking the exponential `torch.exp(output)`. With a log-softmax output, you want to use the negative log likelihood loss, `nn.NLLLoss` ([documentation](https://pytorch.org/docs/stable/nn.html#torch.nn.NLLLoss)).\n",
    "\n",
    ">**Exercise:** Build a model that returns the log-softmax as the output and calculate the loss using the negative log likelihood loss. Note that for `nn.LogSoftmax` and `F.log_softmax` you'll need to set the `dim` keyword argument appropriately. `dim=0` calculates softmax across the rows, so each column sums to 1, while `dim=1` calculates across the columns so each row sums to 1. Think about what you want the output to be and choose `dim` appropriately."
   ]
  },
  {
   "cell_type": "code",
   "execution_count": 19,
   "metadata": {},
   "outputs": [
    {
     "name": "stdout",
     "output_type": "stream",
     "text": [
      "tensor(2.2852, grad_fn=<NllLossBackward>)\n"
     ]
    }
   ],
   "source": [
    "# TODO: Build a feed-forward network\n",
    "model = nn.Sequential(nn.Linear(784, 128),\n",
    "                      nn.ReLU(),\n",
    "                      nn.Linear(128, 64),\n",
    "                      nn.ReLU(),\n",
    "                      nn.Linear(64, 10),\n",
    "                      nn.LogSoftmax(dim=1))\n",
    "\n",
    "# TODO: Define the loss\n",
    "criterion = nn.NLLLoss()\n",
    "\n",
    "### Run this to check your work\n",
    "# Get our data\n",
    "images, labels = next(iter(trainloader))\n",
    "# Flatten images\n",
    "images = images.view(images.shape[0], -1)\n",
    "\n",
    "# Forward pass, get our log probabilities\n",
    "#logits = model(images)\n",
    "log_ps = model(images)\n",
    "# Calculate the loss with the logits and the labels\n",
    "loss = criterion(log_ps, labels)\n",
    "\n",
    "print(loss)"
   ]
  },
  {
   "cell_type": "code",
   "execution_count": 20,
   "metadata": {},
   "outputs": [
    {
     "data": {
      "text/plain": [
       "Sequential(\n",
       "  (0): Linear(in_features=784, out_features=128, bias=True)\n",
       "  (1): ReLU()\n",
       "  (2): Linear(in_features=128, out_features=64, bias=True)\n",
       "  (3): ReLU()\n",
       "  (4): Linear(in_features=64, out_features=10, bias=True)\n",
       "  (5): LogSoftmax()\n",
       ")"
      ]
     },
     "execution_count": 20,
     "metadata": {},
     "output_type": "execute_result"
    }
   ],
   "source": [
    "model"
   ]
  },
  {
   "cell_type": "markdown",
   "metadata": {},
   "source": [
    "## Autograd\n",
    "\n",
    "Now that we know how to calculate a loss, how do we use it to perform backpropagation? Torch provides a module, `autograd`, for automatically calculating the gradients of tensors. We can use it to calculate the gradients of all our parameters with respect to the loss. Autograd works by keeping track of operations performed on tensors, then going backwards through those operations, calculating gradients along the way. To make sure PyTorch keeps track of operations on a tensor and calculates the gradients, you need to set `requires_grad = True` on a tensor. You can do this at creation with the `requires_grad` keyword, or at any time with `x.requires_grad_(True)`.\n",
    "\n",
    "You can turn off gradients for a block of code with the `torch.no_grad()` content:\n",
    "```python\n",
    "x = torch.zeros(1, requires_grad=True)\n",
    ">>> with torch.no_grad():\n",
    "...     y = x * 2\n",
    ">>> y.requires_grad\n",
    "False\n",
    "```\n",
    "\n",
    "Also, you can turn on or off gradients altogether with `torch.set_grad_enabled(True|False)`.\n",
    "\n",
    "The gradients are computed with respect to some variable `z` with `z.backward()`. This does a backward pass through the operations that created `z`."
   ]
  },
  {
   "cell_type": "code",
   "execution_count": 21,
   "metadata": {},
   "outputs": [
    {
     "name": "stdout",
     "output_type": "stream",
     "text": [
      "tensor([[ 0.8818,  0.1656],\n",
      "        [-0.8414,  0.7575]], requires_grad=True)\n"
     ]
    }
   ],
   "source": [
    "x = torch.randn(2,2, requires_grad=True)\n",
    "print(x)"
   ]
  },
  {
   "cell_type": "code",
   "execution_count": 22,
   "metadata": {},
   "outputs": [
    {
     "name": "stdout",
     "output_type": "stream",
     "text": [
      "tensor([[0.7775, 0.0274],\n",
      "        [0.7079, 0.5739]], grad_fn=<PowBackward0>)\n"
     ]
    }
   ],
   "source": [
    "y = x**2\n",
    "print(y)"
   ]
  },
  {
   "cell_type": "markdown",
   "metadata": {},
   "source": [
    "Below we can see the operation that created `y`, a power operation `PowBackward0`."
   ]
  },
  {
   "cell_type": "code",
   "execution_count": 23,
   "metadata": {},
   "outputs": [
    {
     "name": "stdout",
     "output_type": "stream",
     "text": [
      "<PowBackward0 object at 0x0000021B580EC0B8>\n"
     ]
    }
   ],
   "source": [
    "## grad_fn shows the function that generated this variable\n",
    "print(y.grad_fn)"
   ]
  },
  {
   "cell_type": "markdown",
   "metadata": {},
   "source": [
    "The autgrad module keeps track of these operations and knows how to calculate the gradient for each one. In this way, it's able to calculate the gradients for a chain of operations, with respect to any one tensor. Let's reduce the tensor `y` to a scalar value, the mean."
   ]
  },
  {
   "cell_type": "code",
   "execution_count": 24,
   "metadata": {},
   "outputs": [
    {
     "name": "stdout",
     "output_type": "stream",
     "text": [
      "tensor(0.5217, grad_fn=<MeanBackward1>)\n"
     ]
    }
   ],
   "source": [
    "z = y.mean()\n",
    "print(z)"
   ]
  },
  {
   "cell_type": "markdown",
   "metadata": {},
   "source": [
    "You can check the gradients for `x` and `y` but they are empty currently."
   ]
  },
  {
   "cell_type": "code",
   "execution_count": 25,
   "metadata": {},
   "outputs": [
    {
     "name": "stdout",
     "output_type": "stream",
     "text": [
      "None\n",
      "None\n"
     ]
    }
   ],
   "source": [
    "print(x.grad)\n",
    "print(y.grad)"
   ]
  },
  {
   "cell_type": "markdown",
   "metadata": {},
   "source": [
    "To calculate the gradients, you need to run the `.backward` method on a Variable, `z` for example. This will calculate the gradient for `z` with respect to `x`\n",
    "\n",
    "$$\n",
    "\\frac{\\partial z}{\\partial x} = \\frac{\\partial}{\\partial x}\\left[\\frac{1}{n}\\sum_i^n x_i^2\\right] = \\frac{x}{2}\n",
    "$$"
   ]
  },
  {
   "cell_type": "code",
   "execution_count": 26,
   "metadata": {},
   "outputs": [
    {
     "name": "stdout",
     "output_type": "stream",
     "text": [
      "tensor([[ 0.4409,  0.0828],\n",
      "        [-0.4207,  0.3788]])\n",
      "tensor([[ 0.4409,  0.0828],\n",
      "        [-0.4207,  0.3788]], grad_fn=<DivBackward0>)\n"
     ]
    }
   ],
   "source": [
    "z.backward()\n",
    "print(x.grad)\n",
    "print(x/2)  "
   ]
  },
  {
   "cell_type": "code",
   "execution_count": 27,
   "metadata": {},
   "outputs": [
    {
     "name": "stdout",
     "output_type": "stream",
     "text": [
      "True\n",
      "None\n"
     ]
    }
   ],
   "source": [
    "print(y.requires_grad)\n",
    "print(y.grad)    # prints None: see https://discuss.pytorch.org/t/why-cant-i-see-grad-of-an-intermediate-variable/94/2"
   ]
  },
  {
   "cell_type": "markdown",
   "metadata": {},
   "source": [
    "These gradients calculations are particularly useful for neural networks. For training we need the gradients of the weights with respect to the cost. With PyTorch, we run data forward through the network to calculate the loss, then, go backwards to calculate the gradients with respect to the loss. Once we have the gradients we can make a gradient descent step. "
   ]
  },
  {
   "cell_type": "markdown",
   "metadata": {},
   "source": [
    "## Loss and Autograd together\n",
    "\n",
    "When we create a network with PyTorch, all of the parameters are initialized with `requires_grad = True`. This means that when we calculate the loss and call `loss.backward()`, the gradients for the parameters are calculated. These gradients are used to update the weights with gradient descent. Below you can see an example of calculating the gradients using a backwards pass."
   ]
  },
  {
   "cell_type": "code",
   "execution_count": 28,
   "metadata": {},
   "outputs": [],
   "source": [
    "# Build a feed-forward network\n",
    "model = nn.Sequential(nn.Linear(784, 128),\n",
    "                      nn.ReLU(),\n",
    "                      nn.Linear(128, 64),\n",
    "                      nn.ReLU(),\n",
    "                      nn.Linear(64, 10),\n",
    "                      nn.LogSoftmax(dim=1))\n",
    "\n",
    "criterion = nn.NLLLoss()\n",
    "images, labels = next(iter(trainloader))\n",
    "images = images.view(images.shape[0], -1)\n",
    "\n",
    "#logits = model(images)   # not logits but log probs\n",
    "log_ps = model(images)\n",
    "loss = criterion(log_ps, labels)"
   ]
  },
  {
   "cell_type": "code",
   "execution_count": 29,
   "metadata": {},
   "outputs": [
    {
     "name": "stdout",
     "output_type": "stream",
     "text": [
      "Before backward pass: \n",
      " None\n",
      "After backward pass: \n",
      " tensor([[-0.0007, -0.0007, -0.0007,  ..., -0.0007, -0.0007, -0.0007],\n",
      "        [-0.0006, -0.0006, -0.0006,  ..., -0.0006, -0.0006, -0.0006],\n",
      "        [ 0.0002,  0.0002,  0.0002,  ...,  0.0002,  0.0002,  0.0002],\n",
      "        ...,\n",
      "        [-0.0008, -0.0008, -0.0008,  ..., -0.0008, -0.0008, -0.0008],\n",
      "        [-0.0019, -0.0019, -0.0019,  ..., -0.0019, -0.0019, -0.0019],\n",
      "        [ 0.0004,  0.0004,  0.0004,  ...,  0.0004,  0.0004,  0.0004]])\n"
     ]
    }
   ],
   "source": [
    "print('Before backward pass: \\n', model[0].weight.grad)\n",
    "\n",
    "loss.backward()\n",
    "\n",
    "print('After backward pass: \\n', model[0].weight.grad)"
   ]
  },
  {
   "cell_type": "code",
   "execution_count": 30,
   "metadata": {},
   "outputs": [
    {
     "name": "stdout",
     "output_type": "stream",
     "text": [
      "ReLU()\n"
     ]
    }
   ],
   "source": [
    "print(model[1])"
   ]
  },
  {
   "cell_type": "code",
   "execution_count": 31,
   "metadata": {},
   "outputs": [
    {
     "name": "stdout",
     "output_type": "stream",
     "text": [
      "Linear(in_features=128, out_features=64, bias=True)\n"
     ]
    },
    {
     "data": {
      "text/plain": [
       "tensor([[-1.1087e-03,  2.0654e-06, -4.3590e-04,  ..., -1.2367e-03,\n",
       "         -3.5119e-06,  1.6136e-04],\n",
       "        [ 1.3962e-03,  2.1463e-03, -5.3739e-05,  ..., -1.3117e-03,\n",
       "         -2.1864e-03,  4.7114e-04],\n",
       "        [ 1.8693e-03, -1.8274e-03,  7.2046e-04,  ...,  9.1680e-04,\n",
       "         -8.6745e-04, -1.0128e-04],\n",
       "        ...,\n",
       "        [ 5.5407e-03,  1.3846e-03,  8.5199e-03,  ..., -5.9637e-04,\n",
       "          7.4876e-04, -1.4226e-04],\n",
       "        [ 6.8640e-04,  1.8326e-03,  4.6353e-03,  ..., -5.3021e-05,\n",
       "          1.8341e-03, -1.5315e-04],\n",
       "        [ 9.4608e-04,  7.3840e-03,  3.4707e-04,  ...,  2.0351e-03,\n",
       "         -5.5257e-05,  4.9519e-05]])"
      ]
     },
     "execution_count": 31,
     "metadata": {},
     "output_type": "execute_result"
    }
   ],
   "source": [
    "print(model[2])\n",
    "model[2].weight.grad"
   ]
  },
  {
   "cell_type": "markdown",
   "metadata": {},
   "source": [
    "## Training the network!\n",
    "\n",
    "There's one last piece we need to start training, an optimizer that we'll use to update the weights with the gradients. We get these from PyTorch's [`optim` package](https://pytorch.org/docs/stable/optim.html). For example we can use stochastic gradient descent with `optim.SGD`. You can see how to define an optimizer below."
   ]
  },
  {
   "cell_type": "code",
   "execution_count": 32,
   "metadata": {},
   "outputs": [],
   "source": [
    "from torch import optim\n",
    "\n",
    "# Optimizers require the parameters to optimize and a learning rate\n",
    "optimizer = optim.SGD(model.parameters(), lr=0.01)"
   ]
  },
  {
   "cell_type": "markdown",
   "metadata": {},
   "source": [
    "Now we know how to use all the individual parts so it's time to see how they work together. Let's consider just one learning step before looping through all the data. The general process with PyTorch:\n",
    "\n",
    "* Make a forward pass through the network \n",
    "* Use the network output to calculate the loss\n",
    "* Perform a backward pass through the network with `loss.backward()` to calculate the gradients\n",
    "* Take a step with the optimizer to update the weights\n",
    "\n",
    "Below I'll go through one training step and print out the weights and gradients so you can see how it changes. Note that I have a line of code `optimizer.zero_grad()`. When you do multiple backwards passes with the same parameters, the gradients are accumulated. This means that you need to zero the gradients on each training pass or you'll retain gradients from previous training batches."
   ]
  },
  {
   "cell_type": "code",
   "execution_count": 33,
   "metadata": {},
   "outputs": [
    {
     "name": "stdout",
     "output_type": "stream",
     "text": [
      "Initial weights -  Parameter containing:\n",
      "tensor([[ 0.0113, -0.0111,  0.0218,  ...,  0.0077, -0.0232, -0.0061],\n",
      "        [-0.0185, -0.0154, -0.0256,  ...,  0.0024, -0.0228, -0.0218],\n",
      "        [ 0.0339, -0.0355,  0.0174,  ...,  0.0032,  0.0063,  0.0167],\n",
      "        ...,\n",
      "        [ 0.0216,  0.0050, -0.0285,  ..., -0.0320,  0.0273, -0.0230],\n",
      "        [ 0.0269, -0.0009,  0.0202,  ..., -0.0213,  0.0125,  0.0170],\n",
      "        [ 0.0066, -0.0320, -0.0069,  ...,  0.0081, -0.0046, -0.0165]],\n",
      "       requires_grad=True)\n",
      "Gradient - tensor([[ 0.0029,  0.0029,  0.0029,  ...,  0.0029,  0.0029,  0.0029],\n",
      "        [ 0.0036,  0.0036,  0.0036,  ...,  0.0036,  0.0036,  0.0036],\n",
      "        [-0.0007, -0.0007, -0.0007,  ..., -0.0007, -0.0007, -0.0007],\n",
      "        ...,\n",
      "        [ 0.0020,  0.0020,  0.0020,  ...,  0.0020,  0.0020,  0.0020],\n",
      "        [ 0.0008,  0.0008,  0.0008,  ...,  0.0008,  0.0008,  0.0008],\n",
      "        [ 0.0008,  0.0008,  0.0008,  ...,  0.0008,  0.0008,  0.0008]])\n"
     ]
    }
   ],
   "source": [
    "print('Initial weights - ', model[0].weight)\n",
    "\n",
    "images, labels = next(iter(trainloader))\n",
    "images.resize_(64, 784)\n",
    "\n",
    "# Clear the gradients, do this because gradients are accumulated\n",
    "optimizer.zero_grad()\n",
    "\n",
    "# Forward pass, then backward pass, then update weights\n",
    "output = model.forward(images)\n",
    "loss = criterion(output, labels)\n",
    "loss.backward()\n",
    "print('Gradient -', model[0].weight.grad)"
   ]
  },
  {
   "cell_type": "code",
   "execution_count": 34,
   "metadata": {},
   "outputs": [
    {
     "name": "stdout",
     "output_type": "stream",
     "text": [
      "Updated weights -  Parameter containing:\n",
      "tensor([[ 0.0113, -0.0111,  0.0217,  ...,  0.0077, -0.0232, -0.0061],\n",
      "        [-0.0185, -0.0154, -0.0256,  ...,  0.0023, -0.0228, -0.0219],\n",
      "        [ 0.0339, -0.0355,  0.0174,  ...,  0.0032,  0.0064,  0.0167],\n",
      "        ...,\n",
      "        [ 0.0215,  0.0050, -0.0285,  ..., -0.0320,  0.0273, -0.0230],\n",
      "        [ 0.0269, -0.0009,  0.0202,  ..., -0.0213,  0.0125,  0.0170],\n",
      "        [ 0.0066, -0.0320, -0.0069,  ...,  0.0081, -0.0046, -0.0165]],\n",
      "       requires_grad=True)\n"
     ]
    }
   ],
   "source": [
    "# Take an update step and few the new weights\n",
    "optimizer.step()\n",
    "print('Updated weights - ', model[0].weight)"
   ]
  },
  {
   "cell_type": "markdown",
   "metadata": {},
   "source": [
    "### Training for real\n",
    "\n",
    "Now we'll put this algorithm into a loop so we can go through all the images. Some nomenclature, one pass through the entire dataset is called an *epoch*. So here we're going to loop through `trainloader` to get our training batches. For each batch, we'll doing a training pass where we calculate the loss, do a backwards pass, and update the weights.\n",
    "\n",
    ">**Exercise:** Implement the training pass for our network. If you implemented it correctly, you should see the training loss drop with each epoch."
   ]
  },
  {
   "cell_type": "code",
   "execution_count": 35,
   "metadata": {},
   "outputs": [
    {
     "name": "stdout",
     "output_type": "stream",
     "text": [
      "Training loss: 1.8706879618325467\n",
      "Training loss: 0.8165663304105242\n",
      "Training loss: 0.5175800069944182\n",
      "Training loss: 0.42628779487886914\n",
      "Training loss: 0.383319017665981\n"
     ]
    }
   ],
   "source": [
    "## Your solution here\n",
    "\n",
    "model = nn.Sequential(nn.Linear(784, 128),\n",
    "                      nn.ReLU(),\n",
    "                      nn.Linear(128, 64),\n",
    "                      nn.ReLU(),\n",
    "                      nn.Linear(64, 10),\n",
    "                      nn.LogSoftmax(dim=1))\n",
    "\n",
    "criterion = nn.NLLLoss()\n",
    "optimizer = optim.SGD(model.parameters(), lr=0.003)\n",
    "\n",
    "epochs = 5\n",
    "for e in range(epochs):\n",
    "    running_loss = 0\n",
    "    for images, labels in trainloader:\n",
    "        # Flatten MNIST images into a 784 long vector\n",
    "        images = images.view(images.shape[0], -1)\n",
    "    \n",
    "        # TODO: Training pass\n",
    "        optimizer.zero_grad() # Clear the gradients, do this because gradients are accumulated\n",
    "        \n",
    "        output = model.forward(images)\n",
    "        \n",
    "        loss = criterion(output, labels)\n",
    "        loss.backward()\n",
    "        \n",
    "        optimizer.step()\n",
    "                \n",
    "        running_loss += loss.item()\n",
    "    else:\n",
    "        print(f\"Training loss: {running_loss/len(trainloader)}\")"
   ]
  },
  {
   "cell_type": "markdown",
   "metadata": {},
   "source": [
    "With the network trained, we can check out it's predictions."
   ]
  },
  {
   "cell_type": "code",
   "execution_count": 38,
   "metadata": {},
   "outputs": [
    {
     "data": {
      "image/png": "[encoded data removed]",
      "text/plain": [
       "<Figure size 432x648 with 2 Axes>"
      ]
     },
     "metadata": {},
     "output_type": "display_data"
    }
   ],
   "source": [
    "%matplotlib inline\n",
    "import helper\n",
    "\n",
    "images, labels = next(iter(trainloader))\n",
    "\n",
    "img = images[0].view(1, 784)\n",
    "# Turn off gradients to speed up this part\n",
    "with torch.no_grad():\n",
    "    logits = model.forward(img)\n",
    "\n",
    "# Output of the network are logits, need to take softmax for probabilities\n",
    "ps = F.softmax(logits, dim=1)\n",
    "helper.view_classify(img.view(1, 28, 28), ps)\n"
   ]
  },
  {
   "cell_type": "code",
   "execution_count": 39,
   "metadata": {},
   "outputs": [
    {
     "name": "stdout",
     "output_type": "stream",
     "text": [
      "tensor([[ -8.0952, -15.2142,  -6.5431, -14.8854,  -0.0451,  -8.8649,  -5.0108,\n",
      "          -7.8298,  -5.5989,  -3.4599]])\n",
      "tensor([[3.0501e-04, 2.4693e-07, 1.4400e-03, 3.4305e-07, 9.5592e-01, 1.4126e-04,\n",
      "         6.6658e-03, 3.9771e-04, 3.7020e-03, 3.1432e-02]])\n"
     ]
    }
   ],
   "source": [
    "# check\n",
    "print(logits)\n",
    "print(ps)"
   ]
  },
  {
   "cell_type": "markdown",
   "metadata": {},
   "source": [
    "Now our network is brilliant. It can accurately predict the digits in our images. Next up you'll write the code for training a neural network on a more complex dataset."
   ]
  }
 ],
 "metadata": {
  "kernelspec": {
   "display_name": "Python [default]",
   "language": "python",
   "name": "python3"
  },
  "language_info": {
   "codemirror_mode": {
    "name": "ipython",
    "version": 3
   },
   "file_extension": ".py",
   "mimetype": "text/x-python",
   "name": "python",
   "nbconvert_exporter": "python",
   "pygments_lexer": "ipython3",
   "version": "3.6.6"
  }
 },
 "nbformat": 4,
 "nbformat_minor": 2
}
