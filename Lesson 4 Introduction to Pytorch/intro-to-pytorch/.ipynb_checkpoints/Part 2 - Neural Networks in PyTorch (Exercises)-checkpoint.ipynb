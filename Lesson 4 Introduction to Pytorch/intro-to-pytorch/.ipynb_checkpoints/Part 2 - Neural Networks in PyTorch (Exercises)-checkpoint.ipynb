{
 "cells": [
  {
   "cell_type": "markdown",
   "metadata": {},
   "source": [
    "# Neural networks with PyTorch\n",
    "\n",
    "Deep learning networks tend to be massive with dozens or hundreds of layers, that's where the term \"deep\" comes from. You can build one of these deep networks using only weight matrices as we did in the previous notebook, but in general it's very cumbersome and difficult to implement. PyTorch has a nice module `nn` that provides a nice way to efficiently build large neural networks."
   ]
  },
  {
   "cell_type": "code",
   "execution_count": 2,
   "metadata": {},
   "outputs": [],
   "source": [
    "# Import necessary packages\n",
    "\n",
    "%matplotlib inline\n",
    "%config InlineBackend.figure_format = 'retina'\n",
    "\n",
    "import numpy as np\n",
    "import torch\n",
    "\n",
    "import helper\n",
    "\n",
    "import matplotlib.pyplot as plt"
   ]
  },
  {
   "cell_type": "markdown",
   "metadata": {},
   "source": [
    "\n",
    "Now we're going to build a larger network that can solve a (formerly) difficult problem, identifying text in an image. Here we'll use the MNIST dataset which consists of greyscale handwritten digits. Each image is 28x28 pixels, you can see a sample below\n",
    "\n",
    "<img src='assets/mnist.png'>\n",
    "\n",
    "Our goal is to build a neural network that can take one of these images and predict the digit in the image.\n",
    "\n",
    "First up, we need to get our dataset. This is provided through the `torchvision` package. The code below will download the MNIST dataset, then create training and test datasets for us. Don't worry too much about the details here, you'll learn more about this later."
   ]
  },
  {
   "cell_type": "code",
   "execution_count": 3,
   "metadata": {},
   "outputs": [],
   "source": [
    "### Run this cell\n",
    "\n",
    "from torchvision import datasets, transforms\n",
    "\n",
    "# Define a transform to normalize the data\n",
    "transform = transforms.Compose([transforms.ToTensor(),\n",
    "                              transforms.Normalize((0.5,), (0.5,)),\n",
    "                              ])\n",
    "\n",
    "# Download and load the training data\n",
    "trainset = datasets.MNIST('~/.pytorch/MNIST_data/', download=True, train=True, transform=transform)\n",
    "trainloader = torch.utils.data.DataLoader(trainset, batch_size=64, shuffle=True)"
   ]
  },
  {
   "cell_type": "markdown",
   "metadata": {},
   "source": [
    "We have the training data loaded into `trainloader` and we make that an iterator with `iter(trainloader)`. Later, we'll use this to loop through the dataset for training, like\n",
    "\n",
    "```python\n",
    "for image, label in trainloader:\n",
    "    ## do things with images and labels\n",
    "```\n",
    "\n",
    "You'll notice I created the `trainloader` with a batch size of 64, and `shuffle=True`. The batch size is the number of images we get in one iteration from the data loader and pass through our network, often called a *batch*. And `shuffle=True` tells it to shuffle the dataset every time we start going through the data loader again. But here I'm just grabbing the first batch so we can check out the data. We can see below that `images` is just a tensor with size `(64, 1, 28, 28)`. So, 64 images per batch, 1 color channel, and 28x28 images."
   ]
  },
  {
   "cell_type": "code",
   "execution_count": 4,
   "metadata": {},
   "outputs": [
    {
     "name": "stdout",
     "output_type": "stream",
     "text": [
      "<class 'torch.Tensor'>\n",
      "torch.Size([64, 1, 28, 28])\n",
      "torch.Size([64])\n"
     ]
    }
   ],
   "source": [
    "dataiter = iter(trainloader)\n",
    "images, labels = dataiter.next()\n",
    "print(type(images))\n",
    "print(images.shape)\n",
    "print(labels.shape)"
   ]
  },
  {
   "cell_type": "markdown",
   "metadata": {},
   "source": [
    "This is what one of the images looks like. "
   ]
  },
  {
   "cell_type": "code",
   "execution_count": 5,
   "metadata": {},
   "outputs": [
    {
     "data": {
      "image/png": "[encoded data removed]",
      "text/plain": [
       "<Figure size 432x288 with 1 Axes>"
      ]
     },
     "metadata": {
      "image/png": {
       "height": 250,
       "width": 253
      }
     },
     "output_type": "display_data"
    }
   ],
   "source": [
    "plt.imshow(images[1].numpy().squeeze(), cmap='Greys_r');"
   ]
  },
  {
   "cell_type": "markdown",
   "metadata": {},
   "source": [
    "First, let's try to build a simple network for this dataset using weight matrices and matrix multiplications. Then, we'll see how to do it using PyTorch's `nn` module which provides a much more convenient and powerful method for defining network architectures.\n",
    "\n",
    "The networks you've seen so far are called *fully-connected* or *dense* networks. Each unit in one layer is connected to each unit in the next layer. In fully-connected networks, the input to each layer must be a one-dimensional vector (which can be stacked into a 2D tensor as a batch of multiple examples). However, our images are 28x28 2D tensors, so we need to convert them into 1D vectors. Thinking about sizes, we need to convert the batch of images with shape `(64, 1, 28, 28)` to a have a shape of `(64, 784)`, 784 is 28 times 28. This is typically called *flattening*, we flattened the 2D images into 1D vectors.\n",
    "\n",
    "Previously you built a network with one output unit. Here we need 10 output units, one for each digit. We want our network to predict the digit shown in an image, so what we'll do is calculate probabilities that the image is of any one digit or class. This ends up being a discrete probability distribution over the classes (digits) that tells us the most likely class for the image. That means we need 10 output units for the 10 classes (digits). We'll see how to convert the network output into a probability distribution next.\n",
    "\n",
    "> **Exercise:** Flatten the batch of images `images`. Then build a multi-layer network with 784 input units, 256 hidden units, and 10 output units using random tensors for the weights and biases. For now, use a sigmoid activation for the hidden layer. Leave the output layer without an activation, we'll add one that gives us a probability distribution next."
   ]
  },
  {
   "cell_type": "code",
   "execution_count": 6,
   "metadata": {},
   "outputs": [],
   "source": [
    "def activation(x):\n",
    "    \"\"\" Sigmoid activation function \n",
    "    \n",
    "        Arguments\n",
    "        ---------\n",
    "        x: torch.Tensor\n",
    "    \"\"\"\n",
    "    return 1/(1+torch.exp(-x))"
   ]
  },
  {
   "cell_type": "code",
   "execution_count": 7,
   "metadata": {},
   "outputs": [
    {
     "name": "stdout",
     "output_type": "stream",
     "text": [
      "torch.Size([64, 1, 28, 28])\n",
      "torch.Size([64, 784])\n"
     ]
    }
   ],
   "source": [
    "## Your solution\n",
    "\n",
    "print(images.shape)\n",
    "print(images.view(64, -1).shape) # reshape to flatten images"
   ]
  },
  {
   "cell_type": "code",
   "execution_count": 8,
   "metadata": {},
   "outputs": [],
   "source": [
    "### Generate some data\n",
    "torch.manual_seed(7) # Set the random seed so things are predictable\n",
    "\n",
    "# Features are 3 random normal variables\n",
    "#features = torch.randn((1, 784))\n",
    "inputs = images.view(64, -1)\n",
    "\n",
    "# Define the size of each layer in our network\n",
    "n_input = inputs.shape[1]     # Number of input units, must match number of input features\n",
    "n_hidden = 256                  # Number of hidden units \n",
    "n_output = 10                   # Number of output units\n",
    "\n",
    "# Weights for inputs to hidden layer\n",
    "W1 = torch.randn(n_input, n_hidden)\n",
    "# Weights for hidden layer to output layer\n",
    "W2 = torch.randn(n_hidden, n_output)\n",
    "\n",
    "# and bias terms for hidden and output layers\n",
    "B1 = torch.randn((1, n_hidden))\n",
    "B2 = torch.randn((1, n_output))"
   ]
  },
  {
   "cell_type": "code",
   "execution_count": 9,
   "metadata": {},
   "outputs": [
    {
     "name": "stdout",
     "output_type": "stream",
     "text": [
      "torch.Size([64, 784])\n",
      "torch.Size([784, 256])\n",
      "torch.Size([256, 10])\n"
     ]
    }
   ],
   "source": [
    "print(inputs.shape)\n",
    "print(W1.shape)\n",
    "print(W2.shape)"
   ]
  },
  {
   "cell_type": "code",
   "execution_count": 10,
   "metadata": {},
   "outputs": [
    {
     "data": {
      "text/plain": [
       "torch.Size([64, 256])"
      ]
     },
     "execution_count": 10,
     "metadata": {},
     "output_type": "execute_result"
    }
   ],
   "source": [
    "hidden = activation(torch.mm(inputs, W1) + B1)\n",
    "hidden.shape"
   ]
  },
  {
   "cell_type": "code",
   "execution_count": 11,
   "metadata": {},
   "outputs": [],
   "source": [
    "out = torch.mm(hidden, W2) + B2  # not passed to activation function"
   ]
  },
  {
   "cell_type": "code",
   "execution_count": 12,
   "metadata": {},
   "outputs": [
    {
     "data": {
      "text/plain": [
       "torch.Size([64, 10])"
      ]
     },
     "execution_count": 12,
     "metadata": {},
     "output_type": "execute_result"
    }
   ],
   "source": [
    "# output of your network, should have shape (64,10)\n",
    "out.shape"
   ]
  },
  {
   "cell_type": "code",
   "execution_count": 13,
   "metadata": {},
   "outputs": [
    {
     "data": {
      "text/plain": [
       "tensor([[-18.3083, -10.6155,  -1.0651, -10.8511,   9.2968,  14.8986,  -5.9896,\n",
       "          -6.7379, -12.3506,  -3.2874],\n",
       "        [-25.3180,  -3.3452,   5.9745,  -2.2903,   9.4556,  14.5587,   1.1606,\n",
       "           1.7954, -10.0929,  -4.5207],\n",
       "        [-16.4635,  -6.9080,   6.8428,  -8.5903,   7.0538,   8.2412,   4.0987,\n",
       "           5.0480, -19.5869,  -2.2061],\n",
       "        [-10.6710,  -5.8994,   4.7093,  -7.2373,  15.1306,   3.5417, -18.0944,\n",
       "          -4.8478,  -3.4908,  -9.2918],\n",
       "        [-14.7978,  -7.2877,   4.2880, -19.8943,   2.5646,   6.3476,  -9.5308,\n",
       "           1.7477,  -8.9969,  -0.5977],\n",
       "        [-10.1335,  -6.9381,  -4.7487,  -5.1108,   3.2776,  10.4235,  -6.0631,\n",
       "           6.1909, -11.8272,  -2.3015],\n",
       "        [-21.4439,   3.8690,  11.5870,  -1.1598,   5.4574,  15.5698, -12.7639,\n",
       "          -8.6301,  -4.1482,   1.6196],\n",
       "        [ -4.4920,  -7.6101,   1.4313, -11.5645,  -0.6417,   7.4102,  -6.6938,\n",
       "           3.7887,  -8.1135,  -6.2233],\n",
       "        [-14.2907,  -6.1788,   1.3451,  -4.2491,  11.1676,  15.4771,  -7.8991,\n",
       "           5.5442, -19.7469,  -3.5353],\n",
       "        [-16.0591, -10.5494, -11.9537,  -7.3251,   6.8012,   0.9919,   0.7904,\n",
       "           0.6410, -17.9864,  -2.3997],\n",
       "        [ -6.6697, -10.4934,  -0.2487,  -4.5654,  19.3381,   8.2521, -13.3369,\n",
       "          -1.2781, -14.2701,  -9.8172],\n",
       "        [-11.2092,  -2.3093,   1.3791, -17.6969,   4.6218,  13.4495, -16.8412,\n",
       "          -3.7626,  -6.8871,   4.5493],\n",
       "        [-11.8985,  -7.5170,  -3.9342,  -7.5259,   4.0220,   5.6398, -14.0638,\n",
       "          -4.3586,  -9.8875,  -2.0566],\n",
       "        [ -9.1466, -12.1946,  -6.8645, -13.0992,   1.6513,  13.7581,  -1.7711,\n",
       "           0.3496, -10.2162,  -8.6285],\n",
       "        [-12.1915,  -4.5650,   2.3249,   0.6888,   2.5964,   9.9475, -16.4740,\n",
       "         -12.2577,  -2.1305,   5.2544],\n",
       "        [-12.6195, -11.4279,  -1.1835,  -6.7760,   8.2447,   0.3344, -10.8771,\n",
       "           8.6603,  -9.1061,  -3.2928],\n",
       "        [ -7.0968,  -3.4894,   2.5455,  -6.1684,   6.1875,   4.2721,  -3.1849,\n",
       "          -0.3841, -10.7980,  -0.0828],\n",
       "        [ -5.2133, -16.1567,   7.4583, -12.6495,  -0.3697,   1.8827, -10.7880,\n",
       "          -0.6550,  -6.8723,  -9.7055],\n",
       "        [-24.3996,  -6.1460,  -0.8466, -13.2814,   1.2677,   1.2381, -10.5523,\n",
       "          -0.0627, -12.2331,  -6.4556],\n",
       "        [-12.7917,  -2.7084,   1.1573,  -6.8206,   4.4144,  12.7987, -15.7519,\n",
       "         -17.1903, -12.9459,  -0.7384],\n",
       "        [-17.0693,  -1.4889,   5.9386,  -3.5911,  21.0706,  -2.0542, -10.2918,\n",
       "          -1.3148, -16.1547,  -5.4607],\n",
       "        [ -4.8167,  -9.5727,   3.1747, -11.6576,   7.7008,  13.3817,  -2.3912,\n",
       "          -2.7862, -13.1303,   1.0644],\n",
       "        [-10.4497,  -9.7583,   4.9737, -12.2076,  -0.9461,  20.3888,   1.3618,\n",
       "          12.0358, -11.1276,  -5.7745],\n",
       "        [-13.8976, -18.0043,  -4.4284,  -4.4272,   4.6765,   8.9619,   1.4984,\n",
       "           3.5299,  -2.5910,   0.1659],\n",
       "        [ -7.0325,  -6.8953,   2.0409, -19.1492,   0.9990,  11.9309,   5.3844,\n",
       "          -2.0242, -16.5921,   1.7422],\n",
       "        [-13.3752,  -8.0394,  -1.8296, -11.3574,   5.6704,  13.8495, -14.6363,\n",
       "         -19.9975, -14.3647,  -2.0373],\n",
       "        [ -7.9084,  -3.4712,  -2.0579, -18.2151,   4.8788,   5.8240, -10.2436,\n",
       "         -10.6158, -20.2997,  -2.0530],\n",
       "        [-15.9457,  -3.3921,   5.5891, -17.0786,   7.2950,  10.0418,  -8.7866,\n",
       "           6.7183, -10.0759,  -0.0572],\n",
       "        [-17.1851,  -3.2331,  -8.9980, -14.3881,   0.9910,  10.5411,  -8.4112,\n",
       "          -7.0672, -12.6725,   2.4907],\n",
       "        [-18.8258,  -6.1245,   2.5215,  -4.5452,  10.3469,   6.9562,  -4.1731,\n",
       "           6.3954, -17.4273,  -0.2647],\n",
       "        [-13.4060,  -7.3016,   0.3306,   1.3806,   8.9333,   9.3023,  -2.7448,\n",
       "          -3.8545,  -7.7666, -10.3043],\n",
       "        [-19.4183,  -8.8764,   3.5798, -11.1369,   1.0788,   4.9814,  -6.1557,\n",
       "           3.6929, -16.2837,  -1.4694],\n",
       "        [-17.5481,   7.4311,  -0.9866, -10.5888,   6.1495,   4.7923,  -7.1599,\n",
       "          -4.9372,  -7.9726,  -0.6864],\n",
       "        [-12.4771,  -4.9197,   6.5246, -15.9620,   0.2164,   7.0994,   3.5922,\n",
       "          -0.3621, -15.5973,   4.6619],\n",
       "        [-14.0204, -15.1606,   1.9258, -10.3265,   1.4406,  -0.3732,  -3.9346,\n",
       "           0.2458, -17.5682,   0.4139],\n",
       "        [-11.8957, -11.3463,  -1.8689,  -3.8560,   5.1765,  12.7251,  -4.8677,\n",
       "          10.1910, -10.5046,   1.2271],\n",
       "        [ -8.4828,  -2.3218,  -1.7592,  -4.1292,   7.0197,   0.6419,  -6.8652,\n",
       "          -1.3305, -21.8633,  -0.0950],\n",
       "        [-22.8447,  -6.6314,  -0.2338, -18.6351,  -3.5292,   2.5969,  -2.9435,\n",
       "           5.4943, -13.6735,   7.7766],\n",
       "        [-16.9215, -17.5969,  -4.1313, -21.2226,  -2.4001,  11.1732,   1.3778,\n",
       "           5.2401,  -5.8882,  -0.3175],\n",
       "        [-10.5738,  -6.5485,   6.0388, -10.9828,   4.2510,   8.7811,  -0.7752,\n",
       "           9.6616,  -7.2723,   0.2195],\n",
       "        [-11.2579,  -6.4301,  -4.9492, -13.3198,  -3.6089,  14.8966,  11.2973,\n",
       "           6.5666, -16.6558,  -0.9627],\n",
       "        [-14.7724,  -5.3827,   2.2548, -18.8324,  14.0905,   3.3261,   1.0514,\n",
       "          15.9051, -13.0421, -10.4787],\n",
       "        [ -6.9796, -15.1288,   3.8693,  -9.9028,   6.3205,   7.8544,  -5.5632,\n",
       "           1.1805,  -9.1783,  -8.4527],\n",
       "        [-17.8502,   2.3185,  -0.0533, -14.1906,   3.8461,   9.6227,   0.9539,\n",
       "          -2.2885, -15.3672,   8.1555],\n",
       "        [-23.7573,  -0.5042,  -4.8101,   1.6207,  -1.4343,   7.2325,  -8.2147,\n",
       "          -0.3293, -15.2600,   6.6701],\n",
       "        [-11.5817, -11.3982,  -1.2424,  -6.9392,  16.3165,   4.0661, -11.4970,\n",
       "           2.2139,  -2.2186,  -0.7945],\n",
       "        [-12.3395,  -3.2951,   8.0145,   2.1010,  10.7352,  12.2008,  -9.3195,\n",
       "          -5.3000, -18.2214,  -8.8928],\n",
       "        [ -9.7223, -11.4266,  -2.7937, -12.7800,   8.2813,  13.1331,  -3.1285,\n",
       "           7.1188, -11.7784,  -7.9692],\n",
       "        [ -7.5812,  -5.0391,   6.0866, -14.3190,  -3.0461,   8.5112,  -5.8442,\n",
       "          -1.3163, -15.7877,  -5.9614],\n",
       "        [-10.6175,  -3.4512,  -1.2530,  -3.8812,  13.1719,   5.8573, -13.4413,\n",
       "          -3.9893,  -8.0373,  -4.9800],\n",
       "        [-18.0437,  -5.9243,   4.9700, -17.6473,   5.7855,   3.0591,  -8.0597,\n",
       "           2.6531,  -9.5009,   3.4585],\n",
       "        [-17.0985, -11.6503,  -0.7349, -14.9769,   0.8994,  14.6674,  -1.0452,\n",
       "          -0.4228, -18.8373,   1.5926],\n",
       "        [ -3.9381, -11.4221,   2.0242,  -6.1223,   1.2464,   1.8692,  -5.9648,\n",
       "          11.0091,  -7.9925,  -7.2756],\n",
       "        [ -7.0063, -10.8062,  -4.5261,  -9.4407,   6.4340,  10.5889,  -8.9501,\n",
       "          -2.7494, -13.4846, -11.1678],\n",
       "        [-14.5239, -20.8656, -11.6106,  -5.1703,   4.4536,   3.1007,   1.0880,\n",
       "           6.5042,  -4.8796,   4.7483],\n",
       "        [-14.3363, -13.9963,  -1.9306, -10.7756,   9.1044,   5.2817,  -5.4698,\n",
       "          -0.2338, -10.8583,  -8.1543],\n",
       "        [-16.4940, -13.3974,  -5.4427,  -7.7907,  11.4096,   5.3506,  -6.1853,\n",
       "           8.1028, -11.4256,  -0.7221],\n",
       "        [-11.4885,  -7.2643,   6.7457, -12.0258,  16.5300,   2.0942,  -8.9792,\n",
       "           6.6154,  -5.8664,  -4.8293],\n",
       "        [-15.1386,  -6.4987,   4.1788,   5.7638,   7.3364,  12.8046, -11.7120,\n",
       "         -12.0414, -10.8904,   1.2827],\n",
       "        [ -9.9667,  -9.0526,  -2.9307,  -5.5655,   8.7661,  13.8840,  -1.5997,\n",
       "           7.7065, -10.6800,  -3.8294],\n",
       "        [-14.2929, -11.1718,   4.3142,  -7.6704,  16.7301,   6.9329,  -4.0373,\n",
       "          -0.1995, -11.6640,  -4.1366],\n",
       "        [-23.5191, -14.3830,  -1.6021,  -4.0431,  -0.2269,   5.2682,   3.8016,\n",
       "           4.6120, -15.9176,   0.6130],\n",
       "        [ -9.6179,   4.3843,   0.0303, -15.9106,   4.4346,  12.4431, -12.8735,\n",
       "         -10.3447, -20.5281,  -0.8413],\n",
       "        [-10.0352, -15.7533,   5.5282,  -9.0509,   4.0469,   2.0173,  -6.8213,\n",
       "           2.7793, -10.4098,  -7.6934]])"
      ]
     },
     "execution_count": 13,
     "metadata": {},
     "output_type": "execute_result"
    }
   ],
   "source": [
    "out"
   ]
  },
  {
   "cell_type": "markdown",
   "metadata": {},
   "source": [
    "Now we have 10 outputs for our network. We want to pass in an image to our network and get out a probability distribution over the classes that tells us the likely class(es) the image belongs to. Something that looks like this:\n",
    "<img src='assets/image_distribution.png' width=500px>\n",
    "\n",
    "Here we see that the probability for each class is roughly the same. This is representing an untrained network, it hasn't seen any data yet so it just returns a uniform distribution with equal probabilities for each class.\n",
    "\n",
    "To calculate this probability distribution, we often use the [**softmax** function](https://en.wikipedia.org/wiki/Softmax_function). Mathematically this looks like\n",
    "\n",
    "$$\n",
    "\\Large \\sigma(x_i) = \\cfrac{e^{x_i}}{\\sum_k^K{e^{x_k}}}\n",
    "$$\n",
    "\n",
    "What this does is squish each input $x_i$ between 0 and 1 and normalizes the values to give you a proper probability distribution where the probabilites sum up to one.\n",
    "\n",
    "> **Exercise:** Implement a function `softmax` that performs the softmax calculation and returns probability distributions for each example in the batch. Note that you'll need to pay attention to the shapes when doing this. If you have a tensor `a` with shape `(64, 10)` and a tensor `b` with shape `(64,)`, doing `a/b` will give you an error because PyTorch will try to do the division across the columns (called broadcasting) but you'll get a size mismatch. The way to think about this is for each of the 64 examples, you only want to divide by one value, the sum in the denominator. So you need `b` to have a shape of `(64, 1)`. This way PyTorch will divide the 10 values in each row of `a` by the one value in each row of `b`. Pay attention to how you take the sum as well. You'll need to define the `dim` keyword in `torch.sum`. Setting `dim=0` takes the sum across the rows while `dim=1` takes the sum across the columns."
   ]
  },
  {
   "cell_type": "code",
   "execution_count": 14,
   "metadata": {},
   "outputs": [
    {
     "data": {
      "text/plain": [
       "tensor([[-45.0102],\n",
       "        [-12.6224],\n",
       "        [-22.4703],\n",
       "        [-36.1508],\n",
       "        [-46.1572],\n",
       "        [-27.2310],\n",
       "        [-10.0431],\n",
       "        [-32.7086],\n",
       "        [-22.3659],\n",
       "        [-57.0488],\n",
       "        [-33.0893],\n",
       "        [-34.7066],\n",
       "        [-51.5803],\n",
       "        [-46.1617],\n",
       "        [-26.8067],\n",
       "        [-38.0437],\n",
       "        [-18.1993],\n",
       "        [-53.0691],\n",
       "        [-71.4714],\n",
       "        [-50.5768],\n",
       "        [-30.4163],\n",
       "        [-19.0331],\n",
       "        [-11.5036],\n",
       "        [-24.5160],\n",
       "        [-29.5958],\n",
       "        [-66.1174],\n",
       "        [-64.1619],\n",
       "        [-25.6918],\n",
       "        [-57.9325],\n",
       "        [-25.1408],\n",
       "        [-25.4310],\n",
       "        [-50.0075],\n",
       "        [-31.5069],\n",
       "        [-27.2238],\n",
       "        [-57.3575],\n",
       "        [-15.0194],\n",
       "        [-39.1854],\n",
       "        [-52.6235],\n",
       "        [-50.6870],\n",
       "        [ -7.2006],\n",
       "        [-24.4239],\n",
       "        [-25.8805],\n",
       "        [-35.9806],\n",
       "        [-24.8530],\n",
       "        [-38.7866],\n",
       "        [-23.0750],\n",
       "        [-24.3166],\n",
       "        [-31.0654],\n",
       "        [-44.2971],\n",
       "        [-30.6216],\n",
       "        [-39.2496],\n",
       "        [-47.6064],\n",
       "        [-26.5665],\n",
       "        [-51.1083],\n",
       "        [-37.1552],\n",
       "        [-51.3689],\n",
       "        [-36.5949],\n",
       "        [-18.4683],\n",
       "        [-24.9147],\n",
       "        [-13.2680],\n",
       "        [-25.1953],\n",
       "        [-45.3968],\n",
       "        [-48.8238],\n",
       "        [-45.3922]])"
      ]
     },
     "execution_count": 14,
     "metadata": {},
     "output_type": "execute_result"
    }
   ],
   "source": [
    "torch.sum(out, dim=1).view(-1, 1)"
   ]
  },
  {
   "cell_type": "code",
   "execution_count": 15,
   "metadata": {},
   "outputs": [],
   "source": [
    "def softmax(x):\n",
    "    ## TODO: Implement the softmax function here\n",
    "    # new call to view to reshape to 64x1\n",
    "    return torch.exp(x) / torch.sum(torch.exp(x), dim=1).view(-1, 1)"
   ]
  },
  {
   "cell_type": "code",
   "execution_count": 16,
   "metadata": {},
   "outputs": [
    {
     "name": "stdout",
     "output_type": "stream",
     "text": [
      "torch.Size([64, 10])\n",
      "tensor([1.0000, 1.0000, 1.0000, 1.0000, 1.0000, 1.0000, 1.0000, 1.0000, 1.0000,\n",
      "        1.0000, 1.0000, 1.0000, 1.0000, 1.0000, 1.0000, 1.0000, 1.0000, 1.0000,\n",
      "        1.0000, 1.0000, 1.0000, 1.0000, 1.0000, 1.0000, 1.0000, 1.0000, 1.0000,\n",
      "        1.0000, 1.0000, 1.0000, 1.0000, 1.0000, 1.0000, 1.0000, 1.0000, 1.0000,\n",
      "        1.0000, 1.0000, 1.0000, 1.0000, 1.0000, 1.0000, 1.0000, 1.0000, 1.0000,\n",
      "        1.0000, 1.0000, 1.0000, 1.0000, 1.0000, 1.0000, 1.0000, 1.0000, 1.0000,\n",
      "        1.0000, 1.0000, 1.0000, 1.0000, 1.0000, 1.0000, 1.0000, 1.0000, 1.0000,\n",
      "        1.0000])\n"
     ]
    }
   ],
   "source": [
    "# Here, out should be the output of the network in the previous excercise with shape (64,10)\n",
    "probabilities = softmax(out)\n",
    "\n",
    "# Does it have the right shape? Should be (64, 10)\n",
    "print(probabilities.shape)\n",
    "# Does it sum to 1?\n",
    "print(probabilities.sum(dim=1))"
   ]
  },
  {
   "cell_type": "code",
   "execution_count": 17,
   "metadata": {},
   "outputs": [
    {
     "data": {
      "text/plain": [
       "tensor([[3.7744e-15, 8.2751e-12, 1.1626e-07, 6.5380e-12, 3.6778e-03, 9.9632e-01,\n",
       "         8.4481e-10, 3.9976e-10, 1.4595e-12, 1.2598e-08],\n",
       "        [4.7758e-18, 1.6662e-08, 1.8588e-04, 4.7850e-08, 6.0402e-03, 9.9377e-01,\n",
       "         1.5085e-06, 2.8461e-06, 1.9555e-11, 5.1429e-09],\n",
       "        [1.1597e-11, 1.6378e-07, 1.5352e-01, 3.0453e-08, 1.8957e-01, 6.2151e-01,\n",
       "         9.8723e-03, 2.5508e-02, 5.1036e-13, 1.8041e-05],\n",
       "        [6.2302e-12, 7.3586e-10, 2.9792e-05, 1.9308e-10, 9.9996e-01, 9.2679e-06,\n",
       "         3.7202e-15, 2.1062e-09, 8.1815e-09, 2.4745e-11],\n",
       "        [5.6458e-10, 1.0312e-06, 1.0980e-01, 3.4543e-12, 1.9595e-02, 8.6112e-01,\n",
       "         1.0944e-07, 8.6569e-03, 1.8665e-07, 8.2940e-04],\n",
       "        [1.1631e-09, 2.8401e-08, 2.5363e-07, 1.7657e-07, 7.7617e-04, 9.8492e-01,\n",
       "         6.8132e-08, 1.4296e-02, 2.1381e-10, 2.9309e-06],\n",
       "        [8.2624e-17, 8.1356e-06, 1.8292e-02, 5.3259e-08, 3.9831e-05, 9.8166e-01,\n",
       "         4.8621e-13, 3.0346e-11, 2.6825e-09, 8.5800e-07],\n",
       "        [6.5809e-06, 2.9113e-07, 2.4588e-03, 5.5813e-09, 3.0932e-04, 9.7125e-01,\n",
       "         7.2787e-07, 2.5973e-02, 1.7598e-07, 1.1652e-06],\n",
       "        [1.1647e-13, 3.8830e-10, 7.1905e-07, 2.6744e-09, 1.3261e-02, 9.8669e-01,\n",
       "         6.9509e-11, 4.7908e-05, 4.9728e-16, 5.4601e-09],\n",
       "        [1.1710e-10, 2.8934e-08, 7.1046e-09, 7.2730e-07, 9.9239e-01, 2.9767e-03,\n",
       "         2.4335e-03, 2.0957e-03, 1.7044e-11, 1.0018e-04],\n",
       "        [5.0693e-12, 1.1075e-13, 3.1157e-09, 4.1576e-11, 9.9998e-01, 1.5326e-05,\n",
       "         6.4481e-15, 1.1130e-09, 2.5361e-15, 2.1778e-13],\n",
       "        [1.9533e-11, 1.4320e-07, 5.7254e-06, 2.9728e-14, 1.4659e-04, 9.9971e-01,\n",
       "         6.9951e-14, 3.3478e-08, 1.4717e-09, 1.3633e-04],\n",
       "        [2.0157e-08, 1.6117e-06, 5.7979e-05, 1.5975e-06, 1.6543e-01, 8.3409e-01,\n",
       "         2.3123e-09, 3.7928e-05, 1.5059e-07, 3.7905e-04],\n",
       "        [1.1287e-10, 5.3562e-12, 1.1059e-09, 2.1678e-12, 5.5214e-06, 9.9999e-01,\n",
       "         1.8020e-07, 1.5022e-06, 3.8734e-11, 1.8950e-10],\n",
       "        [2.4027e-10, 4.9295e-07, 4.8422e-04, 9.4298e-05, 6.3531e-04, 9.8972e-01,\n",
       "         3.3175e-12, 2.2486e-10, 5.6249e-06, 9.0639e-03],\n",
       "        [3.4523e-10, 1.1366e-09, 3.1967e-05, 1.1910e-07, 3.9750e-01, 1.4586e-04,\n",
       "         1.9716e-09, 6.0232e-01, 1.1587e-08, 3.8783e-06],\n",
       "        [1.4453e-06, 5.3288e-05, 2.2263e-02, 3.6572e-06, 8.4967e-01, 1.2514e-01,\n",
       "         7.2259e-05, 1.1892e-03, 3.5689e-08, 1.6074e-03],\n",
       "        [3.1249e-06, 5.5234e-11, 9.9553e-01, 1.8422e-09, 3.9662e-04, 3.7721e-03,\n",
       "         1.1852e-08, 2.9819e-04, 5.9476e-07, 3.4987e-08],\n",
       "        [3.0231e-12, 2.5581e-04, 5.1218e-02, 2.0372e-07, 4.2427e-01, 4.1190e-01,\n",
       "         3.1209e-06, 1.1216e-01, 5.8116e-07, 1.8769e-04],\n",
       "        [7.6933e-12, 1.8418e-07, 8.7916e-06, 3.0154e-09, 2.2836e-04, 9.9976e-01,\n",
       "         3.9858e-13, 9.4581e-14, 6.5936e-12, 1.3206e-06],\n",
       "        [2.7294e-17, 1.5941e-10, 2.6807e-07, 1.9479e-11, 1.0000e+00, 9.0578e-11,\n",
       "         2.3960e-14, 1.8974e-10, 6.8114e-17, 3.0033e-12],\n",
       "        [1.2447e-08, 1.0704e-10, 3.6785e-05, 1.3307e-11, 3.3989e-03, 9.9656e-01,\n",
       "         1.4075e-07, 9.4818e-08, 3.0513e-12, 4.4581e-06],\n",
       "        [4.0448e-14, 8.0750e-14, 2.0193e-07, 6.9733e-15, 5.4233e-10, 9.9976e-01,\n",
       "         5.4522e-09, 2.3563e-04, 2.0534e-14, 4.3381e-12],\n",
       "        [1.1591e-10, 1.9081e-12, 1.5015e-06, 1.5033e-06, 1.3513e-02, 9.8147e-01,\n",
       "         5.6299e-04, 4.2933e-03, 9.4305e-06, 1.4853e-04],\n",
       "        [5.8030e-09, 6.6565e-09, 5.0601e-05, 3.1729e-14, 1.7851e-05, 9.9846e-01,\n",
       "         1.4330e-03, 8.6843e-07, 4.0924e-13, 3.7538e-05],\n",
       "        [1.5009e-12, 3.1163e-10, 1.5508e-07, 1.1289e-11, 2.8037e-04, 9.9972e-01,\n",
       "         4.2527e-13, 1.9967e-15, 5.5797e-13, 1.2599e-07],\n",
       "        [7.8211e-07, 6.6117e-05, 2.7171e-04, 2.6128e-11, 2.7969e-01, 7.1970e-01,\n",
       "         7.5700e-08, 5.2173e-08, 3.2493e-12, 2.7304e-04],\n",
       "        [4.6531e-12, 1.3173e-06, 1.0475e-02, 1.4987e-12, 5.7679e-02, 8.9940e-01,\n",
       "         5.9827e-09, 3.2404e-02, 1.6480e-09, 3.6985e-05],\n",
       "        [9.0886e-13, 1.0418e-06, 3.2668e-09, 1.4902e-11, 7.1172e-05, 9.9961e-01,\n",
       "         5.8742e-09, 2.2525e-08, 8.2853e-11, 3.1886e-04],\n",
       "        [2.0319e-13, 6.6681e-08, 3.7924e-04, 3.2351e-07, 9.4936e-01, 3.1980e-02,\n",
       "         4.6936e-07, 1.8254e-02, 8.2272e-13, 2.3382e-05],\n",
       "        [8.1197e-11, 3.6361e-08, 7.5031e-05, 2.1443e-04, 4.0865e-01, 5.9106e-01,\n",
       "         3.4644e-06, 1.1420e-06, 2.2839e-08, 1.8054e-09],\n",
       "        [1.6398e-11, 6.2099e-07, 1.5949e-01, 6.4764e-08, 1.3079e-02, 6.4781e-01,\n",
       "         9.4336e-06, 1.7858e-01, 3.7682e-10, 1.0230e-03],\n",
       "        [1.0508e-11, 7.4098e-01, 1.6370e-04, 1.1063e-08, 2.0569e-01, 5.2941e-02,\n",
       "         3.4123e-07, 3.1502e-06, 1.5138e-07, 2.2102e-04],\n",
       "        [1.8718e-09, 3.5843e-06, 3.3466e-01, 5.7382e-11, 6.0949e-04, 5.9461e-01,\n",
       "         1.7827e-02, 3.4176e-04, 8.2637e-11, 5.1956e-02],\n",
       "        [5.5870e-08, 1.7863e-08, 4.7045e-01, 2.2459e-06, 2.8960e-01, 4.7213e-02,\n",
       "         1.3409e-03, 8.7676e-02, 1.6083e-09, 1.0372e-01],\n",
       "        [1.8790e-11, 3.2549e-11, 4.2514e-07, 5.8284e-08, 4.8788e-04, 9.2604e-01,\n",
       "         2.1192e-08, 7.3463e-02, 7.5525e-11, 9.3997e-06],\n",
       "        [1.8451e-07, 8.7444e-05, 1.5348e-04, 1.4348e-05, 9.9700e-01, 1.6937e-03,\n",
       "         9.3012e-07, 2.3564e-04, 2.8506e-13, 8.1058e-04],\n",
       "        [4.5371e-14, 4.9901e-07, 2.9962e-04, 3.0547e-12, 1.1102e-05, 5.0807e-03,\n",
       "         1.9941e-05, 9.2103e-02, 4.3630e-10, 9.0249e-01],\n",
       "        [6.2727e-13, 3.1923e-13, 2.2498e-07, 8.5014e-15, 1.2706e-06, 9.9729e-01,\n",
       "         5.5557e-05, 2.6432e-03, 3.8829e-08, 1.0197e-05],\n",
       "        [1.1266e-09, 6.3086e-08, 1.8473e-02, 7.4837e-10, 3.0909e-03, 2.8675e-01,\n",
       "         2.0288e-05, 6.9161e-01, 3.0589e-08, 5.4859e-05],\n",
       "        [4.2602e-12, 5.3225e-10, 2.3402e-09, 5.4194e-13, 8.9399e-09, 9.7316e-01,\n",
       "         2.6610e-02, 2.3468e-04, 1.9282e-14, 1.2606e-07],\n",
       "        [4.0867e-14, 4.8897e-10, 1.0144e-06, 7.0491e-16, 1.4008e-01, 2.9612e-06,\n",
       "         3.0451e-07, 8.5992e-01, 2.3060e-13, 2.9930e-12],\n",
       "        [2.9230e-07, 8.4467e-11, 1.5047e-02, 1.5714e-08, 1.7457e-01, 8.0936e-01,\n",
       "         1.2050e-06, 1.0226e-03, 3.2428e-08, 6.6999e-08],\n",
       "        [9.4870e-13, 5.4486e-04, 5.0845e-05, 3.6852e-11, 2.5103e-03, 8.0999e-01,\n",
       "         1.3921e-04, 5.4385e-06, 1.1363e-11, 1.8676e-01],\n",
       "        [2.2087e-14, 2.7722e-04, 3.7393e-06, 2.3208e-03, 1.0936e-04, 6.3507e-01,\n",
       "         1.2422e-07, 3.3020e-04, 1.0826e-10, 3.6188e-01],\n",
       "        [7.6553e-13, 9.1970e-13, 2.3674e-08, 7.9458e-11, 9.9999e-01, 4.7830e-06,\n",
       "         8.3314e-13, 7.5038e-07, 8.9184e-09, 3.7048e-08],\n",
       "        [1.7648e-11, 1.4949e-07, 1.2199e-02, 3.2971e-05, 1.8531e-01, 8.0246e-01,\n",
       "         3.6163e-10, 2.0132e-08, 4.9229e-14, 5.5408e-10],\n",
       "        [1.1737e-10, 2.1351e-11, 1.1986e-07, 5.5163e-12, 7.7352e-03, 9.8985e-01,\n",
       "         8.5749e-08, 2.4188e-03, 1.5019e-11, 6.7755e-10],\n",
       "        [9.4253e-08, 1.1977e-06, 8.1312e-02, 1.1172e-10, 8.7882e-06, 9.1863e-01,\n",
       "         5.3541e-07, 4.9561e-05, 2.5721e-11, 4.7618e-07],\n",
       "        [4.6572e-11, 6.0311e-08, 5.4335e-07, 3.9233e-08, 9.9933e-01, 6.6530e-04,\n",
       "         2.7654e-12, 3.5215e-08, 6.1475e-10, 1.3075e-08],\n",
       "        [2.7155e-11, 4.9801e-06, 2.6828e-01, 4.0366e-11, 6.0640e-01, 3.9690e-02,\n",
       "         5.8868e-07, 2.6447e-02, 1.3931e-07, 5.9178e-02],\n",
       "        [1.6005e-14, 3.7185e-12, 2.0457e-07, 1.3355e-13, 1.0486e-06, 1.0000e+00,\n",
       "         1.5000e-07, 2.7952e-07, 2.8125e-15, 2.0974e-06],\n",
       "        [3.2240e-07, 1.8120e-10, 1.2526e-04, 3.6294e-08, 5.7544e-05, 1.0727e-04,\n",
       "         4.2486e-08, 9.9971e-01, 5.5924e-09, 1.1454e-08],\n",
       "        [2.2476e-08, 5.0285e-10, 2.6846e-07, 1.9700e-09, 1.5445e-02, 9.8455e-01,\n",
       "         3.2178e-09, 1.5867e-06, 3.4534e-11, 3.5028e-10],\n",
       "        [5.5058e-10, 9.6966e-13, 1.0140e-08, 6.3535e-06, 9.6077e-02, 2.4836e-02,\n",
       "         3.3187e-03, 7.4674e-01, 8.4967e-06, 1.2901e-01],\n",
       "        [6.4623e-11, 9.0794e-11, 1.5781e-05, 2.2740e-09, 9.7850e-01, 2.1399e-02,\n",
       "         4.5822e-07, 8.6108e-05, 2.0935e-09, 3.1275e-08],\n",
       "        [7.3286e-13, 1.6212e-11, 4.6187e-08, 4.4137e-09, 9.6249e-01, 2.2492e-03,\n",
       "         2.1980e-08, 3.5258e-02, 1.1646e-10, 5.1841e-06],\n",
       "        [6.7865e-13, 4.6365e-11, 5.6318e-05, 3.9658e-13, 9.9989e-01, 5.3769e-07,\n",
       "         8.3448e-12, 4.9438e-05, 1.8763e-10, 5.2932e-10],\n",
       "        [7.2798e-13, 4.1149e-09, 1.7847e-04, 8.7083e-04, 4.1966e-03, 9.9474e-01,\n",
       "         2.2401e-11, 1.6114e-11, 5.0946e-11, 9.8584e-06],\n",
       "        [4.3478e-11, 1.0846e-10, 4.9426e-08, 3.5455e-09, 5.9401e-03, 9.9200e-01,\n",
       "         1.8706e-07, 2.0590e-03, 2.1306e-11, 2.0121e-08],\n",
       "        [3.3639e-14, 7.6267e-13, 4.0532e-06, 2.5291e-11, 9.9994e-01, 5.5605e-05,\n",
       "         9.5678e-10, 4.4418e-08, 4.6621e-13, 8.6630e-10],\n",
       "        [1.7835e-13, 1.6558e-09, 5.8844e-04, 5.1236e-05, 2.3277e-03, 5.6681e-01,\n",
       "         1.3077e-01, 2.9407e-01, 3.5691e-10, 5.3911e-03],\n",
       "        [2.6227e-10, 3.1610e-04, 4.0636e-06, 4.8514e-13, 3.3239e-04, 9.9935e-01,\n",
       "         1.0112e-11, 1.2679e-10, 4.7916e-15, 1.6996e-06],\n",
       "        [1.3181e-07, 4.3310e-10, 7.5688e-01, 3.5271e-07, 1.7207e-01, 2.2607e-02,\n",
       "         3.2788e-06, 4.8440e-02, 9.0627e-08, 1.3708e-06]])"
      ]
     },
     "execution_count": 17,
     "metadata": {},
     "output_type": "execute_result"
    }
   ],
   "source": [
    "probabilities"
   ]
  },
  {
   "cell_type": "markdown",
   "metadata": {},
   "source": [
    "## Building networks with PyTorch\n",
    "\n",
    "PyTorch provides a module `nn` that makes building networks much simpler. Here I'll show you how to build the same one as above with 784 inputs, 256 hidden units, 10 output units and a softmax output."
   ]
  },
  {
   "cell_type": "code",
   "execution_count": 18,
   "metadata": {},
   "outputs": [],
   "source": [
    "from torch import nn"
   ]
  },
  {
   "cell_type": "code",
   "execution_count": 19,
   "metadata": {},
   "outputs": [],
   "source": [
    "class Network(nn.Module):\n",
    "    def __init__(self):\n",
    "        super().__init__()\n",
    "        \n",
    "        # Inputs to hidden layer linear transformation\n",
    "        self.hidden = nn.Linear(784, 256)\n",
    "        # Output layer, 10 units - one for each digit\n",
    "        self.output = nn.Linear(256, 10)\n",
    "        \n",
    "        # Define sigmoid activation and softmax output \n",
    "        self.sigmoid = nn.Sigmoid()\n",
    "        self.softmax = nn.Softmax(dim=1)\n",
    "        \n",
    "    def forward(self, x):\n",
    "        # Pass the input tensor through each of our operations\n",
    "        x = self.hidden(x)\n",
    "        x = self.sigmoid(x)\n",
    "        x = self.output(x)\n",
    "        x = self.softmax(x)\n",
    "        \n",
    "        return x"
   ]
  },
  {
   "cell_type": "markdown",
   "metadata": {},
   "source": [
    "Let's go through this bit by bit.\n",
    "\n",
    "```python\n",
    "class Network(nn.Module):\n",
    "```\n",
    "\n",
    "Here we're inheriting from `nn.Module`. Combined with `super().__init__()` this creates a class that tracks the architecture and provides a lot of useful methods and attributes. It is mandatory to inherit from `nn.Module` when you're creating a class for your network. The name of the class itself can be anything.\n",
    "\n",
    "```python\n",
    "self.hidden = nn.Linear(784, 256)\n",
    "```\n",
    "\n",
    "This line creates a module for a linear transformation, $x\\mathbf{W} + b$, with 784 inputs and 256 outputs and assigns it to `self.hidden`. The module automatically creates the weight and bias tensors which we'll use in the `forward` method. You can access the weight and bias tensors once the network (`net`) is created with `net.hidden.weight` and `net.hidden.bias`.\n",
    "\n",
    "```python\n",
    "self.output = nn.Linear(256, 10)\n",
    "```\n",
    "\n",
    "Similarly, this creates another linear transformation with 256 inputs and 10 outputs.\n",
    "\n",
    "```python\n",
    "self.sigmoid = nn.Sigmoid()\n",
    "self.softmax = nn.Softmax(dim=1)\n",
    "```\n",
    "\n",
    "Here I defined operations for the sigmoid activation and softmax output. Setting `dim=1` in `nn.Softmax(dim=1)` calculates softmax across the columns.\n",
    "\n",
    "```python\n",
    "def forward(self, x):\n",
    "```\n",
    "\n",
    "PyTorch networks created with `nn.Module` must have a `forward` method defined. It takes in a tensor `x` and passes it through the operations you defined in the `__init__` method.\n",
    "\n",
    "```python\n",
    "x = self.hidden(x)\n",
    "x = self.sigmoid(x)\n",
    "x = self.output(x)\n",
    "x = self.softmax(x)\n",
    "```\n",
    "\n",
    "Here the input tensor `x` is passed through each operation a reassigned to `x`. We can see that the input tensor goes through the hidden layer, then a sigmoid function, then the output layer, and finally the softmax function. It doesn't matter what you name the variables here, as long as the inputs and outputs of the operations match the network architecture you want to build. The order in which you define things in the `__init__` method doesn't matter, but you'll need to sequence the operations correctly in the `forward` method.\n",
    "\n",
    "Now we can create a `Network` object."
   ]
  },
  {
   "cell_type": "code",
   "execution_count": 20,
   "metadata": {},
   "outputs": [
    {
     "data": {
      "text/plain": [
       "Network(\n",
       "  (hidden): Linear(in_features=784, out_features=256, bias=True)\n",
       "  (output): Linear(in_features=256, out_features=10, bias=True)\n",
       "  (sigmoid): Sigmoid()\n",
       "  (softmax): Softmax()\n",
       ")"
      ]
     },
     "execution_count": 20,
     "metadata": {},
     "output_type": "execute_result"
    }
   ],
   "source": [
    "# Create the network and look at it's text representation\n",
    "model = Network()\n",
    "model"
   ]
  },
  {
   "cell_type": "markdown",
   "metadata": {},
   "source": [
    "You can define the network somewhat more concisely and clearly using the `torch.nn.functional` module. This is the most common way you'll see networks defined as many operations are simple element-wise functions. We normally import this module as `F`, `import torch.nn.functional as F`."
   ]
  },
  {
   "cell_type": "code",
   "execution_count": 21,
   "metadata": {},
   "outputs": [],
   "source": [
    "import torch.nn.functional as F\n",
    "\n",
    "class Network(nn.Module):\n",
    "    def __init__(self):\n",
    "        super().__init__()\n",
    "        # Inputs to hidden layer linear transformation\n",
    "        self.hidden = nn.Linear(784, 256)\n",
    "        # Output layer, 10 units - one for each digit\n",
    "        self.output = nn.Linear(256, 10)\n",
    "        \n",
    "    def forward(self, x):\n",
    "        # Hidden layer with sigmoid activation\n",
    "        x = F.sigmoid(self.hidden(x))\n",
    "        # Output layer with softmax activation\n",
    "        x = F.softmax(self.output(x), dim=1)\n",
    "        \n",
    "        return x"
   ]
  },
  {
   "cell_type": "markdown",
   "metadata": {},
   "source": [
    "### Activation functions\n",
    "\n",
    "So far we've only been looking at the softmax activation, but in general any function can be used as an activation function. The only requirement is that for a network to approximate a non-linear function, the activation functions must be non-linear. Here are a few more examples of common activation functions: Tanh (hyperbolic tangent), and ReLU (rectified linear unit).\n",
    "\n",
    "<img src=\"assets/activation.png\" width=700px>\n",
    "\n",
    "In practice, the ReLU function is used almost exclusively as the activation function for hidden layers."
   ]
  },
  {
   "cell_type": "markdown",
   "metadata": {},
   "source": [
    "### Your Turn to Build a Network\n",
    "\n",
    "<img src=\"assets/mlp_mnist.png\" width=600px>\n",
    "\n",
    "> **Exercise:** Create a network with 784 input units, a hidden layer with 128 units and a ReLU activation, then a hidden layer with 64 units and a ReLU activation, and finally an output layer with a softmax activation as shown above. You can use a ReLU activation with the `nn.ReLU` module or `F.relu` function."
   ]
  },
  {
   "cell_type": "code",
   "execution_count": 22,
   "metadata": {
    "scrolled": true
   },
   "outputs": [],
   "source": [
    "## Your solution here\n",
    "import torch.nn.functional as F\n",
    "\n",
    "class Network(nn.Module):\n",
    "    def __init__(self):\n",
    "        super().__init__()\n",
    "        # Inputs to hidden layer 1 linear transformation\n",
    "        self.fc1 = nn.Linear(784, 128)\n",
    "        # Inputs to hidden layer 2 linear transformation\n",
    "        self.fc2 = nn.Linear(128, 64)\n",
    "        # Output layer, 10 units - one for each digit\n",
    "        self.fc3 = nn.Linear(64, 10)\n",
    "        \n",
    "    def forward(self, x):\n",
    "        # Hidden layer 1 with ReLU activation\n",
    "        x = F.relu(self.fc1(x))\n",
    "        # Hidden layer 2 with ReLU activation\n",
    "        x = F.relu(self.fc2(x))        \n",
    "        # Output layer with softmax activation\n",
    "        x = F.softmax(self.fc3(x), dim=1)\n",
    "        \n",
    "        return x"
   ]
  },
  {
   "cell_type": "code",
   "execution_count": 23,
   "metadata": {},
   "outputs": [
    {
     "data": {
      "text/plain": [
       "Network(\n",
       "  (fc1): Linear(in_features=784, out_features=128, bias=True)\n",
       "  (fc2): Linear(in_features=128, out_features=64, bias=True)\n",
       "  (fc3): Linear(in_features=64, out_features=10, bias=True)\n",
       ")"
      ]
     },
     "execution_count": 23,
     "metadata": {},
     "output_type": "execute_result"
    }
   ],
   "source": [
    "model = Network()\n",
    "model"
   ]
  },
  {
   "cell_type": "markdown",
   "metadata": {},
   "source": [
    "### Initializing weights and biases\n",
    "\n",
    "The weights and such are automatically initialized for you, but it's possible to customize how they are initialized. The weights and biases are tensors attached to the layer you defined, you can get them with `model.fc1.weight` for instance."
   ]
  },
  {
   "cell_type": "code",
   "execution_count": 24,
   "metadata": {},
   "outputs": [
    {
     "name": "stdout",
     "output_type": "stream",
     "text": [
      "Parameter containing:\n",
      "tensor([[ 0.0019,  0.0005, -0.0266,  ...,  0.0021,  0.0257,  0.0180],\n",
      "        [-0.0291,  0.0194,  0.0033,  ..., -0.0058, -0.0152, -0.0074],\n",
      "        [-0.0255,  0.0141, -0.0173,  ..., -0.0066,  0.0269,  0.0035],\n",
      "        ...,\n",
      "        [-0.0114,  0.0222,  0.0197,  ...,  0.0243,  0.0304,  0.0111],\n",
      "        [-0.0090, -0.0345, -0.0355,  ..., -0.0130,  0.0239, -0.0339],\n",
      "        [ 0.0088,  0.0205,  0.0327,  ..., -0.0091,  0.0315,  0.0055]],\n",
      "       requires_grad=True)\n",
      "Parameter containing:\n",
      "tensor([-0.0006, -0.0100,  0.0276, -0.0134, -0.0039,  0.0245, -0.0207,  0.0039,\n",
      "        -0.0155,  0.0004,  0.0028, -0.0305,  0.0163,  0.0109, -0.0037,  0.0187,\n",
      "         0.0095,  0.0269, -0.0096, -0.0019, -0.0355,  0.0344,  0.0178, -0.0305,\n",
      "        -0.0307, -0.0113, -0.0355,  0.0336, -0.0058, -0.0032,  0.0309,  0.0017,\n",
      "         0.0203, -0.0101,  0.0036, -0.0251, -0.0256, -0.0087,  0.0092, -0.0355,\n",
      "         0.0127, -0.0146, -0.0254, -0.0126, -0.0269,  0.0212,  0.0112, -0.0237,\n",
      "         0.0278,  0.0016, -0.0003,  0.0029, -0.0072,  0.0156,  0.0173, -0.0053,\n",
      "         0.0148,  0.0055,  0.0167, -0.0079,  0.0071,  0.0239,  0.0309,  0.0081,\n",
      "         0.0260,  0.0178, -0.0177,  0.0286, -0.0192,  0.0316, -0.0331, -0.0061,\n",
      "        -0.0203, -0.0219,  0.0069, -0.0191,  0.0133, -0.0211,  0.0017,  0.0135,\n",
      "        -0.0236, -0.0094,  0.0270,  0.0357, -0.0104,  0.0139,  0.0025, -0.0290,\n",
      "         0.0053, -0.0285,  0.0193, -0.0171,  0.0198,  0.0064,  0.0045,  0.0033,\n",
      "        -0.0205, -0.0122,  0.0348, -0.0299, -0.0246,  0.0097, -0.0101, -0.0285,\n",
      "         0.0185,  0.0236,  0.0244, -0.0269, -0.0338, -0.0353,  0.0282,  0.0088,\n",
      "        -0.0025, -0.0083, -0.0050,  0.0320, -0.0272, -0.0181,  0.0189,  0.0148,\n",
      "        -0.0171, -0.0174, -0.0209, -0.0208, -0.0314, -0.0042, -0.0348, -0.0181],\n",
      "       requires_grad=True)\n"
     ]
    }
   ],
   "source": [
    "print(model.fc1.weight)\n",
    "print(model.fc1.bias)"
   ]
  },
  {
   "cell_type": "markdown",
   "metadata": {},
   "source": [
    "For custom initialization, we want to modify these tensors in place. These are actually autograd *Variables*, so we need to get back the actual tensors with `model.fc1.weight.data`. Once we have the tensors, we can fill them with zeros (for biases) or random normal values."
   ]
  },
  {
   "cell_type": "code",
   "execution_count": 25,
   "metadata": {},
   "outputs": [
    {
     "data": {
      "text/plain": [
       "tensor([0., 0., 0., 0., 0., 0., 0., 0., 0., 0., 0., 0., 0., 0., 0., 0., 0., 0.,\n",
       "        0., 0., 0., 0., 0., 0., 0., 0., 0., 0., 0., 0., 0., 0., 0., 0., 0., 0.,\n",
       "        0., 0., 0., 0., 0., 0., 0., 0., 0., 0., 0., 0., 0., 0., 0., 0., 0., 0.,\n",
       "        0., 0., 0., 0., 0., 0., 0., 0., 0., 0., 0., 0., 0., 0., 0., 0., 0., 0.,\n",
       "        0., 0., 0., 0., 0., 0., 0., 0., 0., 0., 0., 0., 0., 0., 0., 0., 0., 0.,\n",
       "        0., 0., 0., 0., 0., 0., 0., 0., 0., 0., 0., 0., 0., 0., 0., 0., 0., 0.,\n",
       "        0., 0., 0., 0., 0., 0., 0., 0., 0., 0., 0., 0., 0., 0., 0., 0., 0., 0.,\n",
       "        0., 0.])"
      ]
     },
     "execution_count": 25,
     "metadata": {},
     "output_type": "execute_result"
    }
   ],
   "source": [
    "# Set biases to all zeros\n",
    "model.fc1.bias.data.fill_(0)"
   ]
  },
  {
   "cell_type": "code",
   "execution_count": 26,
   "metadata": {},
   "outputs": [
    {
     "data": {
      "text/plain": [
       "tensor([[ 0.0013, -0.0097, -0.0107,  ...,  0.0088, -0.0066,  0.0040],\n",
       "        [-0.0093,  0.0021,  0.0107,  ...,  0.0003,  0.0007,  0.0027],\n",
       "        [ 0.0085, -0.0038,  0.0023,  ..., -0.0218, -0.0126,  0.0017],\n",
       "        ...,\n",
       "        [ 0.0034, -0.0230,  0.0046,  ...,  0.0049, -0.0056,  0.0109],\n",
       "        [-0.0020,  0.0027, -0.0104,  ...,  0.0089, -0.0030,  0.0080],\n",
       "        [ 0.0027,  0.0078, -0.0043,  ..., -0.0089,  0.0020,  0.0119]])"
      ]
     },
     "execution_count": 26,
     "metadata": {},
     "output_type": "execute_result"
    }
   ],
   "source": [
    "# sample from random normal with standard dev = 0.01\n",
    "model.fc1.weight.data.normal_(std=0.01)"
   ]
  },
  {
   "cell_type": "markdown",
   "metadata": {},
   "source": [
    "### Forward pass\n",
    "\n",
    "Now that we have a network, let's see what happens when we pass in an image."
   ]
  },
  {
   "cell_type": "code",
   "execution_count": 27,
   "metadata": {},
   "outputs": [
    {
     "data": {
      "image/png": "[encoded data removed]",
      "text/plain": [
       "<Figure size 432x648 with 2 Axes>"
      ]
     },
     "metadata": {
      "image/png": {
       "height": 224,
       "width": 423
      }
     },
     "output_type": "display_data"
    }
   ],
   "source": [
    "# Grab some data \n",
    "dataiter = iter(trainloader)\n",
    "images, labels = dataiter.next()\n",
    "\n",
    "# Resize images into a 1D vector, new shape is (batch size, color channels, image pixels) \n",
    "images.resize_(64, 1, 784)\n",
    "# or images.resize_(images.shape[0], 1, 784) to automatically get batch size\n",
    "\n",
    "# Forward pass through the network\n",
    "img_idx = 0\n",
    "ps = model.forward(images[img_idx,:])\n",
    "\n",
    "img = images[img_idx]\n",
    "helper.view_classify(img.view(1, 28, 28), ps)"
   ]
  },
  {
   "cell_type": "markdown",
   "metadata": {},
   "source": [
    "As you can see above, our network has basically no idea what this digit is. It's because we haven't trained it yet, all the weights are random!\n",
    "\n",
    "### Using `nn.Sequential`\n",
    "\n",
    "PyTorch provides a convenient way to build networks like this where a tensor is passed sequentially through operations, `nn.Sequential` ([documentation](https://pytorch.org/docs/master/nn.html#torch.nn.Sequential)). Using this to build the equivalent network:"
   ]
  },
  {
   "cell_type": "code",
   "execution_count": 28,
   "metadata": {},
   "outputs": [
    {
     "name": "stdout",
     "output_type": "stream",
     "text": [
      "Sequential(\n",
      "  (0): Linear(in_features=784, out_features=128, bias=True)\n",
      "  (1): ReLU()\n",
      "  (2): Linear(in_features=128, out_features=64, bias=True)\n",
      "  (3): ReLU()\n",
      "  (4): Linear(in_features=64, out_features=10, bias=True)\n",
      "  (5): Softmax()\n",
      ")\n"
     ]
    },
    {
     "data": {
      "image/png": "[encoded data removed]",
      "text/plain": [
       "<Figure size 432x648 with 2 Axes>"
      ]
     },
     "metadata": {
      "image/png": {
       "height": 224,
       "width": 423
      }
     },
     "output_type": "display_data"
    }
   ],
   "source": [
    "# Hyperparameters for our network\n",
    "input_size = 784\n",
    "hidden_sizes = [128, 64]\n",
    "output_size = 10\n",
    "\n",
    "# Build a feed-forward network\n",
    "model = nn.Sequential(nn.Linear(input_size, hidden_sizes[0]),\n",
    "                      nn.ReLU(),\n",
    "                      nn.Linear(hidden_sizes[0], hidden_sizes[1]),\n",
    "                      nn.ReLU(),\n",
    "                      nn.Linear(hidden_sizes[1], output_size),\n",
    "                      nn.Softmax(dim=1))\n",
    "print(model)\n",
    "\n",
    "# Forward pass through the network and display output\n",
    "images, labels = next(iter(trainloader))\n",
    "images.resize_(images.shape[0], 1, 784)\n",
    "ps = model.forward(images[0,:])\n",
    "helper.view_classify(images[0].view(1, 28, 28), ps)"
   ]
  },
  {
   "cell_type": "markdown",
   "metadata": {},
   "source": [
    "Here our model is the same as before: 784 input units, a hidden layer with 128 units, ReLU activation, 64 unit hidden layer, another ReLU, then the output layer with 10 units, and the softmax output.\n",
    "\n",
    "The operations are availble by passing in the appropriate index. For example, if you want to get first Linear operation and look at the weights, you'd use `model[0]`."
   ]
  },
  {
   "cell_type": "code",
   "execution_count": 29,
   "metadata": {},
   "outputs": [
    {
     "name": "stdout",
     "output_type": "stream",
     "text": [
      "Linear(in_features=784, out_features=128, bias=True)\n"
     ]
    },
    {
     "data": {
      "text/plain": [
       "Parameter containing:\n",
       "tensor([[-0.0299, -0.0127, -0.0251,  ...,  0.0306, -0.0006,  0.0221],\n",
       "        [-0.0095, -0.0079, -0.0285,  ..., -0.0207, -0.0022, -0.0159],\n",
       "        [-0.0288,  0.0111,  0.0197,  ...,  0.0109,  0.0006, -0.0051],\n",
       "        ...,\n",
       "        [ 0.0191,  0.0355, -0.0216,  ..., -0.0224, -0.0000, -0.0083],\n",
       "        [-0.0290, -0.0005,  0.0196,  ..., -0.0142,  0.0130, -0.0232],\n",
       "        [ 0.0165,  0.0093, -0.0166,  ...,  0.0234,  0.0222,  0.0203]],\n",
       "       requires_grad=True)"
      ]
     },
     "execution_count": 29,
     "metadata": {},
     "output_type": "execute_result"
    }
   ],
   "source": [
    "print(model[0])\n",
    "model[0].weight"
   ]
  },
  {
   "cell_type": "code",
   "execution_count": 30,
   "metadata": {},
   "outputs": [
    {
     "name": "stdout",
     "output_type": "stream",
     "text": [
      "ReLU()\n"
     ]
    }
   ],
   "source": [
    "print(model[1])"
   ]
  },
  {
   "cell_type": "code",
   "execution_count": 31,
   "metadata": {},
   "outputs": [
    {
     "name": "stdout",
     "output_type": "stream",
     "text": [
      "Linear(in_features=128, out_features=64, bias=True)\n"
     ]
    },
    {
     "data": {
      "text/plain": [
       "Parameter containing:\n",
       "tensor([[-0.0038, -0.0415, -0.0623,  ...,  0.0373,  0.0683, -0.0591],\n",
       "        [ 0.0657, -0.0227,  0.0837,  ...,  0.0111,  0.0025,  0.0567],\n",
       "        [ 0.0045,  0.0601,  0.0662,  ..., -0.0509, -0.0192, -0.0295],\n",
       "        ...,\n",
       "        [ 0.0483, -0.0068, -0.0741,  ...,  0.0463, -0.0321,  0.0724],\n",
       "        [ 0.0569,  0.0778, -0.0192,  ..., -0.0410, -0.0153,  0.0872],\n",
       "        [-0.0783, -0.0217,  0.0299,  ..., -0.0768, -0.0441, -0.0449]],\n",
       "       requires_grad=True)"
      ]
     },
     "execution_count": 31,
     "metadata": {},
     "output_type": "execute_result"
    }
   ],
   "source": [
    "print(model[2])\n",
    "model[2].weight"
   ]
  },
  {
   "cell_type": "markdown",
   "metadata": {},
   "source": [
    "You can also pass in an `OrderedDict` to name the individual layers and operations, instead of using incremental integers. Note that dictionary keys must be unique, so _each operation must have a different name_."
   ]
  },
  {
   "cell_type": "code",
   "execution_count": 32,
   "metadata": {},
   "outputs": [
    {
     "data": {
      "text/plain": [
       "Sequential(\n",
       "  (fc1): Linear(in_features=784, out_features=128, bias=True)\n",
       "  (relu1): ReLU()\n",
       "  (fc2): Linear(in_features=128, out_features=64, bias=True)\n",
       "  (relu2): ReLU()\n",
       "  (output): Linear(in_features=64, out_features=10, bias=True)\n",
       "  (softmax): Softmax()\n",
       ")"
      ]
     },
     "execution_count": 32,
     "metadata": {},
     "output_type": "execute_result"
    }
   ],
   "source": [
    "from collections import OrderedDict\n",
    "model = nn.Sequential(OrderedDict([\n",
    "                      ('fc1', nn.Linear(input_size, hidden_sizes[0])),\n",
    "                      ('relu1', nn.ReLU()),\n",
    "                      ('fc2', nn.Linear(hidden_sizes[0], hidden_sizes[1])),\n",
    "                      ('relu2', nn.ReLU()),\n",
    "                      ('output', nn.Linear(hidden_sizes[1], output_size)),\n",
    "                      ('softmax', nn.Softmax(dim=1))]))\n",
    "model"
   ]
  },
  {
   "cell_type": "markdown",
   "metadata": {},
   "source": [
    "Now you can access layers either by integer or the name"
   ]
  },
  {
   "cell_type": "code",
   "execution_count": 33,
   "metadata": {},
   "outputs": [
    {
     "name": "stdout",
     "output_type": "stream",
     "text": [
      "Linear(in_features=784, out_features=128, bias=True)\n",
      "Linear(in_features=784, out_features=128, bias=True)\n"
     ]
    }
   ],
   "source": [
    "print(model[0])\n",
    "print(model.fc1)"
   ]
  },
  {
   "cell_type": "markdown",
   "metadata": {},
   "source": [
    "In the next notebook, we'll see how we can train a neural network to accuractly predict the numbers appearing in the MNIST images."
   ]
  },
  {
   "cell_type": "code",
   "execution_count": null,
   "metadata": {},
   "outputs": [],
   "source": []
  }
 ],
 "metadata": {
  "kernelspec": {
   "display_name": "Python [default]",
   "language": "python",
   "name": "python3"
  }
 },
 "nbformat": 4,
 "nbformat_minor": 2
}
