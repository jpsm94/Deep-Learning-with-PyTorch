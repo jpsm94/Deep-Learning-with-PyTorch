{
 "cells": [
  {
   "cell_type": "markdown",
   "metadata": {},
   "source": [
    "# Neural networks with PyTorch\n",
    "\n",
    "Deep learning networks tend to be massive with dozens or hundreds of layers, that's where the term \"deep\" comes from. You can build one of these deep networks using only weight matrices as we did in the previous notebook, but in general it's very cumbersome and difficult to implement. PyTorch has a nice module `nn` that provides a nice way to efficiently build large neural networks."
   ]
  },
  {
   "cell_type": "code",
   "execution_count": 1,
   "metadata": {},
   "outputs": [],
   "source": [
    "# Import necessary packages\n",
    "\n",
    "%matplotlib inline\n",
    "%config InlineBackend.figure_format = 'retina'\n",
    "\n",
    "import numpy as np\n",
    "import torch\n",
    "\n",
    "import helper\n",
    "\n",
    "import matplotlib.pyplot as plt"
   ]
  },
  {
   "cell_type": "markdown",
   "metadata": {},
   "source": [
    "\n",
    "Now we're going to build a larger network that can solve a (formerly) difficult problem, identifying text in an image. Here we'll use the MNIST dataset which consists of greyscale handwritten digits. Each image is 28x28 pixels, you can see a sample below\n",
    "\n",
    "<img src='assets/mnist.png'>\n",
    "\n",
    "Our goal is to build a neural network that can take one of these images and predict the digit in the image.\n",
    "\n",
    "First up, we need to get our dataset. This is provided through the `torchvision` package. The code below will download the MNIST dataset, then create training and test datasets for us. Don't worry too much about the details here, you'll learn more about this later."
   ]
  },
  {
   "cell_type": "code",
   "execution_count": 2,
   "metadata": {},
   "outputs": [
    {
     "name": "stdout",
     "output_type": "stream",
     "text": [
      "Downloading http://yann.lecun.com/exdb/mnist/train-images-idx3-ubyte.gz\n",
      "Downloading http://yann.lecun.com/exdb/mnist/train-labels-idx1-ubyte.gz\n",
      "Downloading http://yann.lecun.com/exdb/mnist/t10k-images-idx3-ubyte.gz\n",
      "Downloading http://yann.lecun.com/exdb/mnist/t10k-labels-idx1-ubyte.gz\n",
      "Processing...\n",
      "Done!\n"
     ]
    }
   ],
   "source": [
    "### Run this cell\n",
    "\n",
    "from torchvision import datasets, transforms\n",
    "\n",
    "# Define a transform to normalize the data\n",
    "transform = transforms.Compose([transforms.ToTensor(),\n",
    "                              transforms.Normalize((0.5,), (0.5,)),\n",
    "                              ])\n",
    "\n",
    "# Download and load the training data\n",
    "trainset = datasets.MNIST('~/.pytorch/MNIST_data/', download=True, train=True, transform=transform)\n",
    "trainloader = torch.utils.data.DataLoader(trainset, batch_size=64, shuffle=True)"
   ]
  },
  {
   "cell_type": "markdown",
   "metadata": {},
   "source": [
    "We have the training data loaded into `trainloader` and we make that an iterator with `iter(trainloader)`. Later, we'll use this to loop through the dataset for training, like\n",
    "\n",
    "```python\n",
    "for image, label in trainloader:\n",
    "    ## do things with images and labels\n",
    "```\n",
    "\n",
    "You'll notice I created the `trainloader` with a batch size of 64, and `shuffle=True`. The batch size is the number of images we get in one iteration from the data loader and pass through our network, often called a *batch*. And `shuffle=True` tells it to shuffle the dataset every time we start going through the data loader again. But here I'm just grabbing the first batch so we can check out the data. We can see below that `images` is just a tensor with size `(64, 1, 28, 28)`. So, 64 images per batch, 1 color channel, and 28x28 images."
   ]
  },
  {
   "cell_type": "code",
   "execution_count": 9,
   "metadata": {},
   "outputs": [
    {
     "name": "stdout",
     "output_type": "stream",
     "text": [
      "<class 'torch.Tensor'>\n",
      "torch.Size([64, 1, 28, 28])\n",
      "torch.Size([64])\n"
     ]
    }
   ],
   "source": [
    "dataiter = iter(trainloader)\n",
    "images, labels = dataiter.next()\n",
    "print(type(images))\n",
    "print(images.shape)\n",
    "print(labels.shape)"
   ]
  },
  {
   "cell_type": "markdown",
   "metadata": {},
   "source": [
    "This is what one of the images looks like. "
   ]
  },
  {
   "cell_type": "code",
   "execution_count": 10,
   "metadata": {},
   "outputs": [
    {
     "data": {
      "image/png": "[encoded data removed]",
      "text/plain": [
       "<Figure size 432x288 with 1 Axes>"
      ]
     },
     "metadata": {
      "image/png": {
       "height": 250,
       "width": 253
      }
     },
     "output_type": "display_data"
    }
   ],
   "source": [
    "plt.imshow(images[1].numpy().squeeze(), cmap='Greys_r');"
   ]
  },
  {
   "cell_type": "markdown",
   "metadata": {},
   "source": [
    "First, let's try to build a simple network for this dataset using weight matrices and matrix multiplications. Then, we'll see how to do it using PyTorch's `nn` module which provides a much more convenient and powerful method for defining network architectures.\n",
    "\n",
    "The networks you've seen so far are called *fully-connected* or *dense* networks. Each unit in one layer is connected to each unit in the next layer. In fully-connected networks, the input to each layer must be a one-dimensional vector (which can be stacked into a 2D tensor as a batch of multiple examples). However, our images are 28x28 2D tensors, so we need to convert them into 1D vectors. Thinking about sizes, we need to convert the batch of images with shape `(64, 1, 28, 28)` to a have a shape of `(64, 784)`, 784 is 28 times 28. This is typically called *flattening*, we flattened the 2D images into 1D vectors.\n",
    "\n",
    "Previously you built a network with one output unit. Here we need 10 output units, one for each digit. We want our network to predict the digit shown in an image, so what we'll do is calculate probabilities that the image is of any one digit or class. This ends up being a discrete probability distribution over the classes (digits) that tells us the most likely class for the image. That means we need 10 output units for the 10 classes (digits). We'll see how to convert the network output into a probability distribution next.\n",
    "\n",
    "> **Exercise:** Flatten the batch of images `images`. Then build a multi-layer network with 784 input units, 256 hidden units, and 10 output units using random tensors for the weights and biases. For now, use a sigmoid activation for the hidden layer. Leave the output layer without an activation, we'll add one that gives us a probability distribution next."
   ]
  },
  {
   "cell_type": "code",
   "execution_count": 31,
   "metadata": {},
   "outputs": [],
   "source": [
    "def activation(x):\n",
    "    \"\"\" Sigmoid activation function \n",
    "    \n",
    "        Arguments\n",
    "        ---------\n",
    "        x: torch.Tensor\n",
    "    \"\"\"\n",
    "    return 1/(1+torch.exp(-x))"
   ]
  },
  {
   "cell_type": "code",
   "execution_count": 56,
   "metadata": {},
   "outputs": [
    {
     "name": "stdout",
     "output_type": "stream",
     "text": [
      "torch.Size([64, 1, 28, 28])\n",
      "torch.Size([64, 784])\n"
     ]
    }
   ],
   "source": [
    "## Your solution\n",
    "\n",
    "print(images.shape)\n",
    "print(images.view(64, -1).shape) # reshape to flatten images"
   ]
  },
  {
   "cell_type": "code",
   "execution_count": 57,
   "metadata": {},
   "outputs": [],
   "source": [
    "### Generate some data\n",
    "torch.manual_seed(7) # Set the random seed so things are predictable\n",
    "\n",
    "# Features are 3 random normal variables\n",
    "#features = torch.randn((1, 784))\n",
    "inputs = images.view(64, -1)\n",
    "\n",
    "# Define the size of each layer in our network\n",
    "n_input = inputs.shape[1]     # Number of input units, must match number of input features\n",
    "n_hidden = 256                  # Number of hidden units \n",
    "n_output = 10                   # Number of output units\n",
    "\n",
    "# Weights for inputs to hidden layer\n",
    "W1 = torch.randn(n_input, n_hidden)\n",
    "# Weights for hidden layer to output layer\n",
    "W2 = torch.randn(n_hidden, n_output)\n",
    "\n",
    "# and bias terms for hidden and output layers\n",
    "B1 = torch.randn((1, n_hidden))\n",
    "B2 = torch.randn((1, n_output))"
   ]
  },
  {
   "cell_type": "code",
   "execution_count": 58,
   "metadata": {},
   "outputs": [
    {
     "name": "stdout",
     "output_type": "stream",
     "text": [
      "torch.Size([64, 784])\n",
      "torch.Size([784, 256])\n",
      "torch.Size([256, 10])\n"
     ]
    }
   ],
   "source": [
    "print(inputs.shape)\n",
    "print(W1.shape)\n",
    "print(W2.shape)"
   ]
  },
  {
   "cell_type": "code",
   "execution_count": 52,
   "metadata": {},
   "outputs": [
    {
     "data": {
      "text/plain": [
       "torch.Size([64, 256])"
      ]
     },
     "execution_count": 52,
     "metadata": {},
     "output_type": "execute_result"
    }
   ],
   "source": [
    "hidden = activation(torch.mm(inputs, W1) + B1)\n",
    "hidden.shape"
   ]
  },
  {
   "cell_type": "code",
   "execution_count": 59,
   "metadata": {},
   "outputs": [],
   "source": [
    "out = torch.mm(hidden, W2) + B2  # not passed to activation function"
   ]
  },
  {
   "cell_type": "code",
   "execution_count": 60,
   "metadata": {},
   "outputs": [
    {
     "data": {
      "text/plain": [
       "torch.Size([64, 10])"
      ]
     },
     "execution_count": 60,
     "metadata": {},
     "output_type": "execute_result"
    }
   ],
   "source": [
    "# output of your network, should have shape (64,10)\n",
    "out.shape"
   ]
  },
  {
   "cell_type": "code",
   "execution_count": 61,
   "metadata": {},
   "outputs": [
    {
     "data": {
      "text/plain": [
       "tensor([[ -9.7283,  -7.3428,  -1.3390,  -6.8262,   8.6972,  12.7963,  -4.9115,\n",
       "           0.3283, -10.0793,  -5.4516],\n",
       "        [-17.8059,  -5.4075,   1.9814, -13.3394,   6.6151,   8.6319,  -9.1546,\n",
       "          -9.7973, -13.9990,   9.3130],\n",
       "        [ -7.1357, -10.9606, -10.6921,  -5.4425,   6.9420,   6.4918, -11.2487,\n",
       "           8.0567,  -8.0278,   0.6214],\n",
       "        [-18.7446,  -9.2442,   2.3694,  -1.6592,   0.4046,   6.4318,   1.6121,\n",
       "          -4.1593, -18.7517,  -5.0649],\n",
       "        [-11.9251,  -0.0192,   9.0886, -12.2718,   6.0458,   8.8054,  -7.0338,\n",
       "           5.4360, -18.5519,  -2.0141],\n",
       "        [-15.5110, -12.2340,  -3.9420, -11.2378,  11.4466,   7.2611,  -5.2045,\n",
       "           5.5887, -13.7461,  -4.7224],\n",
       "        [-13.3234, -10.8427,  -0.7147, -13.2477,   2.6242,   8.4218,  -9.9854,\n",
       "           2.2319,  -6.4042,  -3.2943],\n",
       "        [-10.6674, -11.4946,   1.9321,  -4.8634,   3.3464,  18.5567,  -5.3338,\n",
       "          -4.9820, -15.4342,   1.7081],\n",
       "        [-23.1223,  -8.2925,   3.9360,  -7.2078,   4.4236,  12.5505,  -9.0603,\n",
       "         -12.9973, -10.6040,   0.8224],\n",
       "        [-12.7033,  -5.2024,  -1.7474,  -7.5965,   5.9864,   3.0808,  -5.1853,\n",
       "           0.1917, -16.0613,   2.4608],\n",
       "        [ -8.5408,  -2.6968,  -3.3781, -10.6609,   6.1593,   7.8368,  -1.8639,\n",
       "           9.0430, -24.6294,  -6.1718],\n",
       "        [-14.0265,   0.4950,  -0.2129,  -7.8687,   4.8394,  10.5247,  -1.3756,\n",
       "          -0.5963, -24.3621,  -0.5108],\n",
       "        [-16.9153,  17.6572,   2.5280, -13.2941,   5.9626,  -7.7359, -14.3980,\n",
       "          -0.6865,  -8.3688, -10.7182],\n",
       "        [ -4.8024,  -6.2532,   0.0788,  -9.5201,  -4.2249,   2.3854,  -9.8482,\n",
       "           4.7222, -12.1097,  -9.3340],\n",
       "        [ -6.7408,  -9.7829,  -3.8837,   4.5284,  16.9687,   5.4522,  -4.3048,\n",
       "           7.8054, -11.5670,  -4.8462],\n",
       "        [-14.9225,  -4.3648,   0.5780, -17.5439,  10.2538,   4.6326,   4.8655,\n",
       "           7.3641, -10.6092,  -3.8485],\n",
       "        [-17.9761, -17.8312,  -4.1280, -12.9048,   6.6674,  24.3443,  -2.2350,\n",
       "           9.7698, -20.4615,  -8.7311],\n",
       "        [-10.6369,  -7.3482,  -1.1980, -10.6357,   6.5097,   4.4507,  -8.9236,\n",
       "           8.4253, -15.7328,  -8.7639],\n",
       "        [-14.3833,  -6.8214,  -7.1534, -14.4530,   4.8223,  -0.0367,  -0.3088,\n",
       "           2.9731,  -8.5622,  -3.1892],\n",
       "        [ -7.2140,  -8.2132,   6.6847, -11.7937,   7.0440,   9.8123,  -0.0916,\n",
       "           6.5167, -13.9025,  -5.1345],\n",
       "        [-13.9566, -13.3530,   7.1637, -10.1630,   0.1687,   8.7066,  -4.7746,\n",
       "           3.2153, -11.5781,  -3.8450],\n",
       "        [-16.7450,  -3.5960,   5.5411, -21.3325,   7.9918,   8.3478,  -1.1890,\n",
       "          13.3852, -11.2538,  -4.2051],\n",
       "        [-12.0458, -10.9848,   3.1756,  -9.8809,   7.9149,   9.8083,  -8.5431,\n",
       "           9.1139,  -6.9607, -13.0050],\n",
       "        [ -4.3534,  -3.2054,   1.9216,  -6.5985,  10.3122,   6.7144,  -8.6729,\n",
       "           1.5197, -15.6832,   7.7015],\n",
       "        [-22.9449,  -3.6322,   3.8751,  -5.4065,   4.0474,   9.9188, -12.8609,\n",
       "          -2.1109, -16.1334,   1.1558],\n",
       "        [-13.2112,  -4.0976,  -3.0231, -14.4897,  12.2821,   8.1877, -11.6481,\n",
       "           2.7806, -15.2829,   5.4896],\n",
       "        [-20.8111,   0.4304,   2.1062,  -4.2208,   8.6131,   0.5257,  -5.7406,\n",
       "         -12.2798,  -8.6026,   6.3288],\n",
       "        [ -6.5929,  -0.2447,  -3.7146, -11.7609,   7.9648,   6.3985,  -8.6176,\n",
       "           4.0420,  -8.7983,  -7.0391],\n",
       "        [-15.3027,  -0.1721,   0.6928, -13.8416,   7.5944,   7.0097,  -3.0524,\n",
       "           7.5375,  -3.6683,  -1.5568],\n",
       "        [ -3.5599, -14.2345,  -5.7318, -15.3909,   7.1966,  11.3918,  -9.7659,\n",
       "           6.1039,  -3.3609,  -8.9807],\n",
       "        [-13.3336, -13.4099,  -7.2707,  -8.6533,   2.7138,   2.3333,  -7.5968,\n",
       "           4.6438, -21.0054,  -4.0126],\n",
       "        [-11.3978, -12.3202,  -1.9085, -10.1980,  -2.5906,  -0.8892,  -3.0189,\n",
       "          -1.5718, -16.2264,  -7.1752],\n",
       "        [-22.7240,  -4.0129,   8.8514,   1.8891,  -2.6176,  14.2433, -15.7005,\n",
       "          -7.3308,  -5.4660,   5.7896],\n",
       "        [-11.1539,  -4.3983,   4.3051, -11.3699,   5.8442,  -2.5117, -11.4293,\n",
       "           1.8017,  -6.6345,  -2.7046],\n",
       "        [-19.3401, -13.0798,  -2.6339, -11.3242,   9.5679,  -0.4665,  -3.1030,\n",
       "           7.4861, -16.2704,  -7.2427],\n",
       "        [-13.5651, -10.6311,  -0.9636, -11.4716,  -2.6067,   7.5836,   0.0390,\n",
       "           6.5855, -19.3610,   5.1594],\n",
       "        [-11.6154,  -4.7635,  -2.0798,  -9.7895,   6.1354,  10.3231,  -7.7044,\n",
       "           4.4278,  -7.3757,  -0.5833],\n",
       "        [-24.7833,  -9.2134,   3.1700,  -9.8390,   8.0367,   5.2732, -12.9012,\n",
       "          -2.0624,  -8.2971,  -2.6921],\n",
       "        [-18.8282, -13.7181,   2.3243,  -6.4750,  15.2701,   6.6953,  -2.4759,\n",
       "           8.1349,  -7.6450,   0.9429],\n",
       "        [-12.7105,   0.9996,  -1.9613, -13.7236,   4.6333,   1.3359,  -5.0237,\n",
       "          -0.6941, -13.0496,   1.0872],\n",
       "        [-10.0571,  -2.4307,  -3.9326,   1.2547,   5.2348,   7.1936,   0.0347,\n",
       "          -5.4301, -13.5210,  -5.4746],\n",
       "        [-11.1819,  -7.5524,   8.5451,  -0.6863,  10.9172,   6.0210,   4.8341,\n",
       "         -12.5268, -14.9885,  -0.9203],\n",
       "        [-21.4632,   5.7816,   1.6264,  -4.5405,  11.4149,  10.3856,   0.1081,\n",
       "           0.1080,  -9.9745,  -0.1800],\n",
       "        [ -7.6343,   0.0165,   1.4108,  -3.5644,  10.2799,   7.5686,  -1.7659,\n",
       "           2.4316,  -6.0437,  -4.7494],\n",
       "        [-13.8082, -18.6270, -11.2399, -26.5808,   1.9789,   9.6721,  -1.0602,\n",
       "          -1.6778, -19.0866, -10.0877],\n",
       "        [-14.4977,  -3.1362,   6.6543,   1.1317,  12.7851,   4.5529, -11.6418,\n",
       "           3.4764, -15.7446,  -0.1044],\n",
       "        [-20.3770,  -1.9321,  -2.4313,  -8.8436,  13.4772,   3.8921,  -3.4362,\n",
       "          -7.8591, -13.9156,  -0.4032],\n",
       "        [-15.2794, -15.1683,   5.7439, -12.4610,  11.8711,  10.5103,  -1.0146,\n",
       "           1.3602, -16.4668,  -2.9190],\n",
       "        [ -8.3998,  -9.4945,  -4.7683,  -8.8020,  13.2561,   1.7630,  -0.7461,\n",
       "           0.9543,  -9.7360,  -1.7352],\n",
       "        [-12.4726,  -7.5583,  -1.3403, -20.3483,   7.4933,   3.0378,  -6.4436,\n",
       "           2.3001, -13.3767,   0.7832],\n",
       "        [-19.8746, -10.4208,  -3.8802, -11.2772,   7.8080,  -0.8386,  -2.3396,\n",
       "           4.4099, -11.9943,  -5.2607],\n",
       "        [-18.9122, -13.3252,   2.0983,  -8.9678,   6.0775,   9.2118,  -4.6358,\n",
       "           3.9167, -16.6158,  -8.3821],\n",
       "        [-23.4889,  -6.8020,   8.8355,  -3.6857,   2.2650,  18.4951,  -8.9682,\n",
       "           4.8728,  -9.1926,   2.0068],\n",
       "        [ -8.7619, -12.5916,  -3.7029, -24.5942,  -1.7421,   6.5717,  -4.1845,\n",
       "          -1.8103,  -3.1148,  -0.2912],\n",
       "        [ -9.9108,  -5.5914,   0.9527,  -1.6523,   3.8590,  10.7237,  -8.6461,\n",
       "          -7.0694, -13.5923,   3.2697],\n",
       "        [ -9.8002,  -6.4170,   4.4282,  -8.3504,   3.3241,  10.3581,   1.8505,\n",
       "           9.5970, -18.6212,  -3.0524],\n",
       "        [ -9.5103,  -2.3093,  -1.3105,  -6.0358,   7.9906,  13.6632, -11.0950,\n",
       "          -1.0637, -20.9928,  -6.6932],\n",
       "        [ -9.6890,   0.7045,   6.4238, -20.6036,   2.6205,   7.0785, -10.1447,\n",
       "           1.2493,  -7.4724,   4.0257],\n",
       "        [-12.7384,  -7.5267,   2.0576,  -7.6153,  -0.4192,  12.3944,  -3.7151,\n",
       "           6.2828,  -7.6600, -10.6002],\n",
       "        [-13.8074,  -4.5159,   1.4678, -14.3834,   8.2161,   7.9302,  -6.4257,\n",
       "           2.2055,  -5.2515,  -1.0793],\n",
       "        [-15.6751,   6.8672,   1.2785,  -4.5625,   7.0306,  13.1347, -11.3490,\n",
       "           8.4707, -11.2783,   0.5976],\n",
       "        [-19.6864,  -8.0039,  -1.0061,  -2.5509,  12.9909,  11.8342,  -8.8319,\n",
       "          -2.4503,  -6.8147,  -0.5700],\n",
       "        [-17.8307,  -6.5739,   4.7671, -10.6665,   7.3087,  -0.2736,   2.7200,\n",
       "          -0.8850, -17.6785,   3.9796],\n",
       "        [-16.1111,  -4.5208,  -1.4877,  -2.8494,  11.3270,  -3.8589,  -9.3462,\n",
       "          -1.9944,  -5.3829,  -5.2351]])"
      ]
     },
     "execution_count": 61,
     "metadata": {},
     "output_type": "execute_result"
    }
   ],
   "source": [
    "out"
   ]
  },
  {
   "cell_type": "markdown",
   "metadata": {},
   "source": [
    "Now we have 10 outputs for our network. We want to pass in an image to our network and get out a probability distribution over the classes that tells us the likely class(es) the image belongs to. Something that looks like this:\n",
    "<img src='assets/image_distribution.png' width=500px>\n",
    "\n",
    "Here we see that the probability for each class is roughly the same. This is representing an untrained network, it hasn't seen any data yet so it just returns a uniform distribution with equal probabilities for each class.\n",
    "\n",
    "To calculate this probability distribution, we often use the [**softmax** function](https://en.wikipedia.org/wiki/Softmax_function). Mathematically this looks like\n",
    "\n",
    "$$\n",
    "\\Large \\sigma(x_i) = \\cfrac{e^{x_i}}{\\sum_k^K{e^{x_k}}}\n",
    "$$\n",
    "\n",
    "What this does is squish each input $x_i$ between 0 and 1 and normalizes the values to give you a proper probability distribution where the probabilites sum up to one.\n",
    "\n",
    "> **Exercise:** Implement a function `softmax` that performs the softmax calculation and returns probability distributions for each example in the batch. Note that you'll need to pay attention to the shapes when doing this. If you have a tensor `a` with shape `(64, 10)` and a tensor `b` with shape `(64,)`, doing `a/b` will give you an error because PyTorch will try to do the division across the columns (called broadcasting) but you'll get a size mismatch. The way to think about this is for each of the 64 examples, you only want to divide by one value, the sum in the denominator. So you need `b` to have a shape of `(64, 1)`. This way PyTorch will divide the 10 values in each row of `a` by the one value in each row of `b`. Pay attention to how you take the sum as well. You'll need to define the `dim` keyword in `torch.sum`. Setting `dim=0` takes the sum across the rows while `dim=1` takes the sum across the columns."
   ]
  },
  {
   "cell_type": "code",
   "execution_count": 76,
   "metadata": {},
   "outputs": [
    {
     "data": {
      "text/plain": [
       "torch.Size([64, 1])"
      ]
     },
     "execution_count": 76,
     "metadata": {},
     "output_type": "execute_result"
    }
   ],
   "source": [
    "torch.sum(out, dim=1).view(-1, 1)"
   ]
  },
  {
   "cell_type": "code",
   "execution_count": 85,
   "metadata": {},
   "outputs": [],
   "source": [
    "def softmax(x):\n",
    "    ## TODO: Implement the softmax function here\n",
    "    # new call to view to reshape to 64x1\n",
    "    return torch.exp(x) / torch.sum(torch.exp(x), dim=1).view(-1, 1)"
   ]
  },
  {
   "cell_type": "code",
   "execution_count": 86,
   "metadata": {},
   "outputs": [
    {
     "name": "stdout",
     "output_type": "stream",
     "text": [
      "torch.Size([64, 10])\n",
      "tensor([1.0000, 1.0000, 1.0000, 1.0000, 1.0000, 1.0000, 1.0000, 1.0000, 1.0000,\n",
      "        1.0000, 1.0000, 1.0000, 1.0000, 1.0000, 1.0000, 1.0000, 1.0000, 1.0000,\n",
      "        1.0000, 1.0000, 1.0000, 1.0000, 1.0000, 1.0000, 1.0000, 1.0000, 1.0000,\n",
      "        1.0000, 1.0000, 1.0000, 1.0000, 1.0000, 1.0000, 1.0000, 1.0000, 1.0000,\n",
      "        1.0000, 1.0000, 1.0000, 1.0000, 1.0000, 1.0000, 1.0000, 1.0000, 1.0000,\n",
      "        1.0000, 1.0000, 1.0000, 1.0000, 1.0000, 1.0000, 1.0000, 1.0000, 1.0000,\n",
      "        1.0000, 1.0000, 1.0000, 1.0000, 1.0000, 1.0000, 1.0000, 1.0000, 1.0000,\n",
      "        1.0000])\n"
     ]
    }
   ],
   "source": [
    "# Here, out should be the output of the network in the previous excercise with shape (64,10)\n",
    "probabilities = softmax(out)\n",
    "\n",
    "# Does it have the right shape? Should be (64, 10)\n",
    "print(probabilities.shape)\n",
    "# Does it sum to 1?\n",
    "print(probabilities.sum(dim=1))"
   ]
  },
  {
   "cell_type": "code",
   "execution_count": 90,
   "metadata": {},
   "outputs": [
    {
     "data": {
      "text/plain": [
       "tensor([[1.6238e-10, 1.7641e-09, 7.1442e-07, 2.9571e-09, 1.6317e-02, 9.8368e-01,\n",
       "         2.0065e-08, 3.7850e-06, 1.1431e-10, 1.1691e-08],\n",
       "        [1.0602e-12, 2.5701e-07, 4.1584e-04, 9.2294e-11, 4.2788e-02, 3.2149e-01,\n",
       "         6.0620e-09, 3.1877e-09, 4.7723e-11, 6.3531e-01],\n",
       "        [1.6412e-07, 3.5810e-09, 4.6843e-09, 8.9229e-07, 2.1332e-01, 1.3599e-01,\n",
       "         2.6848e-09, 6.5030e-01, 6.7252e-08, 3.8372e-04],\n",
       "        [1.1325e-11, 1.5136e-07, 1.6739e-02, 2.9793e-04, 2.3465e-03, 9.7273e-01,\n",
       "         7.8491e-03, 2.4453e-05, 1.1245e-11, 9.8869e-06],\n",
       "        [4.0937e-10, 6.0640e-05, 5.4730e-01, 2.8943e-10, 2.6107e-02, 4.1233e-01,\n",
       "         5.4497e-08, 1.4189e-02, 5.4215e-13, 8.2489e-06],\n",
       "        [1.9260e-12, 5.1033e-11, 2.0371e-07, 1.3820e-10, 9.8225e-01, 1.4944e-02,\n",
       "         5.7637e-08, 2.8064e-03, 1.1250e-11, 9.3349e-08],\n",
       "        [3.5802e-10, 4.2781e-09, 1.0711e-04, 3.8619e-10, 3.0191e-03, 9.9483e-01,\n",
       "         1.0083e-08, 2.0394e-03, 3.6216e-07, 8.1186e-06],\n",
       "        [2.0330e-13, 8.8892e-14, 6.0256e-08, 6.7420e-11, 2.4788e-07, 1.0000e+00,\n",
       "         4.2119e-11, 5.9877e-11, 1.7296e-15, 4.8165e-08],\n",
       "        [3.2158e-16, 8.8672e-10, 1.8137e-04, 2.6234e-09, 2.9534e-04, 9.9952e-01,\n",
       "         4.1147e-10, 8.0263e-12, 8.7886e-11, 8.0598e-06],\n",
       "        [7.0253e-09, 1.2714e-05, 4.0252e-04, 1.1602e-06, 9.1941e-01, 5.0305e-02,\n",
       "         1.2933e-05, 2.7984e-03, 2.4453e-10, 2.7061e-02],\n",
       "        [1.7038e-08, 5.8808e-06, 2.9755e-06, 2.0449e-09, 4.1267e-02, 2.2086e-01,\n",
       "         1.3526e-05, 7.3785e-01, 1.7548e-15, 1.8208e-07],\n",
       "        [2.1677e-11, 4.3919e-05, 2.1637e-05, 1.0240e-08, 3.3836e-03, 9.9651e-01,\n",
       "         6.7648e-06, 1.4746e-05, 7.0364e-16, 1.6063e-05],\n",
       "        [9.6687e-16, 9.9999e-01, 2.6882e-07, 3.6142e-14, 8.3386e-06, 9.3741e-12,\n",
       "         1.1984e-14, 1.0800e-08, 4.9781e-12, 4.7504e-13],\n",
       "        [6.6003e-05, 1.5471e-05, 8.6989e-03, 5.8978e-07, 1.1760e-04, 8.7335e-02,\n",
       "         4.2485e-07, 9.0377e-01, 4.4263e-08, 7.1042e-07],\n",
       "        [5.0474e-11, 2.4093e-12, 8.7875e-10, 3.9554e-06, 9.9988e-01, 9.9635e-06,\n",
       "         5.7676e-10, 1.0481e-04, 4.0463e-13, 3.3565e-10],\n",
       "        [1.0945e-11, 4.2107e-07, 5.9017e-05, 7.9565e-13, 9.3998e-01, 3.4033e-03,\n",
       "         4.2958e-03, 5.2257e-02, 8.1739e-10, 7.0562e-07],\n",
       "        [4.1735e-19, 4.8241e-19, 4.3115e-13, 6.6514e-17, 2.1039e-08, 1.0000e+00,\n",
       "         2.8627e-12, 4.6815e-07, 3.4760e-20, 4.3205e-15],\n",
       "        [4.5150e-09, 1.2103e-07, 5.6743e-05, 4.5205e-09, 1.2628e-01, 1.6110e-02,\n",
       "         2.5046e-08, 8.5756e-01, 2.7639e-11, 2.9382e-08],\n",
       "        [3.8942e-09, 7.4905e-06, 5.3746e-06, 3.6322e-09, 8.5369e-01, 6.6236e-03,\n",
       "         5.0455e-03, 1.3434e-01, 1.3137e-06, 2.8312e-04],\n",
       "        [3.5259e-08, 1.2981e-08, 3.8316e-02, 3.6169e-10, 5.4886e-02, 8.7436e-01,\n",
       "         4.3701e-05, 3.2391e-02, 4.3904e-11, 2.8209e-07],\n",
       "        [1.1798e-10, 2.1576e-10, 1.7549e-01, 5.2402e-09, 1.6081e-04, 8.2096e-01,\n",
       "         1.1468e-06, 3.3843e-03, 1.2729e-09, 2.9055e-06],\n",
       "        [8.1228e-14, 4.1708e-08, 3.8762e-04, 8.2674e-16, 4.4950e-03, 6.4170e-03,\n",
       "         4.6297e-07, 9.8870e-01, 1.9701e-11, 2.2682e-08],\n",
       "        [1.9548e-10, 5.6475e-10, 7.9737e-04, 1.7033e-09, 9.1180e-02, 6.0559e-01,\n",
       "         6.4904e-09, 3.0243e-01, 3.1588e-08, 7.4906e-11],\n",
       "        [3.8808e-07, 1.2232e-06, 2.0612e-04, 4.1103e-08, 9.0806e-01, 2.4865e-02,\n",
       "         5.1638e-09, 1.3791e-04, 4.6604e-12, 6.6729e-02],\n",
       "        [5.3110e-15, 1.2959e-06, 2.3601e-03, 2.1977e-07, 2.8040e-03, 9.9467e-01,\n",
       "         1.2723e-10, 5.9325e-06, 4.8237e-12, 1.5558e-04],\n",
       "        [8.3314e-12, 7.5631e-08, 2.2150e-07, 2.3200e-12, 9.8245e-01, 1.6374e-02,\n",
       "         3.9771e-11, 7.3434e-05, 1.0495e-12, 1.1025e-03],\n",
       "        [1.5076e-13, 2.5314e-04, 1.3525e-03, 2.4174e-06, 9.0586e-01, 2.7846e-04,\n",
       "         5.2885e-07, 7.6449e-10, 3.0226e-08, 9.2253e-02],\n",
       "        [3.8738e-07, 2.2139e-04, 6.8891e-06, 2.2066e-09, 8.1376e-01, 1.6991e-01,\n",
       "         5.1147e-08, 1.6101e-02, 4.2693e-08, 2.4796e-07],\n",
       "        [4.5430e-11, 1.6924e-04, 4.0188e-04, 1.9584e-10, 3.9944e-01, 2.2258e-01,\n",
       "         9.4973e-06, 3.7735e-01, 5.1300e-06, 4.2377e-05],\n",
       "        [3.1471e-07, 7.2777e-12, 3.5864e-08, 2.2897e-12, 1.4770e-02, 9.8028e-01,\n",
       "         6.3483e-10, 4.9524e-03, 3.8398e-07, 1.3920e-09],\n",
       "        [1.2517e-08, 1.1598e-08, 5.3774e-06, 1.3494e-06, 1.1662e-01, 7.9719e-02,\n",
       "         3.8811e-06, 8.0351e-01, 5.8302e-12, 1.3982e-04],\n",
       "        [1.2584e-05, 5.0029e-06, 1.6633e-01, 4.1771e-05, 8.4091e-02, 4.6094e-01,\n",
       "         5.4794e-02, 2.3292e-01, 1.0065e-07, 8.5837e-04],\n",
       "        [8.7749e-17, 1.1732e-08, 4.5320e-03, 4.2910e-06, 4.7351e-08, 9.9525e-01,\n",
       "         9.8516e-14, 4.2505e-10, 2.7434e-09, 2.1211e-04],\n",
       "        [3.3652e-08, 2.8903e-05, 1.7409e-01, 2.7115e-08, 8.1129e-01, 1.9066e-04,\n",
       "         2.5551e-08, 1.4241e-02, 3.0885e-06, 1.5721e-04],\n",
       "        [2.4795e-13, 1.2977e-10, 4.4647e-06, 7.5099e-10, 8.8908e-01, 3.9002e-05,\n",
       "         2.7929e-06, 1.1087e-01, 5.3397e-12, 4.4483e-08],\n",
       "        [4.4825e-10, 8.4278e-09, 1.3313e-04, 3.6367e-09, 2.5744e-05, 6.8594e-01,\n",
       "         3.6283e-04, 2.5281e-01, 1.3627e-12, 6.0735e-02],\n",
       "        [2.9140e-10, 2.7556e-07, 4.0341e-06, 1.8090e-09, 1.4912e-02, 9.8236e-01,\n",
       "         1.4554e-08, 2.7036e-03, 2.0219e-08, 1.8016e-05],\n",
       "        [5.2086e-15, 3.0106e-08, 7.1898e-03, 1.6106e-08, 9.3385e-01, 5.8901e-02,\n",
       "         7.5348e-10, 3.8399e-05, 7.5263e-08, 2.0456e-05],\n",
       "        [1.5520e-15, 2.5713e-13, 2.3838e-06, 3.5956e-10, 9.9901e-01, 1.8861e-04,\n",
       "         1.9614e-08, 7.9573e-04, 1.1160e-10, 5.9888e-07],\n",
       "        [2.6723e-08, 2.4049e-02, 1.2451e-03, 9.7027e-09, 9.1031e-01, 3.3662e-02,\n",
       "         5.8240e-05, 4.4213e-03, 1.9038e-08, 2.6251e-02],\n",
       "        [2.8152e-08, 5.7759e-05, 1.2863e-05, 2.3023e-03, 1.2322e-01, 8.7373e-01,\n",
       "         6.7969e-04, 2.8773e-06, 8.8135e-10, 2.7520e-06],\n",
       "        [2.2903e-10, 8.6327e-09, 8.4573e-02, 8.2808e-06, 9.0657e-01, 6.7768e-03,\n",
       "         2.0679e-03, 5.9678e-11, 5.0900e-12, 6.5528e-06],\n",
       "        [3.8673e-15, 2.6281e-03, 4.1218e-05, 8.6462e-08, 7.3479e-01, 2.6252e-01,\n",
       "         9.0305e-06, 9.0293e-06, 3.7748e-10, 6.7700e-06],\n",
       "        [1.5553e-08, 3.2696e-05, 1.3184e-04, 9.1063e-07, 9.3718e-01, 6.2280e-02,\n",
       "         5.5010e-06, 3.6590e-04, 7.6310e-08, 2.7842e-07],\n",
       "        [6.3449e-11, 5.1243e-13, 8.2758e-10, 1.8002e-16, 4.5568e-04, 9.9951e-01,\n",
       "         2.1817e-05, 1.1765e-05, 3.2363e-13, 2.6194e-09],\n",
       "        [1.4130e-12, 1.2144e-07, 2.1693e-03, 8.6677e-06, 9.9746e-01, 2.6528e-04,\n",
       "         2.4572e-11, 9.0401e-05, 4.0608e-13, 2.5179e-06],\n",
       "        [1.9829e-15, 2.0315e-07, 1.2331e-07, 2.0237e-10, 9.9993e-01, 6.8743e-05,\n",
       "         4.5139e-08, 5.4166e-10, 1.2689e-12, 9.3709e-07],\n",
       "        [1.2846e-12, 1.4356e-12, 1.7342e-03, 2.1517e-11, 7.9449e-01, 2.0375e-01,\n",
       "         2.0132e-06, 2.1640e-05, 3.9182e-13, 2.9981e-07],\n",
       "        [3.9352e-10, 1.3169e-10, 1.4863e-08, 2.6322e-10, 9.9998e-01, 1.0200e-05,\n",
       "         8.2970e-07, 4.5436e-06, 1.0343e-10, 3.0858e-07],\n",
       "        [2.0938e-09, 2.8525e-07, 1.4311e-04, 7.9542e-13, 9.8180e-01, 1.1403e-02,\n",
       "         8.6964e-07, 5.4534e-03, 8.4785e-10, 1.1964e-03],\n",
       "        [9.1880e-13, 1.1721e-08, 8.1192e-06, 4.9776e-09, 9.6744e-01, 1.6999e-04,\n",
       "         3.7894e-05, 3.2347e-02, 2.4299e-09, 2.0414e-06],\n",
       "        [5.8207e-13, 1.5537e-10, 7.7577e-04, 1.2128e-08, 4.1484e-02, 9.5296e-01,\n",
       "         9.2283e-07, 4.7801e-03, 5.7849e-12, 2.1784e-08],\n",
       "        [5.8417e-19, 1.0318e-11, 6.3808e-05, 2.3281e-10, 8.9396e-08, 9.9993e-01,\n",
       "         1.1825e-12, 1.2131e-06, 9.4486e-13, 6.9055e-08],\n",
       "        [2.1876e-07, 4.7510e-09, 3.4440e-05, 2.9115e-14, 2.4472e-04, 9.9836e-01,\n",
       "         2.1278e-05, 2.2858e-04, 6.2012e-05, 1.0442e-03],\n",
       "        [1.0909e-09, 8.1981e-08, 5.6990e-05, 4.2114e-06, 1.0423e-03, 9.9832e-01,\n",
       "         3.8645e-09, 1.8699e-08, 2.7477e-11, 5.7815e-04],\n",
       "        [1.1961e-09, 3.5242e-08, 1.8076e-03, 5.0982e-09, 5.9924e-04, 6.7985e-01,\n",
       "         1.3728e-04, 3.1760e-01, 1.7654e-13, 1.0193e-06],\n",
       "        [8.5976e-11, 1.1527e-07, 3.1295e-07, 2.7754e-09, 3.4268e-03, 9.9657e-01,\n",
       "         1.7626e-11, 4.0056e-07, 8.8629e-16, 1.4382e-09],\n",
       "        [3.2999e-08, 1.0773e-03, 3.2822e-01, 6.0024e-13, 7.3189e-03, 6.3169e-01,\n",
       "         2.0920e-08, 1.8575e-03, 3.0280e-07, 2.9833e-02],\n",
       "        [1.2134e-11, 2.2253e-09, 3.2343e-05, 2.0367e-09, 2.7174e-06, 9.9775e-01,\n",
       "         1.0064e-07, 2.2120e-03, 1.9477e-09, 1.0294e-10],\n",
       "        [1.5525e-10, 1.6838e-06, 6.6829e-04, 8.7275e-11, 5.6979e-01, 4.2809e-01,\n",
       "         2.4937e-07, 1.3975e-03, 8.0688e-07, 5.2333e-05],\n",
       "        [3.0352e-13, 1.8715e-03, 6.9991e-06, 2.0340e-08, 2.2038e-03, 9.8661e-01,\n",
       "         2.2960e-11, 9.3017e-03, 2.4644e-11, 3.5426e-06],\n",
       "        [4.8940e-15, 5.7981e-10, 6.3449e-07, 1.3537e-07, 7.6074e-01, 2.3926e-01,\n",
       "         2.5333e-10, 1.4969e-07, 1.9043e-09, 9.8132e-07],\n",
       "        [1.0734e-11, 8.3081e-07, 6.9960e-02, 1.3871e-08, 8.8848e-01, 4.5259e-04,\n",
       "         9.0324e-03, 2.4557e-04, 1.2498e-11, 3.1832e-02],\n",
       "        [1.2128e-12, 1.3102e-07, 2.7205e-06, 6.9705e-07, 9.9999e-01, 2.5399e-07,\n",
       "         1.0513e-09, 1.6390e-06, 5.5333e-08, 6.4142e-08]])"
      ]
     },
     "execution_count": 90,
     "metadata": {},
     "output_type": "execute_result"
    }
   ],
   "source": [
    "probabilities"
   ]
  },
  {
   "cell_type": "markdown",
   "metadata": {},
   "source": [
    "## Building networks with PyTorch\n",
    "\n",
    "PyTorch provides a module `nn` that makes building networks much simpler. Here I'll show you how to build the same one as above with 784 inputs, 256 hidden units, 10 output units and a softmax output."
   ]
  },
  {
   "cell_type": "code",
   "execution_count": 91,
   "metadata": {},
   "outputs": [],
   "source": [
    "from torch import nn"
   ]
  },
  {
   "cell_type": "code",
   "execution_count": 92,
   "metadata": {},
   "outputs": [],
   "source": [
    "class Network(nn.Module):\n",
    "    def __init__(self):\n",
    "        super().__init__()\n",
    "        \n",
    "        # Inputs to hidden layer linear transformation\n",
    "        self.hidden = nn.Linear(784, 256)\n",
    "        # Output layer, 10 units - one for each digit\n",
    "        self.output = nn.Linear(256, 10)\n",
    "        \n",
    "        # Define sigmoid activation and softmax output \n",
    "        self.sigmoid = nn.Sigmoid()\n",
    "        self.softmax = nn.Softmax(dim=1)\n",
    "        \n",
    "    def forward(self, x):\n",
    "        # Pass the input tensor through each of our operations\n",
    "        x = self.hidden(x)\n",
    "        x = self.sigmoid(x)\n",
    "        x = self.output(x)\n",
    "        x = self.softmax(x)\n",
    "        \n",
    "        return x"
   ]
  },
  {
   "cell_type": "markdown",
   "metadata": {},
   "source": [
    "Let's go through this bit by bit.\n",
    "\n",
    "```python\n",
    "class Network(nn.Module):\n",
    "```\n",
    "\n",
    "Here we're inheriting from `nn.Module`. Combined with `super().__init__()` this creates a class that tracks the architecture and provides a lot of useful methods and attributes. It is mandatory to inherit from `nn.Module` when you're creating a class for your network. The name of the class itself can be anything.\n",
    "\n",
    "```python\n",
    "self.hidden = nn.Linear(784, 256)\n",
    "```\n",
    "\n",
    "This line creates a module for a linear transformation, $x\\mathbf{W} + b$, with 784 inputs and 256 outputs and assigns it to `self.hidden`. The module automatically creates the weight and bias tensors which we'll use in the `forward` method. You can access the weight and bias tensors once the network (`net`) is created with `net.hidden.weight` and `net.hidden.bias`.\n",
    "\n",
    "```python\n",
    "self.output = nn.Linear(256, 10)\n",
    "```\n",
    "\n",
    "Similarly, this creates another linear transformation with 256 inputs and 10 outputs.\n",
    "\n",
    "```python\n",
    "self.sigmoid = nn.Sigmoid()\n",
    "self.softmax = nn.Softmax(dim=1)\n",
    "```\n",
    "\n",
    "Here I defined operations for the sigmoid activation and softmax output. Setting `dim=1` in `nn.Softmax(dim=1)` calculates softmax across the columns.\n",
    "\n",
    "```python\n",
    "def forward(self, x):\n",
    "```\n",
    "\n",
    "PyTorch networks created with `nn.Module` must have a `forward` method defined. It takes in a tensor `x` and passes it through the operations you defined in the `__init__` method.\n",
    "\n",
    "```python\n",
    "x = self.hidden(x)\n",
    "x = self.sigmoid(x)\n",
    "x = self.output(x)\n",
    "x = self.softmax(x)\n",
    "```\n",
    "\n",
    "Here the input tensor `x` is passed through each operation a reassigned to `x`. We can see that the input tensor goes through the hidden layer, then a sigmoid function, then the output layer, and finally the softmax function. It doesn't matter what you name the variables here, as long as the inputs and outputs of the operations match the network architecture you want to build. The order in which you define things in the `__init__` method doesn't matter, but you'll need to sequence the operations correctly in the `forward` method.\n",
    "\n",
    "Now we can create a `Network` object."
   ]
  },
  {
   "cell_type": "code",
   "execution_count": 93,
   "metadata": {},
   "outputs": [
    {
     "data": {
      "text/plain": [
       "Network(\n",
       "  (hidden): Linear(in_features=784, out_features=256, bias=True)\n",
       "  (output): Linear(in_features=256, out_features=10, bias=True)\n",
       "  (sigmoid): Sigmoid()\n",
       "  (softmax): Softmax()\n",
       ")"
      ]
     },
     "execution_count": 93,
     "metadata": {},
     "output_type": "execute_result"
    }
   ],
   "source": [
    "# Create the network and look at it's text representation\n",
    "model = Network()\n",
    "model"
   ]
  },
  {
   "cell_type": "markdown",
   "metadata": {},
   "source": [
    "You can define the network somewhat more concisely and clearly using the `torch.nn.functional` module. This is the most common way you'll see networks defined as many operations are simple element-wise functions. We normally import this module as `F`, `import torch.nn.functional as F`."
   ]
  },
  {
   "cell_type": "code",
   "execution_count": 94,
   "metadata": {},
   "outputs": [],
   "source": [
    "import torch.nn.functional as F\n",
    "\n",
    "class Network(nn.Module):\n",
    "    def __init__(self):\n",
    "        super().__init__()\n",
    "        # Inputs to hidden layer linear transformation\n",
    "        self.hidden = nn.Linear(784, 256)\n",
    "        # Output layer, 10 units - one for each digit\n",
    "        self.output = nn.Linear(256, 10)\n",
    "        \n",
    "    def forward(self, x):\n",
    "        # Hidden layer with sigmoid activation\n",
    "        x = F.sigmoid(self.hidden(x))\n",
    "        # Output layer with softmax activation\n",
    "        x = F.softmax(self.output(x), dim=1)\n",
    "        \n",
    "        return x"
   ]
  },
  {
   "cell_type": "markdown",
   "metadata": {},
   "source": [
    "### Activation functions\n",
    "\n",
    "So far we've only been looking at the softmax activation, but in general any function can be used as an activation function. The only requirement is that for a network to approximate a non-linear function, the activation functions must be non-linear. Here are a few more examples of common activation functions: Tanh (hyperbolic tangent), and ReLU (rectified linear unit).\n",
    "\n",
    "<img src=\"assets/activation.png\" width=700px>\n",
    "\n",
    "In practice, the ReLU function is used almost exclusively as the activation function for hidden layers."
   ]
  },
  {
   "cell_type": "markdown",
   "metadata": {},
   "source": [
    "### Your Turn to Build a Network\n",
    "\n",
    "<img src=\"assets/mlp_mnist.png\" width=600px>\n",
    "\n",
    "> **Exercise:** Create a network with 784 input units, a hidden layer with 128 units and a ReLU activation, then a hidden layer with 64 units and a ReLU activation, and finally an output layer with a softmax activation as shown above. You can use a ReLU activation with the `nn.ReLU` module or `F.relu` function."
   ]
  },
  {
   "cell_type": "code",
   "execution_count": 102,
   "metadata": {
    "scrolled": true
   },
   "outputs": [],
   "source": [
    "## Your solution here\n",
    "import torch.nn.functional as F\n",
    "\n",
    "class Network(nn.Module):\n",
    "    def __init__(self):\n",
    "        super().__init__()\n",
    "        # Inputs to hidden layer 1 linear transformation\n",
    "        self.fc1 = nn.Linear(784, 128)\n",
    "        # Inputs to hidden layer 2 linear transformation\n",
    "        self.fc2 = nn.Linear(128, 64)\n",
    "        # Output layer, 10 units - one for each digit\n",
    "        self.fc3 = nn.Linear(64, 10)\n",
    "        \n",
    "    def forward(self, x):\n",
    "        # Hidden layer 1 with ReLU activation\n",
    "        x = F.relu(self.fc1(x))\n",
    "        # Hidden layer 2 with ReLU activation\n",
    "        x = F.relu(self.fc2(x))        \n",
    "        # Output layer with softmax activation\n",
    "        x = F.softmax(self.fc3(x), dim=1)\n",
    "        \n",
    "        return x"
   ]
  },
  {
   "cell_type": "code",
   "execution_count": 103,
   "metadata": {},
   "outputs": [
    {
     "data": {
      "text/plain": [
       "Network(\n",
       "  (fc1): Linear(in_features=784, out_features=128, bias=True)\n",
       "  (fc2): Linear(in_features=128, out_features=64, bias=True)\n",
       "  (fc3): Linear(in_features=64, out_features=10, bias=True)\n",
       ")"
      ]
     },
     "execution_count": 103,
     "metadata": {},
     "output_type": "execute_result"
    }
   ],
   "source": [
    "model = Network()\n",
    "model"
   ]
  },
  {
   "cell_type": "markdown",
   "metadata": {},
   "source": [
    "### Initializing weights and biases\n",
    "\n",
    "The weights and such are automatically initialized for you, but it's possible to customize how they are initialized. The weights and biases are tensors attached to the layer you defined, you can get them with `model.fc1.weight` for instance."
   ]
  },
  {
   "cell_type": "code",
   "execution_count": 105,
   "metadata": {},
   "outputs": [
    {
     "name": "stdout",
     "output_type": "stream",
     "text": [
      "Parameter containing:\n",
      "tensor([[ 0.0187,  0.0008,  0.0027,  ..., -0.0139, -0.0178, -0.0314],\n",
      "        [ 0.0058, -0.0355, -0.0277,  ...,  0.0048,  0.0266, -0.0346],\n",
      "        [ 0.0104,  0.0216,  0.0029,  ...,  0.0237, -0.0078,  0.0279],\n",
      "        ...,\n",
      "        [-0.0052, -0.0019, -0.0027,  ..., -0.0329, -0.0265,  0.0151],\n",
      "        [ 0.0279, -0.0188,  0.0283,  ..., -0.0199, -0.0235, -0.0159],\n",
      "        [ 0.0007,  0.0001,  0.0139,  ..., -0.0300,  0.0293,  0.0296]],\n",
      "       requires_grad=True)\n",
      "Parameter containing:\n",
      "tensor([-0.0196, -0.0218, -0.0280,  0.0107, -0.0162, -0.0182,  0.0260,  0.0172,\n",
      "        -0.0177, -0.0286, -0.0102, -0.0317, -0.0206,  0.0286,  0.0154,  0.0337,\n",
      "         0.0174,  0.0132, -0.0327, -0.0131,  0.0066, -0.0100, -0.0193, -0.0345,\n",
      "         0.0240, -0.0032,  0.0351, -0.0066, -0.0120, -0.0259,  0.0134, -0.0014,\n",
      "         0.0250, -0.0010,  0.0182,  0.0151,  0.0352,  0.0126, -0.0077,  0.0232,\n",
      "        -0.0287,  0.0327, -0.0287, -0.0234,  0.0107, -0.0068,  0.0256,  0.0062,\n",
      "        -0.0322,  0.0342,  0.0262,  0.0317,  0.0081,  0.0023, -0.0211, -0.0128,\n",
      "         0.0110, -0.0323,  0.0285,  0.0105, -0.0295,  0.0338, -0.0338, -0.0091,\n",
      "         0.0010,  0.0308, -0.0209,  0.0351,  0.0030,  0.0078,  0.0061,  0.0072,\n",
      "        -0.0129,  0.0001,  0.0017,  0.0218,  0.0042, -0.0100,  0.0351,  0.0171,\n",
      "         0.0130,  0.0164, -0.0304,  0.0084,  0.0165, -0.0212, -0.0293,  0.0287,\n",
      "         0.0258,  0.0091, -0.0339, -0.0066, -0.0162,  0.0349, -0.0304,  0.0293,\n",
      "        -0.0329, -0.0221, -0.0224,  0.0053,  0.0174,  0.0051,  0.0269,  0.0250,\n",
      "        -0.0287, -0.0208,  0.0158,  0.0343,  0.0305, -0.0345,  0.0142, -0.0064,\n",
      "         0.0318,  0.0166,  0.0049,  0.0201,  0.0115,  0.0221, -0.0187, -0.0044,\n",
      "        -0.0273, -0.0229,  0.0182,  0.0243, -0.0216,  0.0062,  0.0224, -0.0184],\n",
      "       requires_grad=True)\n"
     ]
    }
   ],
   "source": [
    "print(model.fc1.weight)\n",
    "print(model.fc1.bias)"
   ]
  },
  {
   "cell_type": "markdown",
   "metadata": {},
   "source": [
    "For custom initialization, we want to modify these tensors in place. These are actually autograd *Variables*, so we need to get back the actual tensors with `model.fc1.weight.data`. Once we have the tensors, we can fill them with zeros (for biases) or random normal values."
   ]
  },
  {
   "cell_type": "code",
   "execution_count": 106,
   "metadata": {},
   "outputs": [
    {
     "data": {
      "text/plain": [
       "tensor([0., 0., 0., 0., 0., 0., 0., 0., 0., 0., 0., 0., 0., 0., 0., 0., 0., 0.,\n",
       "        0., 0., 0., 0., 0., 0., 0., 0., 0., 0., 0., 0., 0., 0., 0., 0., 0., 0.,\n",
       "        0., 0., 0., 0., 0., 0., 0., 0., 0., 0., 0., 0., 0., 0., 0., 0., 0., 0.,\n",
       "        0., 0., 0., 0., 0., 0., 0., 0., 0., 0., 0., 0., 0., 0., 0., 0., 0., 0.,\n",
       "        0., 0., 0., 0., 0., 0., 0., 0., 0., 0., 0., 0., 0., 0., 0., 0., 0., 0.,\n",
       "        0., 0., 0., 0., 0., 0., 0., 0., 0., 0., 0., 0., 0., 0., 0., 0., 0., 0.,\n",
       "        0., 0., 0., 0., 0., 0., 0., 0., 0., 0., 0., 0., 0., 0., 0., 0., 0., 0.,\n",
       "        0., 0.])"
      ]
     },
     "execution_count": 106,
     "metadata": {},
     "output_type": "execute_result"
    }
   ],
   "source": [
    "# Set biases to all zeros\n",
    "model.fc1.bias.data.fill_(0)"
   ]
  },
  {
   "cell_type": "code",
   "execution_count": 109,
   "metadata": {},
   "outputs": [
    {
     "data": {
      "text/plain": [
       "tensor([[ 0.0099, -0.0087,  0.0115,  ...,  0.0079,  0.0045, -0.0033],\n",
       "        [-0.0023,  0.0147,  0.0060,  ..., -0.0047,  0.0197, -0.0022],\n",
       "        [-0.0055, -0.0164,  0.0122,  ...,  0.0039,  0.0083, -0.0145],\n",
       "        ...,\n",
       "        [ 0.0145,  0.0151,  0.0121,  ...,  0.0133, -0.0053, -0.0009],\n",
       "        [-0.0039,  0.0085, -0.0003,  ...,  0.0155, -0.0002, -0.0130],\n",
       "        [ 0.0059,  0.0000, -0.0199,  ..., -0.0003, -0.0099,  0.0095]])"
      ]
     },
     "execution_count": 109,
     "metadata": {},
     "output_type": "execute_result"
    }
   ],
   "source": [
    "# sample from random normal with standard dev = 0.01\n",
    "model.fc1.weight.data.normal_(std=0.01)"
   ]
  },
  {
   "cell_type": "markdown",
   "metadata": {},
   "source": [
    "### Forward pass\n",
    "\n",
    "Now that we have a network, let's see what happens when we pass in an image."
   ]
  },
  {
   "cell_type": "code",
   "execution_count": 111,
   "metadata": {},
   "outputs": [
    {
     "data": {
      "image/png": "[encoded data removed]",
      "text/plain": [
       "<Figure size 432x648 with 2 Axes>"
      ]
     },
     "metadata": {
      "image/png": {
       "height": 224,
       "width": 423
      }
     },
     "output_type": "display_data"
    }
   ],
   "source": [
    "# Grab some data \n",
    "dataiter = iter(trainloader)\n",
    "images, labels = dataiter.next()\n",
    "\n",
    "# Resize images into a 1D vector, new shape is (batch size, color channels, image pixels) \n",
    "images.resize_(64, 1, 784)\n",
    "# or images.resize_(images.shape[0], 1, 784) to automatically get batch size\n",
    "\n",
    "# Forward pass through the network\n",
    "img_idx = 0\n",
    "ps = model.forward(images[img_idx,:])\n",
    "\n",
    "img = images[img_idx]\n",
    "helper.view_classify(img.view(1, 28, 28), ps)"
   ]
  },
  {
   "cell_type": "markdown",
   "metadata": {},
   "source": [
    "As you can see above, our network has basically no idea what this digit is. It's because we haven't trained it yet, all the weights are random!\n",
    "\n",
    "### Using `nn.Sequential`\n",
    "\n",
    "PyTorch provides a convenient way to build networks like this where a tensor is passed sequentially through operations, `nn.Sequential` ([documentation](https://pytorch.org/docs/master/nn.html#torch.nn.Sequential)). Using this to build the equivalent network:"
   ]
  },
  {
   "cell_type": "code",
   "execution_count": 113,
   "metadata": {},
   "outputs": [
    {
     "name": "stdout",
     "output_type": "stream",
     "text": [
      "Sequential(\n",
      "  (0): Linear(in_features=784, out_features=128, bias=True)\n",
      "  (1): ReLU()\n",
      "  (2): Linear(in_features=128, out_features=64, bias=True)\n",
      "  (3): ReLU()\n",
      "  (4): Linear(in_features=64, out_features=10, bias=True)\n",
      "  (5): Softmax()\n",
      ")\n"
     ]
    },
    {
     "data": {
      "image/png": "[encoded data removed]",
      "text/plain": [
       "<Figure size 432x648 with 2 Axes>"
      ]
     },
     "metadata": {
      "image/png": {
       "height": 224,
       "width": 423
      }
     },
     "output_type": "display_data"
    }
   ],
   "source": [
    "# Hyperparameters for our network\n",
    "input_size = 784\n",
    "hidden_sizes = [128, 64]\n",
    "output_size = 10\n",
    "\n",
    "# Build a feed-forward network\n",
    "model = nn.Sequential(nn.Linear(input_size, hidden_sizes[0]),\n",
    "                      nn.ReLU(),\n",
    "                      nn.Linear(hidden_sizes[0], hidden_sizes[1]),\n",
    "                      nn.ReLU(),\n",
    "                      nn.Linear(hidden_sizes[1], output_size),\n",
    "                      nn.Softmax(dim=1))\n",
    "print(model)\n",
    "\n",
    "# Forward pass through the network and display output\n",
    "images, labels = next(iter(trainloader))\n",
    "images.resize_(images.shape[0], 1, 784)\n",
    "ps = model.forward(images[0,:])\n",
    "helper.view_classify(images[0].view(1, 28, 28), ps)"
   ]
  },
  {
   "cell_type": "markdown",
   "metadata": {},
   "source": [
    "Here our model is the same as before: 784 input units, a hidden layer with 128 units, ReLU activation, 64 unit hidden layer, another ReLU, then the output layer with 10 units, and the softmax output.\n",
    "\n",
    "The operations are availble by passing in the appropriate index. For example, if you want to get first Linear operation and look at the weights, you'd use `model[0]`."
   ]
  },
  {
   "cell_type": "code",
   "execution_count": 114,
   "metadata": {},
   "outputs": [
    {
     "name": "stdout",
     "output_type": "stream",
     "text": [
      "Linear(in_features=784, out_features=128, bias=True)\n"
     ]
    },
    {
     "data": {
      "text/plain": [
       "Parameter containing:\n",
       "tensor([[ 0.0114, -0.0101, -0.0026,  ..., -0.0335, -0.0062, -0.0289],\n",
       "        [ 0.0032,  0.0090,  0.0073,  ..., -0.0183,  0.0161, -0.0192],\n",
       "        [-0.0174,  0.0354,  0.0286,  ..., -0.0153, -0.0117, -0.0228],\n",
       "        ...,\n",
       "        [ 0.0337, -0.0174,  0.0102,  ...,  0.0254, -0.0017,  0.0304],\n",
       "        [-0.0019,  0.0342,  0.0339,  ..., -0.0188, -0.0068, -0.0106],\n",
       "        [-0.0045,  0.0348,  0.0045,  ...,  0.0100,  0.0174,  0.0318]],\n",
       "       requires_grad=True)"
      ]
     },
     "execution_count": 114,
     "metadata": {},
     "output_type": "execute_result"
    }
   ],
   "source": [
    "print(model[0])\n",
    "model[0].weight"
   ]
  },
  {
   "cell_type": "code",
   "execution_count": 115,
   "metadata": {},
   "outputs": [
    {
     "name": "stdout",
     "output_type": "stream",
     "text": [
      "ReLU()\n"
     ]
    }
   ],
   "source": [
    "print(model[1])"
   ]
  },
  {
   "cell_type": "code",
   "execution_count": 116,
   "metadata": {},
   "outputs": [
    {
     "name": "stdout",
     "output_type": "stream",
     "text": [
      "Linear(in_features=128, out_features=64, bias=True)\n"
     ]
    },
    {
     "data": {
      "text/plain": [
       "Parameter containing:\n",
       "tensor([[ 0.0504, -0.0283, -0.0307,  ...,  0.0420, -0.0313, -0.0729],\n",
       "        [-0.0304,  0.0598,  0.0717,  ...,  0.0569, -0.0846, -0.0520],\n",
       "        [-0.0186,  0.0438,  0.0665,  ...,  0.0744,  0.0033, -0.0834],\n",
       "        ...,\n",
       "        [-0.0195, -0.0393, -0.0023,  ..., -0.0401,  0.0272, -0.0490],\n",
       "        [-0.0790, -0.0677,  0.0493,  ..., -0.0388,  0.0693, -0.0662],\n",
       "        [-0.0421, -0.0437,  0.0241,  ...,  0.0718,  0.0101,  0.0418]],\n",
       "       requires_grad=True)"
      ]
     },
     "execution_count": 116,
     "metadata": {},
     "output_type": "execute_result"
    }
   ],
   "source": [
    "print(model[2])\n",
    "model[2].weight"
   ]
  },
  {
   "cell_type": "markdown",
   "metadata": {},
   "source": [
    "You can also pass in an `OrderedDict` to name the individual layers and operations, instead of using incremental integers. Note that dictionary keys must be unique, so _each operation must have a different name_."
   ]
  },
  {
   "cell_type": "code",
   "execution_count": 117,
   "metadata": {},
   "outputs": [
    {
     "data": {
      "text/plain": [
       "Sequential(\n",
       "  (fc1): Linear(in_features=784, out_features=128, bias=True)\n",
       "  (relu1): ReLU()\n",
       "  (fc2): Linear(in_features=128, out_features=64, bias=True)\n",
       "  (relu2): ReLU()\n",
       "  (output): Linear(in_features=64, out_features=10, bias=True)\n",
       "  (softmax): Softmax()\n",
       ")"
      ]
     },
     "execution_count": 117,
     "metadata": {},
     "output_type": "execute_result"
    }
   ],
   "source": [
    "from collections import OrderedDict\n",
    "model = nn.Sequential(OrderedDict([\n",
    "                      ('fc1', nn.Linear(input_size, hidden_sizes[0])),\n",
    "                      ('relu1', nn.ReLU()),\n",
    "                      ('fc2', nn.Linear(hidden_sizes[0], hidden_sizes[1])),\n",
    "                      ('relu2', nn.ReLU()),\n",
    "                      ('output', nn.Linear(hidden_sizes[1], output_size)),\n",
    "                      ('softmax', nn.Softmax(dim=1))]))\n",
    "model"
   ]
  },
  {
   "cell_type": "markdown",
   "metadata": {},
   "source": [
    "Now you can access layers either by integer or the name"
   ]
  },
  {
   "cell_type": "code",
   "execution_count": 118,
   "metadata": {},
   "outputs": [
    {
     "name": "stdout",
     "output_type": "stream",
     "text": [
      "Linear(in_features=784, out_features=128, bias=True)\n",
      "Linear(in_features=784, out_features=128, bias=True)\n"
     ]
    }
   ],
   "source": [
    "print(model[0])\n",
    "print(model.fc1)"
   ]
  },
  {
   "cell_type": "markdown",
   "metadata": {},
   "source": [
    "In the next notebook, we'll see how we can train a neural network to accuractly predict the numbers appearing in the MNIST images."
   ]
  }
 ],
 "metadata": {
  "kernelspec": {
   "display_name": "Python [default]",
   "language": "python",
   "name": "python3"
  },
  "language_info": {
   "codemirror_mode": {
    "name": "ipython",
    "version": 3
   },
   "file_extension": ".py",
   "mimetype": "text/x-python",
   "name": "python",
   "nbconvert_exporter": "python",
   "pygments_lexer": "ipython3",
   "version": "3.6.6"
  }
 },
 "nbformat": 4,
 "nbformat_minor": 2
}
