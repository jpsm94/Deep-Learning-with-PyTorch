{
 "cells": [
  {
   "cell_type": "markdown",
   "metadata": {},
   "source": [
    "# Saving and Loading Models\n",
    "\n",
    "In this notebook, I'll show you how to save and load models with PyTorch. This is important because you'll often want to load previously trained models to use in making predictions or to continue training on new data."
   ]
  },
  {
   "cell_type": "code",
   "execution_count": 1,
   "metadata": {},
   "outputs": [],
   "source": [
    "%matplotlib inline\n",
    "%config InlineBackend.figure_format = 'retina'\n",
    "\n",
    "import matplotlib.pyplot as plt\n",
    "\n",
    "import torch\n",
    "from torch import nn\n",
    "from torch import optim\n",
    "import torch.nn.functional as F\n",
    "from torchvision import datasets, transforms\n",
    "\n",
    "import helper\n",
    "import fc_model"
   ]
  },
  {
   "cell_type": "code",
   "execution_count": 8,
   "metadata": {},
   "outputs": [],
   "source": [
    "# Define a transform to normalize the data\n",
    "transform = transforms.Compose([transforms.ToTensor(),\n",
    "                                transforms.Normalize((0.5,), (0.5,))])\n",
    "# Download and load the training data\n",
    "trainset = datasets.FashionMNIST('F_MNIST_data/', download=True, train=True, transform=transform)\n",
    "trainloader = torch.utils.data.DataLoader(trainset, batch_size=64, shuffle=True)\n",
    "\n",
    "# Download and load the test data\n",
    "testset = datasets.FashionMNIST('F_MNIST_data/', download=True, train=False, transform=transform)\n",
    "testloader = torch.utils.data.DataLoader(testset, batch_size=64, shuffle=True)"
   ]
  },
  {
   "cell_type": "markdown",
   "metadata": {},
   "source": [
    "Here we can see one of the images."
   ]
  },
  {
   "cell_type": "code",
   "execution_count": 9,
   "metadata": {},
   "outputs": [
    {
     "data": {
      "image/png": "[encoded data removed]",
      "text/plain": [
       "<Figure size 432x288 with 1 Axes>"
      ]
     },
     "metadata": {
      "image/png": {
       "height": 233,
       "width": 233
      }
     },
     "output_type": "display_data"
    }
   ],
   "source": [
    "image, label = next(iter(trainloader))\n",
    "helper.imshow(image[0,:]);"
   ]
  },
  {
   "cell_type": "markdown",
   "metadata": {},
   "source": [
    "# Train a network\n",
    "\n",
    "To make things more concise here, I moved the model architecture and training code from the last part to a file called `fc_model`. Importing this, we can easily create a fully-connected network with `fc_model.Network`, and train the network using `fc_model.train`. I'll use this model (once it's trained) to demonstrate how we can save and load models."
   ]
  },
  {
   "cell_type": "code",
   "execution_count": 10,
   "metadata": {},
   "outputs": [],
   "source": [
    "# Create the network, define the criterion and optimizer\n",
    "\n",
    "model = fc_model.Network(784, 10, [512, 256, 128])\n",
    "criterion = nn.NLLLoss()\n",
    "optimizer = optim.Adam(model.parameters(), lr=0.001)"
   ]
  },
  {
   "cell_type": "code",
   "execution_count": 11,
   "metadata": {},
   "outputs": [
    {
     "name": "stdout",
     "output_type": "stream",
     "text": [
      "Epoch: 1/2..  Training Loss: 1.699..  Test Loss: 0.984..  Test Accuracy: 0.580\n",
      "Epoch: 1/2..  Training Loss: 1.023..  Test Loss: 0.767..  Test Accuracy: 0.705\n",
      "Epoch: 1/2..  Training Loss: 0.877..  Test Loss: 0.666..  Test Accuracy: 0.744\n",
      "Epoch: 1/2..  Training Loss: 0.795..  Test Loss: 0.642..  Test Accuracy: 0.751\n",
      "Epoch: 1/2..  Training Loss: 0.759..  Test Loss: 0.649..  Test Accuracy: 0.752\n",
      "Epoch: 1/2..  Training Loss: 0.731..  Test Loss: 0.625..  Test Accuracy: 0.764\n",
      "Epoch: 1/2..  Training Loss: 0.665..  Test Loss: 0.578..  Test Accuracy: 0.775\n",
      "Epoch: 1/2..  Training Loss: 0.693..  Test Loss: 0.576..  Test Accuracy: 0.788\n",
      "Epoch: 1/2..  Training Loss: 0.669..  Test Loss: 0.585..  Test Accuracy: 0.786\n",
      "Epoch: 1/2..  Training Loss: 0.670..  Test Loss: 0.576..  Test Accuracy: 0.779\n",
      "Epoch: 1/2..  Training Loss: 0.609..  Test Loss: 0.547..  Test Accuracy: 0.798\n",
      "Epoch: 1/2..  Training Loss: 0.661..  Test Loss: 0.560..  Test Accuracy: 0.797\n",
      "Epoch: 1/2..  Training Loss: 0.627..  Test Loss: 0.541..  Test Accuracy: 0.802\n",
      "Epoch: 1/2..  Training Loss: 0.579..  Test Loss: 0.553..  Test Accuracy: 0.797\n",
      "Epoch: 1/2..  Training Loss: 0.604..  Test Loss: 0.523..  Test Accuracy: 0.807\n",
      "Epoch: 1/2..  Training Loss: 0.599..  Test Loss: 0.506..  Test Accuracy: 0.812\n",
      "Epoch: 1/2..  Training Loss: 0.629..  Test Loss: 0.536..  Test Accuracy: 0.803\n",
      "Epoch: 1/2..  Training Loss: 0.587..  Test Loss: 0.502..  Test Accuracy: 0.815\n",
      "Epoch: 1/2..  Training Loss: 0.579..  Test Loss: 0.493..  Test Accuracy: 0.818\n",
      "Epoch: 1/2..  Training Loss: 0.600..  Test Loss: 0.512..  Test Accuracy: 0.811\n",
      "Epoch: 1/2..  Training Loss: 0.553..  Test Loss: 0.518..  Test Accuracy: 0.808\n",
      "Epoch: 1/2..  Training Loss: 0.578..  Test Loss: 0.489..  Test Accuracy: 0.821\n",
      "Epoch: 1/2..  Training Loss: 0.577..  Test Loss: 0.487..  Test Accuracy: 0.820\n",
      "Epoch: 2/2..  Training Loss: 0.546..  Test Loss: 0.480..  Test Accuracy: 0.833\n",
      "Epoch: 2/2..  Training Loss: 0.536..  Test Loss: 0.486..  Test Accuracy: 0.825\n",
      "Epoch: 2/2..  Training Loss: 0.568..  Test Loss: 0.471..  Test Accuracy: 0.830\n",
      "Epoch: 2/2..  Training Loss: 0.541..  Test Loss: 0.477..  Test Accuracy: 0.822\n",
      "Epoch: 2/2..  Training Loss: 0.568..  Test Loss: 0.497..  Test Accuracy: 0.821\n",
      "Epoch: 2/2..  Training Loss: 0.577..  Test Loss: 0.473..  Test Accuracy: 0.832\n",
      "Epoch: 2/2..  Training Loss: 0.525..  Test Loss: 0.478..  Test Accuracy: 0.825\n",
      "Epoch: 2/2..  Training Loss: 0.576..  Test Loss: 0.479..  Test Accuracy: 0.831\n",
      "Epoch: 2/2..  Training Loss: 0.576..  Test Loss: 0.473..  Test Accuracy: 0.829\n",
      "Epoch: 2/2..  Training Loss: 0.522..  Test Loss: 0.465..  Test Accuracy: 0.832\n",
      "Epoch: 2/2..  Training Loss: 0.527..  Test Loss: 0.458..  Test Accuracy: 0.834\n",
      "Epoch: 2/2..  Training Loss: 0.499..  Test Loss: 0.464..  Test Accuracy: 0.828\n",
      "Epoch: 2/2..  Training Loss: 0.523..  Test Loss: 0.460..  Test Accuracy: 0.827\n",
      "Epoch: 2/2..  Training Loss: 0.526..  Test Loss: 0.469..  Test Accuracy: 0.831\n",
      "Epoch: 2/2..  Training Loss: 0.534..  Test Loss: 0.455..  Test Accuracy: 0.835\n",
      "Epoch: 2/2..  Training Loss: 0.499..  Test Loss: 0.456..  Test Accuracy: 0.833\n",
      "Epoch: 2/2..  Training Loss: 0.552..  Test Loss: 0.457..  Test Accuracy: 0.830\n",
      "Epoch: 2/2..  Training Loss: 0.553..  Test Loss: 0.468..  Test Accuracy: 0.832\n",
      "Epoch: 2/2..  Training Loss: 0.517..  Test Loss: 0.442..  Test Accuracy: 0.839\n",
      "Epoch: 2/2..  Training Loss: 0.557..  Test Loss: 0.449..  Test Accuracy: 0.835\n",
      "Epoch: 2/2..  Training Loss: 0.495..  Test Loss: 0.455..  Test Accuracy: 0.838\n",
      "Epoch: 2/2..  Training Loss: 0.528..  Test Loss: 0.447..  Test Accuracy: 0.836\n",
      "Epoch: 2/2..  Training Loss: 0.500..  Test Loss: 0.452..  Test Accuracy: 0.835\n"
     ]
    }
   ],
   "source": [
    "fc_model.train(model, trainloader, testloader, criterion, optimizer, epochs=2)"
   ]
  },
  {
   "cell_type": "code",
   "execution_count": 12,
   "metadata": {},
   "outputs": [
    {
     "name": "stdout",
     "output_type": "stream",
     "text": [
      "Our model: \n",
      "\n",
      " Network(\n",
      "  (hidden_layers): ModuleList(\n",
      "    (0): Linear(in_features=784, out_features=512, bias=True)\n",
      "    (1): Linear(in_features=512, out_features=256, bias=True)\n",
      "    (2): Linear(in_features=256, out_features=128, bias=True)\n",
      "  )\n",
      "  (output): Linear(in_features=128, out_features=10, bias=True)\n",
      "  (dropout): Dropout(p=0.5)\n",
      ") \n",
      "\n",
      "The state dict keys: \n",
      "\n",
      " odict_keys(['hidden_layers.0.weight', 'hidden_layers.0.bias', 'hidden_layers.1.weight', 'hidden_layers.1.bias', 'hidden_layers.2.weight', 'hidden_layers.2.bias', 'output.weight', 'output.bias'])\n"
     ]
    }
   ],
   "source": [
    "print(\"Our model: \\n\\n\", model, '\\n')\n",
    "print(\"The state dict keys: \\n\\n\", model.state_dict().keys())"
   ]
  },
  {
   "cell_type": "markdown",
   "metadata": {},
   "source": [
    "The simplest thing to do is simply save the state dict with `torch.save`. For example, we can save it to a file `'checkpoint.pth'`."
   ]
  },
  {
   "cell_type": "code",
   "execution_count": 13,
   "metadata": {},
   "outputs": [
    {
     "name": "stdout",
     "output_type": "stream",
     "text": [
      "The state dict keys: \n",
      "\n",
      " OrderedDict([('hidden_layers.0.weight', tensor([[ 0.0435,  0.0294,  0.0208,  ...,  0.0389, -0.0077, -0.0058],\n",
      "        [ 0.0165,  0.0046,  0.0093,  ...,  0.0428,  0.0582,  0.0232],\n",
      "        [ 0.0341,  0.0141,  0.0013,  ..., -0.0015, -0.0138,  0.0334],\n",
      "        ...,\n",
      "        [ 0.0195, -0.0026,  0.0561,  ...,  0.0376,  0.0223,  0.0041],\n",
      "        [ 0.0629,  0.0339,  0.0384,  ...,  0.0431,  0.0054, -0.0008],\n",
      "        [-0.0067, -0.0078,  0.0189,  ...,  0.0263, -0.0086, -0.0093]])), ('hidden_layers.0.bias', tensor([-0.0007, -0.0389, -0.0322, -0.0287, -0.0234, -0.0312, -0.0017, -0.0328,\n",
      "        -0.0073, -0.0399, -0.0054, -0.0125, -0.0488,  0.0284,  0.0026, -0.0079,\n",
      "        -0.0332, -0.0395,  0.0149,  0.0040,  0.0001, -0.0064,  0.0171, -0.0462,\n",
      "         0.0068, -0.0236, -0.0169, -0.0267,  0.0062, -0.0306, -0.0405, -0.0018,\n",
      "        -0.0083,  0.0095,  0.0210, -0.0151, -0.0483,  0.0172, -0.0257, -0.0272,\n",
      "         0.0367,  0.0228, -0.0440, -0.0182, -0.0140, -0.0098, -0.0403, -0.0219,\n",
      "         0.0219, -0.0438, -0.0577,  0.0321, -0.0401, -0.0102, -0.0163,  0.0139,\n",
      "        -0.0317, -0.0035, -0.0034,  0.0061,  0.0181,  0.0448,  0.0039, -0.0212,\n",
      "         0.0071, -0.0285, -0.0382, -0.0357, -0.0708,  0.0038, -0.0073, -0.0133,\n",
      "         0.0211, -0.0030, -0.0359, -0.0060, -0.0122, -0.0285, -0.0097, -0.0252,\n",
      "         0.0161, -0.0155, -0.0442, -0.0458, -0.0499, -0.0415, -0.0491,  0.0132,\n",
      "        -0.0384, -0.0459, -0.0418, -0.0413,  0.0064,  0.0062, -0.0401, -0.0287,\n",
      "        -0.0007, -0.0455, -0.0146, -0.0450, -0.0298,  0.0660,  0.0006,  0.0170,\n",
      "        -0.0313,  0.0137,  0.0138, -0.0493, -0.0379, -0.0403, -0.0329, -0.0623,\n",
      "         0.0242, -0.0290, -0.0669, -0.0087, -0.0140, -0.0074,  0.0013, -0.0212,\n",
      "        -0.0349, -0.0145, -0.0004, -0.0027, -0.0268, -0.0382, -0.0455, -0.0484,\n",
      "         0.0047,  0.0464,  0.0041, -0.0117,  0.0010, -0.0630, -0.0359, -0.0084,\n",
      "         0.0103,  0.0060, -0.0353, -0.0430,  0.0208, -0.0227,  0.0193, -0.0316,\n",
      "        -0.0345, -0.0153,  0.0118, -0.0444, -0.0442,  0.0144, -0.0219, -0.0181,\n",
      "        -0.0067, -0.0433, -0.0254, -0.0036,  0.0025, -0.0272, -0.0232, -0.0023,\n",
      "        -0.0174, -0.0773, -0.0642, -0.0277, -0.0256,  0.0106, -0.0248,  0.0048,\n",
      "         0.0259, -0.0242, -0.0180, -0.0567, -0.0116,  0.0435, -0.0005,  0.0087,\n",
      "         0.0037,  0.0043,  0.0209, -0.0235,  0.0146, -0.0485, -0.0042, -0.0134,\n",
      "         0.0148, -0.0439, -0.0329, -0.0004, -0.0612,  0.0048, -0.0375, -0.0761,\n",
      "        -0.0054, -0.0132, -0.0208, -0.0051,  0.0037, -0.0219, -0.0265,  0.0058,\n",
      "        -0.0092, -0.0334,  0.0231,  0.0033, -0.0049, -0.0247, -0.0256, -0.0159,\n",
      "        -0.0148,  0.0030, -0.0395, -0.0255, -0.0316, -0.0220, -0.0283,  0.0120,\n",
      "        -0.0234, -0.0235, -0.0156,  0.0005, -0.0395,  0.0221, -0.0292, -0.0508,\n",
      "        -0.0570,  0.0019, -0.0199, -0.0447,  0.0176, -0.0070, -0.0634, -0.0000,\n",
      "        -0.0315, -0.0236, -0.0057,  0.0135,  0.0032,  0.0136, -0.0160, -0.0378,\n",
      "        -0.0210, -0.0345,  0.0262,  0.0092,  0.0106,  0.0278, -0.0489, -0.0456,\n",
      "        -0.0304,  0.0082, -0.0288,  0.0016,  0.0076, -0.0412,  0.0091, -0.0200,\n",
      "        -0.0124,  0.0205,  0.0040,  0.0114, -0.0213, -0.0475, -0.0301, -0.0311,\n",
      "         0.0241, -0.0618, -0.0304, -0.0257, -0.0047, -0.0298, -0.0055, -0.0232,\n",
      "        -0.0073, -0.0216, -0.0105,  0.0270, -0.0187, -0.0291, -0.0466, -0.0350,\n",
      "         0.0544, -0.0473, -0.0327,  0.0118,  0.0183, -0.0033, -0.0623, -0.0033,\n",
      "        -0.0192, -0.0579, -0.0215,  0.0055, -0.0226, -0.0014, -0.0319, -0.0309,\n",
      "        -0.0247,  0.0058, -0.0427,  0.0368,  0.0136, -0.0153, -0.0083, -0.0308,\n",
      "        -0.0367, -0.0023,  0.0009, -0.0281, -0.0681, -0.0187, -0.0372, -0.0101,\n",
      "        -0.0506, -0.0303, -0.0152,  0.0229, -0.0449, -0.0593,  0.0069, -0.0782,\n",
      "        -0.0283,  0.0171, -0.0342,  0.0123,  0.0024, -0.0053,  0.0308, -0.0261,\n",
      "        -0.0249, -0.0041, -0.0295,  0.0100, -0.0265, -0.0035, -0.0374, -0.0566,\n",
      "        -0.0357,  0.0023, -0.0039,  0.0110, -0.0306, -0.0166,  0.0079,  0.0053,\n",
      "        -0.0427, -0.0218,  0.0120, -0.0286, -0.0251, -0.0124, -0.0042,  0.0143,\n",
      "         0.0031, -0.0419, -0.0088, -0.0482, -0.0268, -0.0068, -0.0024,  0.0019,\n",
      "        -0.0068, -0.0299, -0.0235, -0.0369,  0.0060, -0.0107, -0.0046,  0.0226,\n",
      "        -0.0112, -0.0573, -0.0169, -0.0293, -0.0098, -0.0016, -0.0296, -0.0105,\n",
      "        -0.0196, -0.0314, -0.0075,  0.0238, -0.0468, -0.0472,  0.0139,  0.0160,\n",
      "         0.0096,  0.0097,  0.0069, -0.0197, -0.0185, -0.0249, -0.0542, -0.0325,\n",
      "        -0.0538, -0.0654, -0.0042,  0.0034,  0.0236, -0.0069,  0.0045, -0.0179,\n",
      "        -0.0409, -0.0318, -0.0139,  0.0133, -0.0136,  0.0065,  0.0134, -0.0400,\n",
      "        -0.0164, -0.0308, -0.0116, -0.0278, -0.0415, -0.0084, -0.0152, -0.0044,\n",
      "         0.0360, -0.0245, -0.0323,  0.0258, -0.0389, -0.0087, -0.0267,  0.0310,\n",
      "        -0.0091, -0.0167, -0.0494, -0.0151, -0.0452, -0.0231,  0.0275, -0.0397,\n",
      "         0.0127, -0.0330,  0.0004, -0.0471, -0.0494, -0.0130, -0.0414, -0.0241,\n",
      "        -0.0524, -0.0355, -0.0050, -0.0482, -0.0525, -0.0024, -0.0419, -0.0293,\n",
      "         0.0587,  0.0336, -0.0084, -0.0277,  0.0190, -0.0324, -0.0162,  0.0057,\n",
      "        -0.0408, -0.0448,  0.0001, -0.0300, -0.0144,  0.0323,  0.0385,  0.0008,\n",
      "        -0.0300, -0.0023, -0.0662, -0.0442, -0.0166, -0.0460, -0.0246,  0.0211,\n",
      "        -0.0447,  0.0006,  0.0111,  0.0131, -0.0108, -0.0373, -0.0205, -0.0115,\n",
      "        -0.0230,  0.0070, -0.0029, -0.0602, -0.0358,  0.0264, -0.0506, -0.0138,\n",
      "        -0.0002, -0.0301, -0.0321, -0.0180, -0.0446,  0.0005, -0.0338, -0.0275,\n",
      "        -0.0298,  0.0161, -0.0300, -0.0102, -0.0402, -0.0666, -0.0065, -0.0475,\n",
      "        -0.0253,  0.0447, -0.0362, -0.0759,  0.0092, -0.0178, -0.0389,  0.0054])), ('hidden_layers.1.weight', tensor([[ 0.0007, -0.0152,  0.0322,  ..., -0.0702,  0.0434,  0.0764],\n",
      "        [-0.0464, -0.0140, -0.0482,  ..., -0.0462, -0.0563, -0.0401],\n",
      "        [-0.0150,  0.0336,  0.0110,  ...,  0.0104, -0.0015, -0.0439],\n",
      "        ...,\n",
      "        [ 0.0053,  0.0638, -0.0009,  ..., -0.0307,  0.0436,  0.0196],\n",
      "        [ 0.0475,  0.0058, -0.0607,  ..., -0.0244, -0.0165, -0.0112],\n",
      "        [ 0.0201, -0.0044,  0.0103,  ..., -0.0032, -0.0653,  0.0025]])), ('hidden_layers.1.bias', tensor([ 0.0652,  0.0025,  0.0687,  0.0118, -0.0495,  0.0955, -0.0348,  0.0340,\n",
      "        -0.0524,  0.0281,  0.0196,  0.0470, -0.0163,  0.0597,  0.0950,  0.0542,\n",
      "        -0.0442,  0.0258, -0.0015, -0.0101,  0.0180,  0.0175, -0.0164, -0.0263,\n",
      "         0.1777, -0.0633,  0.0300, -0.0278,  0.0539,  0.0195,  0.1095, -0.0172,\n",
      "         0.0977,  0.0702, -0.0382,  0.0250,  0.0974,  0.0343,  0.0303,  0.0183,\n",
      "        -0.0086, -0.0664,  0.0286,  0.0301, -0.0699,  0.0626,  0.0094,  0.0160,\n",
      "         0.0151,  0.0340,  0.0465,  0.0467, -0.0471, -0.0081, -0.0522, -0.0196,\n",
      "        -0.0468,  0.0978, -0.0121, -0.0861,  0.0321,  0.0376, -0.0275,  0.0129,\n",
      "         0.0388, -0.0617,  0.0155,  0.0733,  0.0123,  0.0254, -0.0323,  0.0130,\n",
      "         0.0338, -0.0085,  0.0227, -0.0259,  0.0134,  0.0531,  0.0278,  0.0164,\n",
      "        -0.0489, -0.0868,  0.0191,  0.0448,  0.0477,  0.0766,  0.0786,  0.0310,\n",
      "        -0.0230, -0.0060, -0.0198,  0.0511,  0.0699,  0.0603,  0.0948, -0.0333,\n",
      "        -0.0912,  0.0494,  0.0624, -0.0291,  0.0583,  0.0500, -0.0069, -0.0088,\n",
      "         0.0160,  0.0404,  0.0237,  0.0035,  0.0215,  0.0028, -0.0254, -0.0560,\n",
      "         0.0254,  0.0710,  0.0570, -0.0460, -0.0048, -0.0097, -0.0031, -0.0571,\n",
      "        -0.0502,  0.0004,  0.0174,  0.0030,  0.0726,  0.0078,  0.0646,  0.0430,\n",
      "         0.0044, -0.0259,  0.0246,  0.0902, -0.0189,  0.0105,  0.0275, -0.0733,\n",
      "        -0.0309, -0.0301,  0.0990,  0.0332, -0.0088, -0.0156, -0.0177,  0.0439,\n",
      "        -0.0035, -0.0122,  0.0599,  0.0152,  0.0193,  0.0916,  0.0417,  0.0458,\n",
      "         0.1101,  0.0516,  0.0594,  0.0452,  0.0174,  0.0671,  0.0886,  0.0119,\n",
      "        -0.0070,  0.0875, -0.0126, -0.0126, -0.0387, -0.0111, -0.0923, -0.0139,\n",
      "        -0.0285, -0.0768,  0.0734,  0.0505,  0.0287, -0.0253, -0.0079,  0.0441,\n",
      "        -0.0059, -0.0090, -0.0276, -0.0664, -0.0635,  0.0277,  0.0160, -0.0144,\n",
      "        -0.0045,  0.0077,  0.0142,  0.0237,  0.0302,  0.0135,  0.0395, -0.0013,\n",
      "         0.0331, -0.0003,  0.0112,  0.0553, -0.0026,  0.0238,  0.0290,  0.0017,\n",
      "        -0.0029,  0.0549,  0.0521,  0.0090, -0.0405, -0.0374,  0.0318,  0.0505,\n",
      "        -0.0273, -0.0293, -0.0494,  0.0324,  0.0518,  0.0036,  0.0898, -0.0799,\n",
      "        -0.0490,  0.0183,  0.0272,  0.0274, -0.0018, -0.0240,  0.0030, -0.0289,\n",
      "         0.0219, -0.0652,  0.0277,  0.0288,  0.0180, -0.0251, -0.0009,  0.0366,\n",
      "        -0.0284,  0.0667,  0.0515,  0.0460,  0.0072,  0.0312,  0.0134,  0.0370,\n",
      "         0.0028, -0.0444,  0.0564,  0.0397, -0.0012,  0.0760,  0.0128,  0.0676,\n",
      "         0.0299,  0.0392,  0.0295,  0.0732,  0.0051, -0.0511,  0.0754,  0.0729])), ('hidden_layers.2.weight', tensor([[ 0.0985, -0.0807,  0.0236,  ...,  0.0296,  0.0833, -0.0783],\n",
      "        [-0.0255, -0.0000,  0.0312,  ...,  0.0741, -0.0145, -0.0688],\n",
      "        [ 0.0412,  0.0077,  0.0253,  ..., -0.0096,  0.0707,  0.0201],\n",
      "        ...,\n",
      "        [ 0.0746, -0.0649, -0.0502,  ..., -0.0474, -0.0105, -0.0340],\n",
      "        [-0.1203,  0.0039, -0.0488,  ...,  0.0973, -0.0227, -0.0042],\n",
      "        [-0.0105,  0.0628,  0.0478,  ...,  0.0947,  0.0531,  0.0540]])), ('hidden_layers.2.bias', tensor([ 0.0632, -0.0123,  0.0136, -0.0114, -0.0119,  0.0938,  0.1496,  0.0123,\n",
      "         0.0149,  0.1172,  0.1150, -0.0318,  0.0692,  0.0079,  0.0370,  0.1441,\n",
      "         0.1519,  0.1036,  0.0283,  0.1495, -0.0277,  0.1136,  0.0795,  0.0691,\n",
      "         0.0142,  0.0457,  0.1533,  0.0542,  0.0522,  0.1499,  0.0282, -0.0329,\n",
      "         0.0791,  0.0504,  0.0107,  0.0691,  0.1733,  0.0324,  0.0567, -0.0016,\n",
      "         0.0622,  0.0190, -0.0234,  0.0870,  0.1729,  0.0920,  0.0921,  0.0070,\n",
      "        -0.0037,  0.0462,  0.0425,  0.0767, -0.0129,  0.0627,  0.0055,  0.1357,\n",
      "         0.1024,  0.2207,  0.1313, -0.0090,  0.0561,  0.1105,  0.0442, -0.0048,\n",
      "        -0.0209,  0.1994,  0.0157, -0.0344,  0.0700,  0.0737,  0.0106,  0.0696,\n",
      "         0.1846,  0.0755,  0.0778,  0.1285,  0.0879,  0.0075,  0.0744,  0.0494,\n",
      "         0.1228,  0.1213,  0.0520,  0.0664,  0.0763, -0.0167, -0.0682,  0.0760,\n",
      "         0.0928,  0.0507,  0.0737,  0.1353,  0.1193,  0.0332,  0.1083, -0.0223,\n",
      "        -0.0262, -0.0230, -0.0293, -0.0137,  0.0967,  0.1284,  0.1037,  0.0213,\n",
      "         0.0546, -0.0023,  0.1514,  0.0536,  0.0667,  0.0139,  0.0665,  0.1085,\n",
      "         0.0618,  0.0274,  0.0824,  0.0166,  0.1095,  0.1114,  0.0674, -0.0773,\n",
      "         0.1001, -0.0143,  0.0981, -0.0049,  0.0381,  0.0474,  0.0889,  0.0794])), ('output.weight', tensor([[-0.0489,  0.0424,  0.0291,  ...,  0.0775,  0.0161,  0.0537],\n",
      "        [ 0.0322,  0.0317,  0.0356,  ...,  0.0799, -0.1094,  0.0789],\n",
      "        [ 0.0362, -0.0646, -0.0735,  ...,  0.0817, -0.0364, -0.0459],\n",
      "        ...,\n",
      "        [-0.1966, -0.1143, -0.1801,  ..., -0.1479, -0.0368,  0.0625],\n",
      "        [-0.1287,  0.0582,  0.0265,  ..., -0.0313,  0.1169,  0.0881],\n",
      "        [-0.1563, -0.0308, -0.2244,  ..., -0.0966,  0.0363, -0.0396]])), ('output.bias', tensor([-0.0393, -0.1765,  0.0925,  0.1156,  0.0002, -0.0789,  0.0587, -0.0696,\n"
     ]
    },
    {
     "name": "stdout",
     "output_type": "stream",
     "text": [
      "        -0.0657, -0.0752]))])\n"
     ]
    }
   ],
   "source": [
    "# check also values\n",
    "print(\"The state dict keys: \\n\\n\", model.state_dict())"
   ]
  },
  {
   "cell_type": "code",
   "execution_count": 14,
   "metadata": {},
   "outputs": [],
   "source": [
    "torch.save(model.state_dict(), 'checkpoint.pth')"
   ]
  },
  {
   "cell_type": "markdown",
   "metadata": {},
   "source": [
    "Then we can load the state dict with `torch.load`."
   ]
  },
  {
   "cell_type": "code",
   "execution_count": 15,
   "metadata": {},
   "outputs": [
    {
     "name": "stdout",
     "output_type": "stream",
     "text": [
      "odict_keys(['hidden_layers.0.weight', 'hidden_layers.0.bias', 'hidden_layers.1.weight', 'hidden_layers.1.bias', 'hidden_layers.2.weight', 'hidden_layers.2.bias', 'output.weight', 'output.bias'])\n"
     ]
    }
   ],
   "source": [
    "state_dict = torch.load('checkpoint.pth')\n",
    "print(state_dict.keys())"
   ]
  },
  {
   "cell_type": "markdown",
   "metadata": {},
   "source": [
    "And to load the state dict in to the network, you do `model.load_state_dict(state_dict)`."
   ]
  },
  {
   "cell_type": "code",
   "execution_count": 16,
   "metadata": {},
   "outputs": [],
   "source": [
    "model.load_state_dict(state_dict)"
   ]
  },
  {
   "cell_type": "markdown",
   "metadata": {},
   "source": [
    "Seems pretty straightforward, but as usual it's a bit more complicated. Loading the state dict works only if the model architecture is exactly the same as the checkpoint architecture. If I create a model with a different architecture, this fails."
   ]
  },
  {
   "cell_type": "code",
   "execution_count": 17,
   "metadata": {},
   "outputs": [
    {
     "ename": "RuntimeError",
     "evalue": "Error(s) in loading state_dict for Network:\n\tsize mismatch for hidden_layers.0.weight: copying a param of torch.Size([400, 784]) from checkpoint, where the shape is torch.Size([512, 784]) in current model.\n\tsize mismatch for hidden_layers.0.bias: copying a param of torch.Size([400]) from checkpoint, where the shape is torch.Size([512]) in current model.\n\tsize mismatch for hidden_layers.1.weight: copying a param of torch.Size([200, 400]) from checkpoint, where the shape is torch.Size([256, 512]) in current model.\n\tsize mismatch for hidden_layers.1.bias: copying a param of torch.Size([200]) from checkpoint, where the shape is torch.Size([256]) in current model.\n\tsize mismatch for hidden_layers.2.weight: copying a param of torch.Size([100, 200]) from checkpoint, where the shape is torch.Size([128, 256]) in current model.\n\tsize mismatch for hidden_layers.2.bias: copying a param of torch.Size([100]) from checkpoint, where the shape is torch.Size([128]) in current model.\n\tsize mismatch for output.weight: copying a param of torch.Size([10, 100]) from checkpoint, where the shape is torch.Size([10, 128]) in current model.",
     "output_type": "error",
     "traceback": [
      "\u001b[1;31m---------------------------------------------------------------------------\u001b[0m",
      "\u001b[1;31mRuntimeError\u001b[0m                              Traceback (most recent call last)",
      "\u001b[1;32m<ipython-input-17-d859c59ebec0>\u001b[0m in \u001b[0;36m<module>\u001b[1;34m()\u001b[0m\n\u001b[0;32m      2\u001b[0m \u001b[0mmodel\u001b[0m \u001b[1;33m=\u001b[0m \u001b[0mfc_model\u001b[0m\u001b[1;33m.\u001b[0m\u001b[0mNetwork\u001b[0m\u001b[1;33m(\u001b[0m\u001b[1;36m784\u001b[0m\u001b[1;33m,\u001b[0m \u001b[1;36m10\u001b[0m\u001b[1;33m,\u001b[0m \u001b[1;33m[\u001b[0m\u001b[1;36m400\u001b[0m\u001b[1;33m,\u001b[0m \u001b[1;36m200\u001b[0m\u001b[1;33m,\u001b[0m \u001b[1;36m100\u001b[0m\u001b[1;33m]\u001b[0m\u001b[1;33m)\u001b[0m\u001b[1;33m\u001b[0m\u001b[0m\n\u001b[0;32m      3\u001b[0m \u001b[1;31m# This will throw an error because the tensor sizes are wrong!\u001b[0m\u001b[1;33m\u001b[0m\u001b[1;33m\u001b[0m\u001b[0m\n\u001b[1;32m----> 4\u001b[1;33m \u001b[0mmodel\u001b[0m\u001b[1;33m.\u001b[0m\u001b[0mload_state_dict\u001b[0m\u001b[1;33m(\u001b[0m\u001b[0mstate_dict\u001b[0m\u001b[1;33m)\u001b[0m\u001b[1;33m\u001b[0m\u001b[0m\n\u001b[0m",
      "\u001b[1;32mC:\\Program Files\\Anaconda3\\lib\\site-packages\\torch\\nn\\modules\\module.py\u001b[0m in \u001b[0;36mload_state_dict\u001b[1;34m(self, state_dict, strict)\u001b[0m\n\u001b[0;32m    717\u001b[0m         \u001b[1;32mif\u001b[0m \u001b[0mlen\u001b[0m\u001b[1;33m(\u001b[0m\u001b[0merror_msgs\u001b[0m\u001b[1;33m)\u001b[0m \u001b[1;33m>\u001b[0m \u001b[1;36m0\u001b[0m\u001b[1;33m:\u001b[0m\u001b[1;33m\u001b[0m\u001b[0m\n\u001b[0;32m    718\u001b[0m             raise RuntimeError('Error(s) in loading state_dict for {}:\\n\\t{}'.format(\n\u001b[1;32m--> 719\u001b[1;33m                                self.__class__.__name__, \"\\n\\t\".join(error_msgs)))\n\u001b[0m\u001b[0;32m    720\u001b[0m \u001b[1;33m\u001b[0m\u001b[0m\n\u001b[0;32m    721\u001b[0m     \u001b[1;32mdef\u001b[0m \u001b[0mparameters\u001b[0m\u001b[1;33m(\u001b[0m\u001b[0mself\u001b[0m\u001b[1;33m)\u001b[0m\u001b[1;33m:\u001b[0m\u001b[1;33m\u001b[0m\u001b[0m\n",
      "\u001b[1;31mRuntimeError\u001b[0m: Error(s) in loading state_dict for Network:\n\tsize mismatch for hidden_layers.0.weight: copying a param of torch.Size([400, 784]) from checkpoint, where the shape is torch.Size([512, 784]) in current model.\n\tsize mismatch for hidden_layers.0.bias: copying a param of torch.Size([400]) from checkpoint, where the shape is torch.Size([512]) in current model.\n\tsize mismatch for hidden_layers.1.weight: copying a param of torch.Size([200, 400]) from checkpoint, where the shape is torch.Size([256, 512]) in current model.\n\tsize mismatch for hidden_layers.1.bias: copying a param of torch.Size([200]) from checkpoint, where the shape is torch.Size([256]) in current model.\n\tsize mismatch for hidden_layers.2.weight: copying a param of torch.Size([100, 200]) from checkpoint, where the shape is torch.Size([128, 256]) in current model.\n\tsize mismatch for hidden_layers.2.bias: copying a param of torch.Size([100]) from checkpoint, where the shape is torch.Size([128]) in current model.\n\tsize mismatch for output.weight: copying a param of torch.Size([10, 100]) from checkpoint, where the shape is torch.Size([10, 128]) in current model."
     ]
    }
   ],
   "source": [
    "# Try this\n",
    "model = fc_model.Network(784, 10, [400, 200, 100])\n",
    "# This will throw an error because the tensor sizes are wrong!\n",
    "model.load_state_dict(state_dict)"
   ]
  },
  {
   "cell_type": "markdown",
   "metadata": {},
   "source": [
    "This means we need to rebuild the model exactly as it was when trained. Information about the model architecture needs to be saved in the checkpoint, along with the state dict. To do this, you build a dictionary with all the information you need to compeletely rebuild the model."
   ]
  },
  {
   "cell_type": "code",
   "execution_count": 18,
   "metadata": {},
   "outputs": [],
   "source": [
    "checkpoint = {'input_size': 784,\n",
    "              'output_size': 10,\n",
    "              'hidden_layers': [each.out_features for each in model.hidden_layers],\n",
    "              'state_dict': model.state_dict()}\n",
    "\n",
    "torch.save(checkpoint, 'checkpoint.pth')"
   ]
  },
  {
   "cell_type": "code",
   "execution_count": 19,
   "metadata": {},
   "outputs": [
    {
     "data": {
      "text/plain": [
       "{'input_size': 784,\n",
       " 'output_size': 10,\n",
       " 'hidden_layers': [400, 200, 100],\n",
       " 'state_dict': OrderedDict([('hidden_layers.0.weight',\n",
       "               tensor([[ 0.0221,  0.0189, -0.0105,  ..., -0.0240,  0.0236, -0.0161],\n",
       "                       [-0.0170, -0.0146,  0.0241,  ...,  0.0268, -0.0184, -0.0071],\n",
       "                       [ 0.0346,  0.0017,  0.0061,  ...,  0.0015,  0.0317,  0.0074],\n",
       "                       ...,\n",
       "                       [-0.0050,  0.0104, -0.0352,  ...,  0.0009, -0.0110,  0.0109],\n",
       "                       [ 0.0257,  0.0085, -0.0338,  ...,  0.0080, -0.0242,  0.0264],\n",
       "                       [ 0.0329,  0.0223,  0.0293,  ...,  0.0103, -0.0331, -0.0151]])),\n",
       "              ('hidden_layers.0.bias',\n",
       "               tensor([ 0.0248,  0.0182,  0.0097, -0.0049,  0.0207,  0.0098, -0.0052, -0.0184,\n",
       "                       -0.0277, -0.0242,  0.0267, -0.0147, -0.0047,  0.0001,  0.0124,  0.0292,\n",
       "                        0.0153, -0.0028, -0.0021,  0.0290, -0.0312,  0.0310, -0.0056,  0.0070,\n",
       "                        0.0161, -0.0067, -0.0057,  0.0019,  0.0290, -0.0069, -0.0210, -0.0290,\n",
       "                        0.0210, -0.0152,  0.0112, -0.0099, -0.0094,  0.0108,  0.0330,  0.0015,\n",
       "                        0.0038,  0.0355, -0.0262,  0.0084,  0.0120,  0.0027, -0.0262, -0.0341,\n",
       "                       -0.0092, -0.0258,  0.0097, -0.0309,  0.0352,  0.0142,  0.0063, -0.0167,\n",
       "                       -0.0330,  0.0330,  0.0253, -0.0032,  0.0138,  0.0196, -0.0353,  0.0214,\n",
       "                        0.0336,  0.0063, -0.0356,  0.0203, -0.0035, -0.0036,  0.0077, -0.0338,\n",
       "                       -0.0116, -0.0208,  0.0054,  0.0231, -0.0045, -0.0219,  0.0210, -0.0055,\n",
       "                        0.0284, -0.0331, -0.0180,  0.0052,  0.0300,  0.0156, -0.0142, -0.0310,\n",
       "                        0.0045,  0.0122, -0.0018,  0.0162, -0.0009,  0.0023, -0.0178,  0.0073,\n",
       "                        0.0009, -0.0112, -0.0023, -0.0257,  0.0124,  0.0340, -0.0024,  0.0221,\n",
       "                       -0.0079,  0.0223,  0.0230, -0.0267,  0.0337, -0.0302,  0.0341,  0.0310,\n",
       "                       -0.0307, -0.0033, -0.0171, -0.0343,  0.0015,  0.0075,  0.0054,  0.0023,\n",
       "                       -0.0193, -0.0069, -0.0088,  0.0355,  0.0338, -0.0169,  0.0276, -0.0098,\n",
       "                       -0.0022, -0.0328, -0.0315, -0.0284,  0.0045, -0.0185, -0.0137, -0.0273,\n",
       "                        0.0041, -0.0257,  0.0082,  0.0149, -0.0233,  0.0264,  0.0194,  0.0084,\n",
       "                        0.0191, -0.0218, -0.0259,  0.0185,  0.0247, -0.0041,  0.0236, -0.0063,\n",
       "                       -0.0112, -0.0190,  0.0245,  0.0100, -0.0278,  0.0238,  0.0334,  0.0133,\n",
       "                       -0.0159, -0.0344,  0.0151,  0.0309, -0.0146, -0.0088, -0.0151, -0.0030,\n",
       "                       -0.0179,  0.0304,  0.0214,  0.0209,  0.0255, -0.0090, -0.0349,  0.0316,\n",
       "                        0.0253, -0.0316, -0.0206, -0.0351, -0.0005,  0.0068,  0.0060,  0.0207,\n",
       "                       -0.0220,  0.0311,  0.0195, -0.0040, -0.0116,  0.0181, -0.0237,  0.0048,\n",
       "                        0.0080, -0.0212,  0.0152, -0.0343,  0.0271, -0.0305, -0.0242,  0.0250,\n",
       "                       -0.0017,  0.0081,  0.0204, -0.0120,  0.0226,  0.0224,  0.0307,  0.0191,\n",
       "                        0.0052, -0.0346, -0.0088,  0.0094,  0.0049, -0.0197, -0.0164,  0.0265,\n",
       "                        0.0163, -0.0300, -0.0076, -0.0320, -0.0055,  0.0183,  0.0009,  0.0286,\n",
       "                       -0.0192,  0.0277, -0.0009,  0.0313,  0.0092,  0.0126, -0.0027,  0.0042,\n",
       "                        0.0102, -0.0248,  0.0162, -0.0236,  0.0297, -0.0349, -0.0149, -0.0286,\n",
       "                       -0.0323,  0.0037,  0.0157,  0.0015,  0.0337,  0.0234, -0.0240, -0.0194,\n",
       "                       -0.0084,  0.0198, -0.0117, -0.0039,  0.0002, -0.0202, -0.0090,  0.0019,\n",
       "                       -0.0204, -0.0243,  0.0090,  0.0355, -0.0131, -0.0327, -0.0010, -0.0004,\n",
       "                        0.0222, -0.0112,  0.0138, -0.0039, -0.0013,  0.0060, -0.0036,  0.0346,\n",
       "                       -0.0033, -0.0034,  0.0052, -0.0352, -0.0116,  0.0039,  0.0105, -0.0163,\n",
       "                       -0.0012,  0.0173, -0.0234,  0.0061,  0.0228,  0.0244, -0.0068,  0.0078,\n",
       "                       -0.0025,  0.0201,  0.0186,  0.0231,  0.0172, -0.0134,  0.0014,  0.0222,\n",
       "                        0.0356, -0.0037,  0.0164, -0.0213,  0.0239,  0.0123,  0.0203,  0.0185,\n",
       "                       -0.0201,  0.0092,  0.0318, -0.0157,  0.0181, -0.0069, -0.0211,  0.0078,\n",
       "                        0.0035, -0.0039,  0.0130,  0.0311, -0.0202, -0.0014, -0.0287,  0.0320,\n",
       "                       -0.0188,  0.0273,  0.0025, -0.0149, -0.0352,  0.0267, -0.0101,  0.0091,\n",
       "                       -0.0239, -0.0330,  0.0056, -0.0137,  0.0296,  0.0291,  0.0104,  0.0264,\n",
       "                        0.0010, -0.0133,  0.0106, -0.0091,  0.0066, -0.0077, -0.0088,  0.0245,\n",
       "                        0.0042,  0.0278,  0.0020,  0.0337, -0.0285, -0.0260, -0.0206, -0.0045,\n",
       "                        0.0301, -0.0318,  0.0299,  0.0314,  0.0009,  0.0350, -0.0137, -0.0103,\n",
       "                        0.0056,  0.0145,  0.0276,  0.0274, -0.0013,  0.0186,  0.0324,  0.0080,\n",
       "                        0.0124,  0.0243, -0.0340,  0.0348,  0.0128,  0.0202,  0.0167, -0.0345,\n",
       "                       -0.0312,  0.0074,  0.0213,  0.0080, -0.0347,  0.0246,  0.0069, -0.0120,\n",
       "                        0.0340, -0.0215,  0.0314, -0.0008, -0.0351, -0.0052,  0.0185, -0.0102,\n",
       "                       -0.0263,  0.0251,  0.0052, -0.0030, -0.0110,  0.0135, -0.0276,  0.0171])),\n",
       "              ('hidden_layers.1.weight',\n",
       "               tensor([[ 0.0405,  0.0425, -0.0099,  ...,  0.0368,  0.0100,  0.0065],\n",
       "                       [-0.0201,  0.0162,  0.0349,  ..., -0.0067,  0.0223,  0.0122],\n",
       "                       [-0.0434,  0.0331,  0.0067,  ...,  0.0436, -0.0466, -0.0450],\n",
       "                       ...,\n",
       "                       [-0.0325, -0.0434, -0.0405,  ..., -0.0260, -0.0248,  0.0273],\n",
       "                       [ 0.0190, -0.0050, -0.0380,  ..., -0.0446, -0.0135, -0.0020],\n",
       "                       [ 0.0055,  0.0473, -0.0442,  ...,  0.0448, -0.0317, -0.0151]])),\n",
       "              ('hidden_layers.1.bias',\n",
       "               tensor([-0.0479, -0.0219,  0.0115, -0.0244,  0.0339, -0.0331,  0.0399,  0.0261,\n",
       "                       -0.0169, -0.0328,  0.0173, -0.0083, -0.0403, -0.0307,  0.0217, -0.0342,\n",
       "                       -0.0400,  0.0340,  0.0094, -0.0155,  0.0068,  0.0240, -0.0031,  0.0270,\n",
       "                       -0.0005, -0.0072, -0.0328, -0.0473, -0.0279, -0.0180, -0.0398, -0.0470,\n",
       "                       -0.0228, -0.0295, -0.0065, -0.0425, -0.0335,  0.0450,  0.0003,  0.0341,\n",
       "                        0.0493, -0.0299, -0.0349, -0.0317, -0.0431,  0.0191,  0.0461,  0.0131,\n",
       "                       -0.0432,  0.0001, -0.0058,  0.0414, -0.0173,  0.0495, -0.0399, -0.0174,\n",
       "                        0.0118, -0.0225,  0.0102,  0.0291, -0.0421,  0.0228, -0.0032,  0.0303,\n",
       "                        0.0388, -0.0251,  0.0073, -0.0255,  0.0181, -0.0423,  0.0400,  0.0219,\n",
       "                       -0.0334,  0.0246,  0.0024,  0.0132,  0.0162,  0.0249, -0.0019, -0.0130,\n",
       "                       -0.0237,  0.0419, -0.0020, -0.0469,  0.0037,  0.0218, -0.0437, -0.0254,\n",
       "                        0.0426,  0.0464, -0.0202,  0.0297, -0.0310, -0.0386, -0.0037,  0.0305,\n",
       "                        0.0292, -0.0231,  0.0044,  0.0090,  0.0259,  0.0177,  0.0274,  0.0213,\n",
       "                       -0.0289,  0.0493,  0.0091, -0.0275,  0.0399,  0.0461, -0.0193, -0.0047,\n",
       "                        0.0480, -0.0326, -0.0062,  0.0125, -0.0220,  0.0333,  0.0451,  0.0161,\n",
       "                       -0.0146,  0.0015, -0.0246,  0.0264, -0.0076,  0.0103, -0.0265, -0.0394,\n",
       "                       -0.0307,  0.0204, -0.0444, -0.0205, -0.0004, -0.0192,  0.0263, -0.0457,\n",
       "                       -0.0185,  0.0285, -0.0198, -0.0352, -0.0081,  0.0418, -0.0178, -0.0416,\n",
       "                        0.0453, -0.0471, -0.0287,  0.0105, -0.0046,  0.0432, -0.0123,  0.0258,\n",
       "                        0.0081,  0.0419,  0.0126, -0.0218, -0.0119, -0.0121, -0.0074,  0.0044,\n",
       "                       -0.0379,  0.0377,  0.0416, -0.0243,  0.0294,  0.0433, -0.0456, -0.0239,\n",
       "                        0.0307,  0.0448, -0.0357,  0.0241,  0.0082, -0.0291,  0.0145,  0.0480,\n",
       "                        0.0032, -0.0455,  0.0388,  0.0147, -0.0373,  0.0457,  0.0172, -0.0031,\n",
       "                        0.0232, -0.0179,  0.0439,  0.0355, -0.0179,  0.0006, -0.0378, -0.0104,\n",
       "                        0.0409, -0.0121,  0.0187, -0.0206, -0.0382,  0.0495,  0.0149, -0.0163])),\n",
       "              ('hidden_layers.2.weight',\n",
       "               tensor([[-0.0406,  0.0379, -0.0381,  ..., -0.0538,  0.0034,  0.0272],\n",
       "                       [-0.0427,  0.0129,  0.0056,  ..., -0.0606, -0.0677,  0.0399],\n",
       "                       [ 0.0137, -0.0635, -0.0359,  ..., -0.0476,  0.0246,  0.0110],\n",
       "                       ...,\n",
       "                       [-0.0020,  0.0432, -0.0331,  ...,  0.0166, -0.0374,  0.0191],\n",
       "                       [-0.0039, -0.0261,  0.0486,  ...,  0.0471,  0.0212, -0.0017],\n",
       "                       [ 0.0411,  0.0311, -0.0601,  ...,  0.0369,  0.0196, -0.0237]])),\n",
       "              ('hidden_layers.2.bias',\n",
       "               tensor([ 0.0685, -0.0070,  0.0675,  0.0045,  0.0618,  0.0150,  0.0338,  0.0087,\n",
       "                        0.0066,  0.0576, -0.0687, -0.0047,  0.0110, -0.0294, -0.0399,  0.0132,\n",
       "                        0.0080, -0.0147,  0.0626, -0.0005, -0.0037, -0.0389, -0.0263, -0.0380,\n",
       "                        0.0183,  0.0465,  0.0051,  0.0366, -0.0248,  0.0002,  0.0513,  0.0137,\n",
       "                       -0.0683, -0.0686,  0.0459,  0.0552, -0.0676,  0.0367,  0.0504,  0.0485,\n",
       "                       -0.0167, -0.0131,  0.0615, -0.0339,  0.0608, -0.0678, -0.0234,  0.0561,\n",
       "                        0.0036, -0.0641, -0.0163, -0.0660,  0.0547, -0.0152, -0.0412,  0.0621,\n",
       "                       -0.0313,  0.0284, -0.0528,  0.0290, -0.0378,  0.0691, -0.0459,  0.0025,\n",
       "                        0.0281,  0.0213,  0.0603, -0.0697,  0.0103,  0.0221, -0.0617,  0.0415,\n",
       "                        0.0341, -0.0260, -0.0062, -0.0642, -0.0194,  0.0571, -0.0414, -0.0512,\n",
       "                        0.0112,  0.0148, -0.0278,  0.0461,  0.0358, -0.0032, -0.0424,  0.0371,\n",
       "                        0.0191,  0.0324,  0.0577, -0.0533,  0.0644,  0.0242, -0.0530, -0.0352,\n",
       "                        0.0116,  0.0298,  0.0086, -0.0343])),\n",
       "              ('output.weight',\n",
       "               tensor([[-0.0031,  0.0428,  0.0040,  0.0168,  0.0455, -0.0193, -0.0778,  0.0778,\n",
       "                         0.0883,  0.0191, -0.0425,  0.0085, -0.0408,  0.0396, -0.0087, -0.0984,\n",
       "                        -0.0406, -0.0336, -0.0308,  0.0011,  0.0040, -0.0148,  0.0292,  0.0569,\n",
       "                        -0.0059, -0.0979, -0.0800, -0.0376, -0.0519, -0.0567,  0.0480, -0.0552,\n",
       "                        -0.0959,  0.0390,  0.0415,  0.0891,  0.0942, -0.0254, -0.0255, -0.0428,\n",
       "                        -0.0019,  0.0355, -0.0677,  0.0462, -0.0480,  0.0355,  0.0305, -0.0346,\n",
       "                         0.0359,  0.0474, -0.0035,  0.0334,  0.0246, -0.0621,  0.0917, -0.0024,\n",
       "                         0.0508, -0.0976, -0.0994, -0.0553, -0.0784,  0.0093, -0.0730,  0.0573,\n",
       "                         0.0155,  0.0829,  0.0921, -0.0616, -0.0660, -0.0529,  0.0246,  0.0279,\n",
       "                        -0.0401, -0.0891,  0.0506,  0.0900, -0.0512, -0.0308, -0.0377,  0.0211,\n",
       "                        -0.0335, -0.0857,  0.0942, -0.0761,  0.0445, -0.0177, -0.0596,  0.0120,\n",
       "                         0.0567,  0.0108, -0.0660, -0.0924,  0.0741, -0.0645, -0.0704,  0.0057,\n",
       "                         0.0311, -0.0748, -0.0250, -0.0869],\n",
       "                       [-0.0759,  0.0502, -0.0688, -0.0448,  0.0536, -0.0729, -0.0200, -0.0273,\n",
       "                         0.0897,  0.0243,  0.0385,  0.0851, -0.0101, -0.0347, -0.0684,  0.0876,\n",
       "                         0.0079, -0.0053, -0.0908,  0.0710, -0.0429, -0.0228,  0.0472, -0.0245,\n",
       "                         0.0147,  0.0601, -0.0451, -0.0211, -0.0261, -0.0684, -0.0202, -0.0077,\n",
       "                         0.0811,  0.0607,  0.0701,  0.0805,  0.0531,  0.0638, -0.0165,  0.0708,\n",
       "                         0.0667, -0.0596,  0.0525,  0.0590, -0.0178,  0.0655,  0.0168, -0.0155,\n",
       "                        -0.0766, -0.0113,  0.0043,  0.0827, -0.0096, -0.0496,  0.0453, -0.0046,\n",
       "                        -0.0177, -0.0216,  0.0770,  0.0299, -0.0092, -0.0203,  0.0501,  0.0821,\n",
       "                        -0.0211, -0.0376,  0.0966,  0.0599, -0.0500,  0.0085, -0.0206, -0.0327,\n",
       "                         0.0784,  0.0080, -0.0909,  0.0265, -0.0173, -0.0428,  0.0162,  0.0792,\n",
       "                        -0.0178, -0.0219, -0.0460,  0.0922, -0.0371, -0.0074, -0.0072, -0.0401,\n",
       "                        -0.0489,  0.0430, -0.0397,  0.0703, -0.0785,  0.0518, -0.0479,  0.0866,\n",
       "                         0.0040, -0.0223,  0.0343,  0.0010],\n",
       "                       [-0.0502,  0.0414, -0.0554, -0.0935,  0.0513, -0.0984,  0.0621, -0.0672,\n",
       "                         0.0377,  0.0420, -0.0440,  0.0768,  0.0007,  0.0881,  0.0820,  0.0552,\n",
       "                         0.0859, -0.0251, -0.0647,  0.0315, -0.0460, -0.0012,  0.0766, -0.0794,\n",
       "                         0.0564, -0.0201, -0.0296, -0.0361,  0.0269,  0.0285,  0.0495, -0.0722,\n",
       "                         0.0973, -0.0151,  0.0375, -0.0116,  0.0363,  0.0871,  0.0901,  0.0221,\n",
       "                        -0.0864,  0.0856, -0.0145, -0.0963,  0.0207, -0.0724,  0.0697, -0.0574,\n",
       "                         0.0863,  0.0115, -0.0634,  0.0519,  0.0950,  0.0432,  0.0424, -0.0985,\n",
       "                         0.0936, -0.0869,  0.0845,  0.0582,  0.0816,  0.0126,  0.0443,  0.0573,\n",
       "                        -0.0404, -0.0968,  0.0212, -0.0690,  0.0127,  0.0269, -0.0545,  0.0463,\n",
       "                         0.0284,  0.0574,  0.0440,  0.0346, -0.0321, -0.0523,  0.0251, -0.0129,\n",
       "                        -0.0979, -0.0090, -0.0609,  0.0536,  0.0543,  0.0430, -0.0020, -0.0470,\n",
       "                         0.0704, -0.0541,  0.0520,  0.0553,  0.0190,  0.0612, -0.0199,  0.0358,\n",
       "                         0.0900, -0.0387,  0.0628,  0.0004],\n",
       "                       [-0.0568, -0.0540, -0.0179,  0.0157, -0.0333, -0.0761, -0.0902,  0.0498,\n",
       "                        -0.0491, -0.0309,  0.0540, -0.0027, -0.0690,  0.0720,  0.0567,  0.0606,\n",
       "                         0.0211,  0.0185,  0.0531,  0.0292, -0.0111, -0.0757,  0.0992,  0.0663,\n",
       "                         0.0615, -0.0168,  0.0577,  0.0698,  0.0891, -0.0553, -0.0018,  0.0066,\n",
       "                        -0.0206, -0.0104, -0.0330,  0.0512, -0.0466,  0.0950,  0.0004, -0.0296,\n",
       "                         0.0628, -0.0230,  0.0888, -0.0809,  0.0906, -0.0486,  0.0046, -0.0949,\n",
       "                         0.0748, -0.0730, -0.0922, -0.0927, -0.0784,  0.0969, -0.0050, -0.0647,\n",
       "                         0.0445,  0.0614,  0.0484, -0.0899,  0.0061, -0.0703,  0.0118,  0.0631,\n",
       "                        -0.0158, -0.0743, -0.0197, -0.0462,  0.0302,  0.0236,  0.0860,  0.0008,\n",
       "                        -0.0081,  0.0502, -0.0764, -0.0149, -0.0006,  0.0590,  0.0637, -0.0808,\n",
       "                         0.0050, -0.0992,  0.0910, -0.0154,  0.0836, -0.0987,  0.0318, -0.0120,\n",
       "                         0.0333, -0.0142, -0.0626, -0.0769,  0.0808,  0.0976, -0.0847, -0.0229,\n",
       "                        -0.0048, -0.0743,  0.0418, -0.0446],\n",
       "                       [-0.0037, -0.0683,  0.0824, -0.0558,  0.0100, -0.0415, -0.0090,  0.0444,\n",
       "                         0.0546, -0.0741,  0.0225,  0.0177, -0.0985,  0.0350,  0.0582,  0.0183,\n",
       "                        -0.0341, -0.0233,  0.0537, -0.0773, -0.0090,  0.0422,  0.0255,  0.0657,\n",
       "                        -0.0304, -0.0433, -0.0919, -0.0978,  0.0120,  0.0317,  0.0806,  0.0438,\n",
       "                        -0.0071, -0.0962,  0.0704,  0.0097, -0.0467, -0.0373,  0.0691, -0.0519,\n",
       "                        -0.0053, -0.0731,  0.0419,  0.0772,  0.0208,  0.0487, -0.0217,  0.0625,\n",
       "                        -0.0720,  0.0615,  0.0017,  0.0872, -0.0206, -0.0796,  0.0104, -0.0044,\n",
       "                         0.0731, -0.0060,  0.0202,  0.0956, -0.0117,  0.0165,  0.0686,  0.0093,\n",
       "                        -0.0423, -0.0334, -0.0621, -0.0213, -0.0382,  0.0811, -0.0632,  0.0695,\n",
       "                        -0.0450,  0.0388, -0.0176,  0.0539, -0.0579,  0.0104,  0.0104, -0.0528,\n",
       "                         0.0894,  0.0261,  0.0642, -0.0585, -0.0095, -0.0845, -0.0580, -0.0177,\n",
       "                        -0.0424, -0.0286,  0.0308,  0.0290,  0.0147, -0.0714,  0.0824, -0.0915,\n",
       "                         0.0244,  0.0754, -0.0958,  0.0938],\n",
       "                       [ 0.0433,  0.0322, -0.0659,  0.0981,  0.0534, -0.0420, -0.0632,  0.0469,\n",
       "                        -0.0368, -0.0554,  0.0345,  0.0103, -0.0712, -0.0650,  0.0402,  0.0751,\n",
       "                         0.0192,  0.0793, -0.0236, -0.0279, -0.0226, -0.0783, -0.0249,  0.0832,\n",
       "                         0.0672, -0.0616,  0.0684,  0.0241, -0.0101, -0.0149,  0.0017, -0.0914,\n",
       "                        -0.0087,  0.0530,  0.0226, -0.0013,  0.0742,  0.0154,  0.0679, -0.0353,\n",
       "                        -0.0764,  0.0606,  0.0298,  0.0682, -0.0341, -0.0929, -0.0397, -0.0370,\n",
       "                        -0.0832,  0.0108,  0.0578,  0.0812,  0.0907,  0.0995, -0.0969,  0.0481,\n",
       "                        -0.0199, -0.0820,  0.0471, -0.0345,  0.0538,  0.0341, -0.0803, -0.0916,\n",
       "                         0.0076, -0.0170,  0.0968,  0.0816, -0.0549,  0.0044,  0.0907, -0.0485,\n",
       "                         0.0197,  0.0040, -0.0721, -0.0383,  0.0664, -0.0529,  0.0506,  0.0856,\n",
       "                        -0.0775, -0.0088, -0.0477,  0.0206, -0.0800,  0.0777,  0.0572, -0.0370,\n",
       "                         0.0646,  0.0099,  0.0421,  0.0840,  0.0070, -0.0561,  0.0477, -0.0825,\n",
       "                        -0.0787, -0.0806,  0.0463,  0.0575],\n",
       "                       [-0.0784,  0.0608,  0.0414, -0.0578, -0.0631,  0.0561,  0.0589, -0.0043,\n",
       "                         0.0144,  0.0390, -0.0045, -0.0991,  0.0402, -0.0685, -0.0126, -0.0480,\n",
       "                        -0.0006, -0.0343,  0.0983,  0.0257,  0.0888,  0.0460, -0.0811, -0.0826,\n",
       "                        -0.0524,  0.0737, -0.0919, -0.0150, -0.0320,  0.0602,  0.0395,  0.0501,\n",
       "                        -0.0964, -0.0642, -0.0150, -0.0856,  0.0198, -0.0070, -0.0844, -0.0700,\n",
       "                         0.0985,  0.0270, -0.0472, -0.0535, -0.0528,  0.0076,  0.0928,  0.0661,\n",
       "                         0.0962,  0.0052,  0.0506,  0.0381, -0.0865,  0.0896, -0.0529, -0.0953,\n",
       "                         0.0975,  0.0148, -0.0161, -0.0982, -0.0440,  0.0682, -0.0136, -0.0685,\n",
       "                         0.0580, -0.0547, -0.0763,  0.0161, -0.0580, -0.0551, -0.0582,  0.0748,\n",
       "                         0.0096,  0.0658, -0.0957, -0.0781,  0.0233,  0.0880,  0.0992,  0.0013,\n",
       "                         0.0362,  0.0248, -0.0111, -0.0309, -0.0724, -0.0541,  0.0217,  0.0473,\n",
       "                        -0.0605,  0.0780, -0.0460,  0.0471, -0.0429, -0.0879,  0.0554,  0.0276,\n",
       "                         0.0268, -0.0442, -0.0264, -0.0755],\n",
       "                       [-0.0203, -0.0823,  0.0397,  0.0695,  0.0915, -0.0546, -0.0878,  0.0974,\n",
       "                        -0.0405, -0.0997, -0.0971,  0.0676,  0.0633,  0.0255,  0.0872, -0.0177,\n",
       "                        -0.0072,  0.0934, -0.0671, -0.0332, -0.0925,  0.0340,  0.0368, -0.0719,\n",
       "                        -0.0639,  0.0399,  0.0857, -0.0155,  0.0990,  0.0622, -0.0481,  0.0397,\n",
       "                         0.0319,  0.0345,  0.0948,  0.0575,  0.0739, -0.0087,  0.0011,  0.0184,\n",
       "                         0.0324, -0.0229, -0.0039,  0.0510,  0.0498,  0.0694, -0.0401,  0.0781,\n",
       "                         0.0503,  0.0429,  0.0969,  0.0261,  0.0875, -0.0818, -0.0107, -0.0871,\n",
       "                        -0.0170, -0.0770, -0.0643,  0.0456,  0.0085,  0.0547, -0.0281, -0.0323,\n",
       "                         0.0764,  0.0516, -0.0035,  0.0715, -0.0508, -0.0954, -0.0594, -0.0577,\n",
       "                        -0.0275,  0.0620,  0.0553,  0.0180,  0.0109,  0.0163, -0.0754,  0.0357,\n",
       "                        -0.0796,  0.0001, -0.0477, -0.0606, -0.0170, -0.0294,  0.0871,  0.0903,\n",
       "                         0.0522, -0.0155, -0.0395,  0.0441,  0.0835,  0.0935,  0.0706,  0.0453,\n",
       "                        -0.0605,  0.0413, -0.0268,  0.0363],\n",
       "                       [ 0.0420,  0.0559, -0.0002,  0.0227, -0.0399,  0.0759, -0.0196, -0.0570,\n",
       "                         0.0802,  0.0565, -0.0166,  0.0989,  0.0035, -0.0785, -0.0332, -0.0805,\n",
       "                         0.0045, -0.0281,  0.0039,  0.0613,  0.0426,  0.0932, -0.0831,  0.0590,\n",
       "                         0.0667,  0.0954,  0.0745, -0.0520,  0.0729, -0.0179, -0.0412,  0.0479,\n",
       "                         0.0646,  0.0393, -0.0524, -0.0571, -0.0548,  0.0909, -0.0154,  0.0839,\n",
       "                        -0.0590, -0.0420, -0.0696,  0.0668, -0.0111,  0.0279,  0.0984, -0.0780,\n",
       "                        -0.0889,  0.0760, -0.0001, -0.0525, -0.0879, -0.0803, -0.0422, -0.0649,\n",
       "                         0.0856, -0.0554, -0.0033, -0.0118, -0.0024,  0.0403, -0.0429,  0.0764,\n",
       "                         0.0234, -0.0526,  0.0880,  0.0944, -0.0323, -0.0090,  0.0005,  0.0593,\n",
       "                        -0.0145,  0.0975, -0.0336,  0.0479, -0.0525, -0.0645, -0.0156,  0.0454,\n",
       "                        -0.0855,  0.0594, -0.0768,  0.0147, -0.0740,  0.0692,  0.0670,  0.0544,\n",
       "                         0.0101, -0.0175, -0.0888,  0.0367,  0.0974, -0.0768,  0.0669, -0.0454,\n",
       "                         0.0251,  0.0668, -0.0497,  0.0241],\n",
       "                       [-0.0775,  0.0328,  0.0143, -0.0926, -0.0406,  0.0039, -0.0366, -0.0363,\n",
       "                         0.0382, -0.0713, -0.0609,  0.0874, -0.0712, -0.0375,  0.0871,  0.0283,\n",
       "                         0.0762, -0.0824,  0.0886, -0.0410, -0.0906, -0.0070, -0.0585,  0.0927,\n",
       "                         0.0625,  0.0727, -0.0042,  0.0268, -0.0512, -0.0869,  0.0925, -0.0283,\n",
       "                        -0.0978,  0.0871, -0.0522, -0.0789, -0.0397,  0.0320,  0.0917,  0.0026,\n",
       "                         0.0612, -0.0560, -0.0148,  0.0327, -0.0614,  0.0044, -0.0557,  0.0368,\n",
       "                         0.0411,  0.0206, -0.0603, -0.0834, -0.0050, -0.0001,  0.0383,  0.0626,\n",
       "                        -0.0611,  0.0832,  0.0937, -0.0710,  0.0111, -0.0242, -0.0263,  0.0306,\n",
       "                         0.0073,  0.0268,  0.0094, -0.0872,  0.0032,  0.0165, -0.0010, -0.0995,\n",
       "                         0.0295,  0.0580,  0.0061,  0.0307,  0.0381,  0.0311, -0.0706,  0.0883,\n",
       "                        -0.0551,  0.0291, -0.0489,  0.0321, -0.0813,  0.0936,  0.0374, -0.0948,\n",
       "                        -0.0261,  0.0625, -0.0360, -0.0483,  0.0320,  0.0291, -0.0960,  0.0781,\n",
       "                         0.0677,  0.0836,  0.0039,  0.0585]])),\n",
       "              ('output.bias',\n",
       "               tensor([-0.0393, -0.1765,  0.0925,  0.1156,  0.0002, -0.0789,  0.0587, -0.0696,\n",
       "                       -0.0657, -0.0752]))])}"
      ]
     },
     "execution_count": 19,
     "metadata": {},
     "output_type": "execute_result"
    }
   ],
   "source": [
    "checkpoint"
   ]
  },
  {
   "cell_type": "markdown",
   "metadata": {},
   "source": [
    "Now the checkpoint has all the necessary information to rebuild the trained model. You can easily make that a function if you want. Similarly, we can write a function to load checkpoints. "
   ]
  },
  {
   "cell_type": "code",
   "execution_count": 20,
   "metadata": {},
   "outputs": [],
   "source": [
    "def load_checkpoint(filepath):\n",
    "    checkpoint = torch.load(filepath)\n",
    "    model = fc_model.Network(checkpoint['input_size'],\n",
    "                             checkpoint['output_size'],\n",
    "                             checkpoint['hidden_layers'])\n",
    "    model.load_state_dict(checkpoint['state_dict'])\n",
    "    \n",
    "    return model"
   ]
  },
  {
   "cell_type": "code",
   "execution_count": 21,
   "metadata": {},
   "outputs": [
    {
     "name": "stdout",
     "output_type": "stream",
     "text": [
      "Network(\n",
      "  (hidden_layers): ModuleList(\n",
      "    (0): Linear(in_features=784, out_features=400, bias=True)\n",
      "    (1): Linear(in_features=400, out_features=200, bias=True)\n",
      "    (2): Linear(in_features=200, out_features=100, bias=True)\n",
      "  )\n",
      "  (output): Linear(in_features=100, out_features=10, bias=True)\n",
      "  (dropout): Dropout(p=0.5)\n",
      ")\n"
     ]
    }
   ],
   "source": [
    "model = load_checkpoint('checkpoint.pth')\n",
    "print(model)"
   ]
  },
  {
   "cell_type": "code",
   "execution_count": null,
   "metadata": {},
   "outputs": [],
   "source": []
  },
  {
   "cell_type": "code",
   "execution_count": null,
   "metadata": {},
   "outputs": [],
   "source": []
  }
 ],
 "metadata": {
  "kernelspec": {
   "display_name": "Python [default]",
   "language": "python",
   "name": "python3"
  },
  "language_info": {
   "codemirror_mode": {
    "name": "ipython",
    "version": 3
   },
   "file_extension": ".py",
   "mimetype": "text/x-python",
   "name": "python",
   "nbconvert_exporter": "python",
   "pygments_lexer": "ipython3",
   "version": "3.6.6"
  }
 },
 "nbformat": 4,
 "nbformat_minor": 2
}
