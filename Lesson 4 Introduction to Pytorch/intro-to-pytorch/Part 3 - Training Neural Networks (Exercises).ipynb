{
 "cells": [
  {
   "cell_type": "markdown",
   "metadata": {},
   "source": [
    "# Training Neural Networks\n",
    "\n",
    "The network we built in the previous part isn't so smart, it doesn't know anything about our handwritten digits. Neural networks with non-linear activations work like universal function approximators. There is some function that maps your input to the output. For example, images of handwritten digits to class probabilities. The power of neural networks is that we can train them to approximate this function, and basically any function given enough data and compute time.\n",
    "\n",
    "<img src=\"assets/function_approx.png\" width=500px>\n",
    "\n",
    "At first the network is naive, it doesn't know the function mapping the inputs to the outputs. We train the network by showing it examples of real data, then adjusting the network parameters such that it approximates this function.\n",
    "\n",
    "To find these parameters, we need to know how poorly the network is predicting the real outputs. For this we calculate a **loss function** (also called the cost), a measure of our prediction error. For example, the mean squared loss is often used in regression and binary classification problems\n",
    "\n",
    "$$\n",
    "\\large \\ell = \\frac{1}{2n}\\sum_i^n{\\left(y_i - \\hat{y}_i\\right)^2}\n",
    "$$\n",
    "\n",
    "where $n$ is the number of training examples, $y_i$ are the true labels, and $\\hat{y}_i$ are the predicted labels.\n",
    "\n",
    "By minimizing this loss with respect to the network parameters, we can find configurations where the loss is at a minimum and the network is able to predict the correct labels with high accuracy. We find this minimum using a process called **gradient descent**. The gradient is the slope of the loss function and points in the direction of fastest change. To get to the minimum in the least amount of time, we then want to follow the gradient (downwards). You can think of this like descending a mountain by following the steepest slope to the base.\n",
    "\n",
    "<img src='assets/gradient_descent.png' width=350px>"
   ]
  },
  {
   "cell_type": "markdown",
   "metadata": {},
   "source": [
    "## Backpropagation\n",
    "\n",
    "For single layer networks, gradient descent is straightforward to implement. However, it's more complicated for deeper, multilayer neural networks like the one we've built. Complicated enough that it took about 30 years before researchers figured out how to train multilayer networks.\n",
    "\n",
    "Training multilayer networks is done through **backpropagation** which is really just an application of the chain rule from calculus. It's easiest to understand if we convert a two layer network into a graph representation.\n",
    "\n",
    "<img src='assets/backprop_diagram.png' width=550px>\n",
    "\n",
    "In the forward pass through the network, our data and operations go from bottom to top here. We pass the input $x$ through a linear transformation $L_1$ with weights $W_1$ and biases $b_1$. The output then goes through the sigmoid operation $S$ and another linear transformation $L_2$. Finally we calculate the loss $\\ell$. We use the loss as a measure of how bad the network's predictions are. The goal then is to adjust the weights and biases to minimize the loss.\n",
    "\n",
    "To train the weights with gradient descent, we propagate the gradient of the loss backwards through the network. Each operation has some gradient between the inputs and outputs. As we send the gradients backwards, we multiply the incoming gradient with the gradient for the operation. Mathematically, this is really just calculating the gradient of the loss with respect to the weights using the chain rule.\n",
    "\n",
    "$$\n",
    "\\large \\frac{\\partial \\ell}{\\partial W_1} = \\frac{\\partial L_1}{\\partial W_1} \\frac{\\partial S}{\\partial L_1} \\frac{\\partial L_2}{\\partial S} \\frac{\\partial \\ell}{\\partial L_2}\n",
    "$$\n",
    "\n",
    "**Note:** I'm glossing over a few details here that require some knowledge of vector calculus, but they aren't necessary to understand what's going on.\n",
    "\n",
    "We update our weights using this gradient with some learning rate $\\alpha$. \n",
    "\n",
    "$$\n",
    "\\large W^\\prime_1 = W_1 - \\alpha \\frac{\\partial \\ell}{\\partial W_1}\n",
    "$$\n",
    "\n",
    "The learning rate $\\alpha$ is set such that the weight update steps are small enough that the iterative method settles in a minimum."
   ]
  },
  {
   "cell_type": "markdown",
   "metadata": {},
   "source": [
    "## Losses in PyTorch\n",
    "\n",
    "Let's start by seeing how we calculate the loss with PyTorch. Through the `nn` module, PyTorch provides losses such as the cross-entropy loss (`nn.CrossEntropyLoss`). You'll usually see the loss assigned to `criterion`. As noted in the last part, with a classification problem such as MNIST, we're using the softmax function to predict class probabilities. With a softmax output, you want to use cross-entropy as the loss. To actually calculate the loss, you first define the criterion then pass in the output of your network and the correct labels.\n",
    "\n",
    "Something really important to note here. Looking at [the documentation for `nn.CrossEntropyLoss`](https://pytorch.org/docs/stable/nn.html#torch.nn.CrossEntropyLoss),\n",
    "\n",
    "> This criterion combines `nn.LogSoftmax()` and `nn.NLLLoss()` in one single class.\n",
    ">\n",
    "> The input is expected to contain scores for each class.\n",
    "\n",
    "This means we need to pass in the raw output of our network into the loss, not the output of the softmax function. This raw output is usually called the *logits* or *scores*. We use the logits because softmax gives you probabilities which will often be very close to zero or one but floating-point numbers can't accurately represent values near zero or one ([read more here](https://docs.python.org/3/tutorial/floatingpoint.html)). It's usually best to avoid doing calculations with probabilities, typically we use log-probabilities."
   ]
  },
  {
   "cell_type": "code",
   "execution_count": 1,
   "metadata": {},
   "outputs": [],
   "source": [
    "import torch\n",
    "from torch import nn\n",
    "import torch.nn.functional as F\n",
    "from torchvision import datasets, transforms\n",
    "\n",
    "# Define a transform to normalize the data\n",
    "transform = transforms.Compose([transforms.ToTensor(),\n",
    "                                transforms.Normalize((0.5, 0.5, 0.5), (0.5, 0.5, 0.5)),\n",
    "                              ])\n",
    "# Download and load the training data\n",
    "trainset = datasets.MNIST('~/.pytorch/MNIST_data/', download=True, train=True, transform=transform)\n",
    "trainloader = torch.utils.data.DataLoader(trainset, batch_size=64, shuffle=True)"
   ]
  },
  {
   "cell_type": "markdown",
   "metadata": {},
   "source": [
    "### Note\n",
    "If you haven't seen `nn.Sequential` yet, please finish the end of the Part 2 notebook."
   ]
  },
  {
   "cell_type": "code",
   "execution_count": 2,
   "metadata": {},
   "outputs": [
    {
     "name": "stdout",
     "output_type": "stream",
     "text": [
      "tensor(2.3622, grad_fn=<NllLossBackward>)\n"
     ]
    }
   ],
   "source": [
    "# Build a feed-forward network\n",
    "model = nn.Sequential(nn.Linear(784, 128),\n",
    "                      nn.ReLU(),\n",
    "                      nn.Linear(128, 64),\n",
    "                      nn.ReLU(),\n",
    "                      nn.Linear(64, 10))\n",
    "\n",
    "# Define the loss\n",
    "criterion = nn.CrossEntropyLoss()\n",
    "\n",
    "# Get our data\n",
    "images, labels = next(iter(trainloader))\n",
    "# Flatten imagesb\n",
    "images = images.view(images.shape[0], -1)\n",
    "\n",
    "# Forward pass, get our logits\n",
    "logits = model(images)\n",
    "# Calculate the loss with the logits and the labels\n",
    "loss = criterion(logits, labels)\n",
    "\n",
    "print(loss)"
   ]
  },
  {
   "cell_type": "code",
   "execution_count": 3,
   "metadata": {},
   "outputs": [
    {
     "name": "stdout",
     "output_type": "stream",
     "text": [
      "torch.Size([64, 10])\n",
      "tensor([[ 0.3052, -0.0914, -0.1130,  0.0016, -0.1481,  0.2082, -0.2265, -0.2626,\n",
      "         -0.1463, -0.2461],\n",
      "        [ 0.2700, -0.1225, -0.0501,  0.0783, -0.2254,  0.1316, -0.1124, -0.1765,\n",
      "         -0.1658, -0.0881],\n",
      "        [ 0.2724, -0.1244, -0.1476,  0.0832, -0.1753,  0.2012, -0.2607, -0.1804,\n",
      "         -0.1827, -0.1359],\n",
      "        [ 0.2823, -0.1047, -0.0789,  0.0671, -0.1330,  0.2028, -0.1982, -0.1918,\n",
      "         -0.1654, -0.1476],\n",
      "        [ 0.2940, -0.1471, -0.1083,  0.0709, -0.2215,  0.1820, -0.1353, -0.1785,\n",
      "         -0.1624, -0.0696],\n",
      "        [ 0.2097, -0.1125, -0.0702,  0.0299, -0.1234,  0.1261, -0.2186, -0.1724,\n",
      "         -0.1913, -0.0688],\n",
      "        [ 0.2497, -0.0869, -0.1414,  0.0342, -0.1575,  0.2340, -0.2137, -0.1913,\n",
      "         -0.1843, -0.0690],\n",
      "        [ 0.2492, -0.1183, -0.0519,  0.1332, -0.1953,  0.2498, -0.1875, -0.1487,\n",
      "         -0.2127, -0.0634],\n",
      "        [ 0.3218, -0.1884, -0.0595,  0.0301, -0.1968,  0.1810, -0.2057, -0.2068,\n",
      "         -0.2003, -0.1004],\n",
      "        [ 0.3617, -0.1231, -0.1293,  0.0768, -0.1981,  0.2327, -0.1735, -0.2329,\n",
      "         -0.2234, -0.1361],\n",
      "        [ 0.2675, -0.1166, -0.0452,  0.1023, -0.0935,  0.1803, -0.2359, -0.1834,\n",
      "         -0.1849, -0.1847],\n",
      "        [ 0.2080, -0.1482, -0.0934,  0.1157, -0.1884,  0.1065, -0.0988, -0.2062,\n",
      "         -0.2070, -0.0582],\n",
      "        [ 0.3023, -0.1436, -0.1098,  0.0860, -0.2037,  0.2023, -0.1666, -0.2190,\n",
      "         -0.1571, -0.1401],\n",
      "        [ 0.2401, -0.1149, -0.1647,  0.0901, -0.1199,  0.1742, -0.2193, -0.1894,\n",
      "         -0.1770, -0.0978],\n",
      "        [ 0.2382, -0.1478, -0.0244,  0.0794, -0.1888,  0.1566, -0.1956, -0.2161,\n",
      "         -0.1983, -0.1146],\n",
      "        [ 0.2382, -0.0673, -0.1254,  0.0604, -0.1593,  0.2501, -0.1721, -0.2225,\n",
      "         -0.1763, -0.0982],\n",
      "        [ 0.2571, -0.1189, -0.0639,  0.1113, -0.1508,  0.2051, -0.2376, -0.1393,\n",
      "         -0.2538, -0.0972],\n",
      "        [ 0.2161, -0.0552, -0.0625,  0.0954, -0.1253,  0.1937, -0.1238, -0.2247,\n",
      "         -0.2126, -0.0585],\n",
      "        [ 0.2469, -0.1345, -0.0901,  0.0895, -0.1033,  0.1647, -0.2242, -0.1942,\n",
      "         -0.2245, -0.1145],\n",
      "        [ 0.2459, -0.0687, -0.1113,  0.0861, -0.0967,  0.2051, -0.2608, -0.1774,\n",
      "         -0.1769, -0.1847],\n",
      "        [ 0.3172, -0.1352, -0.0828,  0.1153, -0.1946,  0.1954, -0.1713, -0.2268,\n",
      "         -0.2093, -0.0891],\n",
      "        [ 0.2693, -0.1329, -0.1905,  0.0833, -0.1434,  0.1795, -0.2179, -0.2093,\n",
      "         -0.2055, -0.1252],\n",
      "        [ 0.2769, -0.0915, -0.1124,  0.0117, -0.1579,  0.1762, -0.1550, -0.2230,\n",
      "         -0.1928, -0.0758],\n",
      "        [ 0.3591, -0.1872, -0.1055,  0.0265, -0.1764,  0.2012, -0.2440, -0.2601,\n",
      "         -0.2307, -0.2332],\n",
      "        [ 0.2576, -0.0882, -0.0941,  0.0596, -0.0867,  0.1175, -0.2624, -0.1596,\n",
      "         -0.2444, -0.0628],\n",
      "        [ 0.2478, -0.0192, -0.1965, -0.0498, -0.1096,  0.1860, -0.1550, -0.2504,\n",
      "         -0.2908, -0.1253],\n",
      "        [ 0.3301, -0.1438, -0.1033,  0.0358, -0.1588,  0.2092, -0.1913, -0.2891,\n",
      "         -0.2597, -0.1612],\n",
      "        [ 0.2263, -0.1035, -0.0800,  0.0114, -0.1614,  0.1685, -0.1180, -0.1792,\n",
      "         -0.1274, -0.0386],\n",
      "        [ 0.1954, -0.1218, -0.0723,  0.0972, -0.1120,  0.2083, -0.2158, -0.1848,\n",
      "         -0.1912, -0.0965],\n",
      "        [ 0.2617, -0.1810, -0.1254,  0.0913, -0.1230,  0.2016, -0.2157, -0.1874,\n",
      "         -0.2123, -0.0933],\n",
      "        [ 0.2762, -0.0945, -0.1060,  0.1470, -0.1744,  0.1886, -0.1657, -0.1855,\n",
      "         -0.1971, -0.0389],\n",
      "        [ 0.2663, -0.1584, -0.0853,  0.0252, -0.1265,  0.1945, -0.2929, -0.1419,\n",
      "         -0.1400, -0.1394],\n",
      "        [ 0.2550, -0.1054, -0.1051,  0.0932, -0.1579,  0.1685, -0.1612, -0.2141,\n",
      "         -0.2262, -0.1033],\n",
      "        [ 0.1984, -0.0542, -0.0911,  0.0853, -0.1177,  0.1804, -0.1906, -0.1922,\n",
      "         -0.1839, -0.0238],\n",
      "        [ 0.2612, -0.0730, -0.2108,  0.1152, -0.1371,  0.1660, -0.1985, -0.2401,\n",
      "         -0.1235, -0.1299],\n",
      "        [ 0.3110, -0.1384, -0.0820,  0.0650, -0.1612,  0.1759, -0.1544, -0.2525,\n",
      "         -0.2378, -0.0929],\n",
      "        [ 0.2905, -0.1724, -0.0830,  0.0520, -0.1396,  0.2046, -0.1584, -0.2290,\n",
      "         -0.2462, -0.0209],\n",
      "        [ 0.2968, -0.1453, -0.1354,  0.1025, -0.1530,  0.1766, -0.1842, -0.2649,\n",
      "         -0.1928, -0.1573],\n",
      "        [ 0.1857, -0.0792, -0.1168,  0.0609, -0.1796,  0.1943, -0.1982, -0.2298,\n",
      "         -0.1894, -0.1319],\n",
      "        [ 0.2636, -0.0734, -0.1410,  0.0430, -0.2153,  0.2322, -0.1319, -0.2193,\n",
      "         -0.1761, -0.0413],\n",
      "        [ 0.2586, -0.1899, -0.1331,  0.0505, -0.1351,  0.1389, -0.2060, -0.2389,\n",
      "         -0.2652, -0.0685],\n",
      "        [ 0.3061, -0.1435, -0.0777,  0.0569, -0.1465,  0.2008, -0.2175, -0.2120,\n",
      "         -0.1987, -0.1975],\n",
      "        [ 0.3137, -0.1615, -0.1274,  0.0817, -0.2151,  0.1868, -0.0970, -0.2658,\n",
      "         -0.2178, -0.1422],\n",
      "        [ 0.2474, -0.1726, -0.1016,  0.0933, -0.1206,  0.1603, -0.1850, -0.2331,\n",
      "         -0.2479, -0.0515],\n",
      "        [ 0.3224, -0.1685, -0.2246,  0.0602, -0.1687,  0.1291, -0.1888, -0.2772,\n",
      "         -0.1820, -0.1728],\n",
      "        [ 0.2219, -0.1600, -0.0422,  0.0360, -0.1719,  0.1508, -0.1704, -0.1875,\n",
      "         -0.1580, -0.2106],\n",
      "        [ 0.3317, -0.1416, -0.1079,  0.0390, -0.1180,  0.1929, -0.2117, -0.2765,\n",
      "         -0.2577, -0.1325],\n",
      "        [ 0.2000, -0.0591, -0.1270,  0.0667, -0.1349,  0.2802, -0.2014, -0.2397,\n",
      "         -0.2541,  0.0002],\n",
      "        [ 0.2657, -0.1075, -0.1598,  0.1117, -0.1815,  0.1625, -0.1826, -0.2383,\n",
      "         -0.2008, -0.1290],\n",
      "        [ 0.2680, -0.1295, -0.0745,  0.0517, -0.1380,  0.1911, -0.2197, -0.2177,\n",
      "         -0.1906, -0.1475],\n",
      "        [ 0.3056, -0.1468, -0.1001,  0.0907, -0.1958,  0.1669, -0.1628, -0.2030,\n",
      "         -0.1905, -0.1512],\n",
      "        [ 0.3682, -0.2114, -0.1200,  0.0870, -0.1929,  0.1475, -0.1559, -0.2402,\n",
      "         -0.2311, -0.1413],\n",
      "        [ 0.3247, -0.1629, -0.0305,  0.0797, -0.1662,  0.1999, -0.1998, -0.2157,\n",
      "         -0.2457, -0.1388],\n",
      "        [ 0.2913, -0.1532, -0.0584,  0.1140, -0.1777,  0.2055, -0.1460, -0.2083,\n",
      "         -0.2464, -0.0522],\n",
      "        [ 0.2525, -0.1318, -0.1565,  0.0759, -0.1307,  0.1213, -0.2268, -0.2018,\n",
      "         -0.1964, -0.0863],\n",
      "        [ 0.2515, -0.1650, -0.1297,  0.0259, -0.1598,  0.1266, -0.1908, -0.2097,\n",
      "         -0.2557,  0.0166],\n",
      "        [ 0.3087, -0.1379, -0.0800,  0.1316, -0.1670,  0.1763, -0.1866, -0.2007,\n",
      "         -0.1872, -0.1492],\n",
      "        [ 0.2425, -0.1197, -0.0614,  0.0807, -0.1250,  0.2455, -0.2206, -0.1629,\n",
      "         -0.2137, -0.0133],\n",
      "        [ 0.2229, -0.0836, -0.0516,  0.1609, -0.1359,  0.2073, -0.1885, -0.1767,\n",
      "         -0.1671, -0.0866],\n",
      "        [ 0.3016, -0.1597, -0.0839,  0.0422, -0.1379,  0.1841, -0.2182, -0.2149,\n",
      "         -0.1826, -0.2183],\n",
      "        [ 0.2948, -0.1092, -0.1831,  0.0407, -0.2145,  0.1882, -0.2249, -0.2058,\n",
      "         -0.2074, -0.0628],\n",
      "        [ 0.3362, -0.2057, -0.0969,  0.1255, -0.1604,  0.1923, -0.1930, -0.2434,\n",
      "         -0.2096, -0.1596],\n",
      "        [ 0.2372, -0.0914, -0.1644,  0.0906, -0.1975,  0.2011, -0.2121, -0.1846,\n",
      "         -0.2031, -0.0579],\n",
      "        [ 0.2961, -0.1334, -0.1154,  0.0820, -0.1742,  0.2191, -0.2244, -0.2610,\n",
      "         -0.1898, -0.2193]], grad_fn=<ThAddmmBackward>)\n"
     ]
    }
   ],
   "source": [
    "print(logits.shape)\n",
    "print(logits)"
   ]
  },
  {
   "cell_type": "code",
   "execution_count": 4,
   "metadata": {},
   "outputs": [
    {
     "name": "stdout",
     "output_type": "stream",
     "text": [
      "tensor([9, 0, 1, 4, 6, 5, 6, 1, 8, 8, 4, 9, 9, 1, 8, 6, 3, 2, 9, 9, 9, 1, 3, 7,\n",
      "        5, 0, 8, 4, 2, 3, 3, 5, 4, 2, 9, 8, 6, 9, 9, 6, 9, 9, 4, 5, 4, 0, 8, 2,\n",
      "        2, 9, 1, 9, 4, 4, 1, 3, 8, 6, 8, 7, 8, 9, 1, 9])\n",
      "torch.Size([64])\n"
     ]
    }
   ],
   "source": [
    "print(labels)\n",
    "print(labels.shape)"
   ]
  },
  {
   "cell_type": "markdown",
   "metadata": {},
   "source": [
    "In my experience it's more convenient to build the model with a log-softmax output using `nn.LogSoftmax` or `F.log_softmax` ([documentation](https://pytorch.org/docs/stable/nn.html#torch.nn.LogSoftmax)). Then you can get the actual probabilities by taking the exponential `torch.exp(output)`. With a log-softmax output, you want to use the negative log likelihood loss, `nn.NLLLoss` ([documentation](https://pytorch.org/docs/stable/nn.html#torch.nn.NLLLoss)).\n",
    "\n",
    ">**Exercise:** Build a model that returns the log-softmax as the output and calculate the loss using the negative log likelihood loss. Note that for `nn.LogSoftmax` and `F.log_softmax` you'll need to set the `dim` keyword argument appropriately. `dim=0` calculates softmax across the rows, so each column sums to 1, while `dim=1` calculates across the columns so each row sums to 1. Think about what you want the output to be and choose `dim` appropriately."
   ]
  },
  {
   "cell_type": "code",
   "execution_count": 5,
   "metadata": {},
   "outputs": [
    {
     "name": "stdout",
     "output_type": "stream",
     "text": [
      "tensor(2.2926, grad_fn=<NllLossBackward>)\n"
     ]
    }
   ],
   "source": [
    "# TODO: Build a feed-forward network\n",
    "model = nn.Sequential(nn.Linear(784, 128),\n",
    "                      nn.ReLU(),\n",
    "                      nn.Linear(128, 64),\n",
    "                      nn.ReLU(),\n",
    "                      nn.Linear(64, 10),\n",
    "                      nn.LogSoftmax(dim=1))\n",
    "\n",
    "# TODO: Define the loss\n",
    "criterion = nn.NLLLoss()\n",
    "\n",
    "### Run this to check your work\n",
    "# Get our data\n",
    "images, labels = next(iter(trainloader))\n",
    "# Flatten images\n",
    "images = images.view(images.shape[0], -1)\n",
    "\n",
    "# Forward pass, get our log probabilities\n",
    "#logits = model(images)\n",
    "log_ps = model(images)\n",
    "# Calculate the loss with the logits and the labels\n",
    "loss = criterion(log_ps, labels)\n",
    "\n",
    "print(loss)"
   ]
  },
  {
   "cell_type": "code",
   "execution_count": 6,
   "metadata": {},
   "outputs": [
    {
     "data": {
      "text/plain": [
       "Sequential(\n",
       "  (0): Linear(in_features=784, out_features=128, bias=True)\n",
       "  (1): ReLU()\n",
       "  (2): Linear(in_features=128, out_features=64, bias=True)\n",
       "  (3): ReLU()\n",
       "  (4): Linear(in_features=64, out_features=10, bias=True)\n",
       "  (5): LogSoftmax()\n",
       ")"
      ]
     },
     "execution_count": 6,
     "metadata": {},
     "output_type": "execute_result"
    }
   ],
   "source": [
    "model"
   ]
  },
  {
   "cell_type": "markdown",
   "metadata": {},
   "source": [
    "## Autograd\n",
    "\n",
    "Now that we know how to calculate a loss, how do we use it to perform backpropagation? Torch provides a module, `autograd`, for automatically calculating the gradients of tensors. We can use it to calculate the gradients of all our parameters with respect to the loss. Autograd works by keeping track of operations performed on tensors, then going backwards through those operations, calculating gradients along the way. To make sure PyTorch keeps track of operations on a tensor and calculates the gradients, you need to set `requires_grad = True` on a tensor. You can do this at creation with the `requires_grad` keyword, or at any time with `x.requires_grad_(True)`.\n",
    "\n",
    "You can turn off gradients for a block of code with the `torch.no_grad()` content:\n",
    "```python\n",
    "x = torch.zeros(1, requires_grad=True)\n",
    ">>> with torch.no_grad():\n",
    "...     y = x * 2\n",
    ">>> y.requires_grad\n",
    "False\n",
    "```\n",
    "\n",
    "Also, you can turn on or off gradients altogether with `torch.set_grad_enabled(True|False)`.\n",
    "\n",
    "The gradients are computed with respect to some variable `z` with `z.backward()`. This does a backward pass through the operations that created `z`."
   ]
  },
  {
   "cell_type": "code",
   "execution_count": 7,
   "metadata": {},
   "outputs": [
    {
     "name": "stdout",
     "output_type": "stream",
     "text": [
      "tensor([[ 1.2960, -0.7288],\n",
      "        [-0.3667,  1.1379]], requires_grad=True)\n"
     ]
    }
   ],
   "source": [
    "x = torch.randn(2,2, requires_grad=True)\n",
    "print(x)"
   ]
  },
  {
   "cell_type": "code",
   "execution_count": 8,
   "metadata": {},
   "outputs": [
    {
     "name": "stdout",
     "output_type": "stream",
     "text": [
      "tensor([[1.6796, 0.5312],\n",
      "        [0.1345, 1.2948]], grad_fn=<PowBackward0>)\n"
     ]
    }
   ],
   "source": [
    "y = x**2\n",
    "print(y)"
   ]
  },
  {
   "cell_type": "markdown",
   "metadata": {},
   "source": [
    "Below we can see the operation that created `y`, a power operation `PowBackward0`."
   ]
  },
  {
   "cell_type": "code",
   "execution_count": 9,
   "metadata": {},
   "outputs": [
    {
     "name": "stdout",
     "output_type": "stream",
     "text": [
      "<PowBackward0 object at 0x000001D8DA5DC438>\n"
     ]
    }
   ],
   "source": [
    "## grad_fn shows the function that generated this variable\n",
    "print(y.grad_fn)"
   ]
  },
  {
   "cell_type": "markdown",
   "metadata": {},
   "source": [
    "The autgrad module keeps track of these operations and knows how to calculate the gradient for each one. In this way, it's able to calculate the gradients for a chain of operations, with respect to any one tensor. Let's reduce the tensor `y` to a scalar value, the mean."
   ]
  },
  {
   "cell_type": "code",
   "execution_count": 10,
   "metadata": {},
   "outputs": [
    {
     "name": "stdout",
     "output_type": "stream",
     "text": [
      "tensor(0.9100, grad_fn=<MeanBackward1>)\n"
     ]
    }
   ],
   "source": [
    "z = y.mean()\n",
    "print(z)"
   ]
  },
  {
   "cell_type": "markdown",
   "metadata": {},
   "source": [
    "You can check the gradients for `x` and `y` but they are empty currently."
   ]
  },
  {
   "cell_type": "code",
   "execution_count": 11,
   "metadata": {},
   "outputs": [
    {
     "name": "stdout",
     "output_type": "stream",
     "text": [
      "None\n",
      "None\n"
     ]
    }
   ],
   "source": [
    "print(x.grad)\n",
    "print(y.grad)"
   ]
  },
  {
   "cell_type": "markdown",
   "metadata": {},
   "source": [
    "To calculate the gradients, you need to run the `.backward` method on a Variable, `z` for example. This will calculate the gradient for `z` with respect to `x`\n",
    "\n",
    "$$\n",
    "\\frac{\\partial z}{\\partial x} = \\frac{\\partial}{\\partial x}\\left[\\frac{1}{n}\\sum_i^n x_i^2\\right] = \\frac{x}{2}\n",
    "$$"
   ]
  },
  {
   "cell_type": "code",
   "execution_count": 12,
   "metadata": {},
   "outputs": [
    {
     "name": "stdout",
     "output_type": "stream",
     "text": [
      "tensor([[ 0.6480, -0.3644],\n",
      "        [-0.1833,  0.5689]])\n",
      "tensor([[ 0.6480, -0.3644],\n",
      "        [-0.1833,  0.5689]], grad_fn=<DivBackward0>)\n"
     ]
    }
   ],
   "source": [
    "z.backward()\n",
    "print(x.grad)\n",
    "print(x/2)  "
   ]
  },
  {
   "cell_type": "code",
   "execution_count": 13,
   "metadata": {},
   "outputs": [
    {
     "name": "stdout",
     "output_type": "stream",
     "text": [
      "True\n",
      "None\n"
     ]
    }
   ],
   "source": [
    "print(y.requires_grad)\n",
    "print(y.grad)    # prints None: see https://discuss.pytorch.org/t/why-cant-i-see-grad-of-an-intermediate-variable/94/2"
   ]
  },
  {
   "cell_type": "markdown",
   "metadata": {},
   "source": [
    "These gradients calculations are particularly useful for neural networks. For training we need the gradients of the weights with respect to the cost. With PyTorch, we run data forward through the network to calculate the loss, then, go backwards to calculate the gradients with respect to the loss. Once we have the gradients we can make a gradient descent step. "
   ]
  },
  {
   "cell_type": "markdown",
   "metadata": {},
   "source": [
    "## Loss and Autograd together\n",
    "\n",
    "When we create a network with PyTorch, all of the parameters are initialized with `requires_grad = True`. This means that when we calculate the loss and call `loss.backward()`, the gradients for the parameters are calculated. These gradients are used to update the weights with gradient descent. Below you can see an example of calculating the gradients using a backwards pass."
   ]
  },
  {
   "cell_type": "code",
   "execution_count": 14,
   "metadata": {},
   "outputs": [],
   "source": [
    "# Build a feed-forward network\n",
    "model = nn.Sequential(nn.Linear(784, 128),\n",
    "                      nn.ReLU(),\n",
    "                      nn.Linear(128, 64),\n",
    "                      nn.ReLU(),\n",
    "                      nn.Linear(64, 10),\n",
    "                      nn.LogSoftmax(dim=1))\n",
    "\n",
    "criterion = nn.NLLLoss()\n",
    "images, labels = next(iter(trainloader))\n",
    "images = images.view(images.shape[0], -1)\n",
    "\n",
    "#logits = model(images)   # not logits but log probs\n",
    "log_ps = model(images)\n",
    "loss = criterion(log_ps, labels)"
   ]
  },
  {
   "cell_type": "code",
   "execution_count": 15,
   "metadata": {},
   "outputs": [
    {
     "name": "stdout",
     "output_type": "stream",
     "text": [
      "Before backward pass: \n",
      " None\n",
      "After backward pass: \n",
      " tensor([[-0.0031, -0.0031, -0.0031,  ..., -0.0031, -0.0031, -0.0031],\n",
      "        [-0.0024, -0.0024, -0.0024,  ..., -0.0024, -0.0024, -0.0024],\n",
      "        [ 0.0018,  0.0018,  0.0018,  ...,  0.0018,  0.0018,  0.0018],\n",
      "        ...,\n",
      "        [-0.0048, -0.0048, -0.0048,  ..., -0.0048, -0.0048, -0.0048],\n",
      "        [ 0.0008,  0.0008,  0.0008,  ...,  0.0008,  0.0008,  0.0008],\n",
      "        [ 0.0016,  0.0016,  0.0016,  ...,  0.0016,  0.0016,  0.0016]])\n"
     ]
    }
   ],
   "source": [
    "print('Before backward pass: \\n', model[0].weight.grad)\n",
    "\n",
    "loss.backward()\n",
    "\n",
    "print('After backward pass: \\n', model[0].weight.grad)"
   ]
  },
  {
   "cell_type": "code",
   "execution_count": 16,
   "metadata": {},
   "outputs": [
    {
     "name": "stdout",
     "output_type": "stream",
     "text": [
      "ReLU()\n"
     ]
    }
   ],
   "source": [
    "print(model[1])"
   ]
  },
  {
   "cell_type": "code",
   "execution_count": 17,
   "metadata": {},
   "outputs": [
    {
     "name": "stdout",
     "output_type": "stream",
     "text": [
      "Linear(in_features=128, out_features=64, bias=True)\n"
     ]
    },
    {
     "data": {
      "text/plain": [
       "tensor([[ 0.0018,  0.0028,  0.0023,  ...,  0.0126,  0.0005, -0.0011],\n",
       "        [ 0.0016, -0.0006, -0.0057,  ..., -0.0005, -0.0002, -0.0048],\n",
       "        [-0.0006, -0.0047, -0.0043,  ..., -0.0087,  0.0000, -0.0002],\n",
       "        ...,\n",
       "        [ 0.0002,  0.0024,  0.0030,  ...,  0.0027,  0.0000,  0.0012],\n",
       "        [ 0.0011,  0.0052,  0.0047,  ...,  0.0056,  0.0004,  0.0014],\n",
       "        [-0.0014, -0.0008, -0.0013,  ..., -0.0010,  0.0001,  0.0001]])"
      ]
     },
     "execution_count": 17,
     "metadata": {},
     "output_type": "execute_result"
    }
   ],
   "source": [
    "print(model[2])\n",
    "model[2].weight.grad"
   ]
  },
  {
   "cell_type": "markdown",
   "metadata": {},
   "source": [
    "## Training the network!\n",
    "\n",
    "There's one last piece we need to start training, an optimizer that we'll use to update the weights with the gradients. We get these from PyTorch's [`optim` package](https://pytorch.org/docs/stable/optim.html). For example we can use stochastic gradient descent with `optim.SGD`. You can see how to define an optimizer below."
   ]
  },
  {
   "cell_type": "code",
   "execution_count": 18,
   "metadata": {},
   "outputs": [],
   "source": [
    "from torch import optim\n",
    "\n",
    "# Optimizers require the parameters to optimize and a learning rate\n",
    "optimizer = optim.SGD(model.parameters(), lr=0.01)"
   ]
  },
  {
   "cell_type": "markdown",
   "metadata": {},
   "source": [
    "Now we know how to use all the individual parts so it's time to see how they work together. Let's consider just one learning step before looping through all the data. The general process with PyTorch:\n",
    "\n",
    "* Make a forward pass through the network \n",
    "* Use the network output to calculate the loss\n",
    "* Perform a backward pass through the network with `loss.backward()` to calculate the gradients\n",
    "* Take a step with the optimizer to update the weights\n",
    "\n",
    "Below I'll go through one training step and print out the weights and gradients so you can see how it changes. Note that I have a line of code `optimizer.zero_grad()`. When you do multiple backwards passes with the same parameters, the gradients are accumulated. This means that you need to zero the gradients on each training pass or you'll retain gradients from previous training batches."
   ]
  },
  {
   "cell_type": "code",
   "execution_count": 19,
   "metadata": {},
   "outputs": [
    {
     "name": "stdout",
     "output_type": "stream",
     "text": [
      "Initial weights -  Parameter containing:\n",
      "tensor([[-0.0158,  0.0072,  0.0071,  ...,  0.0355,  0.0141,  0.0012],\n",
      "        [ 0.0074, -0.0183,  0.0351,  ..., -0.0267,  0.0185,  0.0140],\n",
      "        [ 0.0181,  0.0196,  0.0019,  ...,  0.0061,  0.0116, -0.0336],\n",
      "        ...,\n",
      "        [ 0.0096, -0.0064,  0.0225,  ...,  0.0032,  0.0208,  0.0081],\n",
      "        [ 0.0221,  0.0041,  0.0039,  ...,  0.0030, -0.0145, -0.0297],\n",
      "        [-0.0295,  0.0008,  0.0044,  ...,  0.0027, -0.0171,  0.0045]],\n",
      "       requires_grad=True)\n",
      "Gradient - tensor([[-0.0010, -0.0010, -0.0010,  ..., -0.0010, -0.0010, -0.0010],\n",
      "        [-0.0064, -0.0064, -0.0064,  ..., -0.0064, -0.0064, -0.0064],\n",
      "        [ 0.0010,  0.0010,  0.0010,  ...,  0.0010,  0.0010,  0.0010],\n",
      "        ...,\n",
      "        [-0.0033, -0.0033, -0.0033,  ..., -0.0033, -0.0033, -0.0033],\n",
      "        [ 0.0005,  0.0005,  0.0005,  ...,  0.0005,  0.0005,  0.0005],\n",
      "        [-0.0024, -0.0024, -0.0024,  ..., -0.0024, -0.0024, -0.0024]])\n"
     ]
    }
   ],
   "source": [
    "print('Initial weights - ', model[0].weight)\n",
    "\n",
    "images, labels = next(iter(trainloader))\n",
    "images.resize_(64, 784)\n",
    "\n",
    "# Clear the gradients, do this because gradients are accumulated\n",
    "optimizer.zero_grad()\n",
    "\n",
    "# Forward pass, then backward pass, then update weights\n",
    "output = model.forward(images)\n",
    "loss = criterion(output, labels)\n",
    "loss.backward()\n",
    "print('Gradient -', model[0].weight.grad)"
   ]
  },
  {
   "cell_type": "code",
   "execution_count": 20,
   "metadata": {},
   "outputs": [
    {
     "name": "stdout",
     "output_type": "stream",
     "text": [
      "Updated weights -  Parameter containing:\n",
      "tensor([[-0.0158,  0.0072,  0.0071,  ...,  0.0355,  0.0141,  0.0012],\n",
      "        [ 0.0075, -0.0183,  0.0352,  ..., -0.0266,  0.0185,  0.0141],\n",
      "        [ 0.0181,  0.0196,  0.0019,  ...,  0.0061,  0.0116, -0.0337],\n",
      "        ...,\n",
      "        [ 0.0096, -0.0063,  0.0226,  ...,  0.0033,  0.0209,  0.0081],\n",
      "        [ 0.0221,  0.0041,  0.0039,  ...,  0.0030, -0.0145, -0.0297],\n",
      "        [-0.0295,  0.0008,  0.0044,  ...,  0.0028, -0.0171,  0.0046]],\n",
      "       requires_grad=True)\n"
     ]
    }
   ],
   "source": [
    "# Take an update step and few the new weights\n",
    "optimizer.step()\n",
    "print('Updated weights - ', model[0].weight)"
   ]
  },
  {
   "cell_type": "markdown",
   "metadata": {},
   "source": [
    "### Training for real\n",
    "\n",
    "Now we'll put this algorithm into a loop so we can go through all the images. Some nomenclature, one pass through the entire dataset is called an *epoch*. So here we're going to loop through `trainloader` to get our training batches. For each batch, we'll doing a training pass where we calculate the loss, do a backwards pass, and update the weights.\n",
    "\n",
    ">**Exercise:** Implement the training pass for our network. If you implemented it correctly, you should see the training loss drop with each epoch."
   ]
  },
  {
   "cell_type": "code",
   "execution_count": 21,
   "metadata": {},
   "outputs": [
    {
     "name": "stdout",
     "output_type": "stream",
     "text": [
      "Training loss: 1.8899006699956555\n",
      "Training loss: 0.8367615650330525\n",
      "Training loss: 0.5111482252063019\n",
      "Training loss: 0.41784345711281556\n",
      "Training loss: 0.3768449185658365\n"
     ]
    }
   ],
   "source": [
    "## Your solution here\n",
    "\n",
    "model = nn.Sequential(nn.Linear(784, 128),\n",
    "                      nn.ReLU(),\n",
    "                      nn.Linear(128, 64),\n",
    "                      nn.ReLU(),\n",
    "                      nn.Linear(64, 10),\n",
    "                      nn.LogSoftmax(dim=1))\n",
    "\n",
    "criterion = nn.NLLLoss()\n",
    "optimizer = optim.SGD(model.parameters(), lr=0.003)\n",
    "\n",
    "epochs = 5\n",
    "for e in range(epochs):\n",
    "    running_loss = 0\n",
    "    for images, labels in trainloader:\n",
    "        # Flatten MNIST images into a 784 long vector\n",
    "        images = images.view(images.shape[0], -1)\n",
    "    \n",
    "        # TODO: Training pass\n",
    "        optimizer.zero_grad() # Clear the gradients, do this because gradients are accumulated\n",
    "        \n",
    "        output = model.forward(images)\n",
    "        \n",
    "        loss = criterion(output, labels)\n",
    "        loss.backward()\n",
    "        \n",
    "        optimizer.step()\n",
    "                \n",
    "        running_loss += loss.item()\n",
    "    else:\n",
    "        print(f\"Training loss: {running_loss/len(trainloader)}\")"
   ]
  },
  {
   "cell_type": "markdown",
   "metadata": {},
   "source": [
    "With the network trained, we can check out it's predictions."
   ]
  },
  {
   "cell_type": "code",
   "execution_count": 22,
   "metadata": {},
   "outputs": [
    {
     "data": {
      "image/png": "[encoded data removed]",
      "text/plain": [
       "<Figure size 432x648 with 2 Axes>"
      ]
     },
     "metadata": {},
     "output_type": "display_data"
    }
   ],
   "source": [
    "%matplotlib inline\n",
    "import helper\n",
    "\n",
    "images, labels = next(iter(trainloader))\n",
    "\n",
    "img = images[0].view(1, 784)\n",
    "# Turn off gradients to speed up this part\n",
    "with torch.no_grad():\n",
    "    logits = model.forward(img)\n",
    "\n",
    "# Output of the network are logits, need to take softmax for probabilities\n",
    "ps = F.softmax(logits, dim=1)\n",
    "helper.view_classify(img.view(1, 28, 28), ps)\n"
   ]
  },
  {
   "cell_type": "code",
   "execution_count": 25,
   "metadata": {},
   "outputs": [
    {
     "name": "stdout",
     "output_type": "stream",
     "text": [
      "tensor([[ -2.2716, -11.7587,  -6.0993,  -5.3736,  -7.8156,  -0.1956,  -3.8935,\n",
      "         -13.7788,  -3.0689,  -7.9767]])\n",
      "tensor([[1.0315e-01, 7.8207e-06, 2.2444e-03, 4.6373e-03, 4.0340e-04, 8.2237e-01,\n",
      "         2.0373e-02, 1.0374e-06, 4.6470e-02, 3.4339e-04]])\n",
      "tensor(1.0000)\n"
     ]
    }
   ],
   "source": [
    "# check\n",
    "print(logits)\n",
    "print(ps)\n",
    "print(torch.sum(ps))"
   ]
  },
  {
   "cell_type": "markdown",
   "metadata": {},
   "source": [
    "Now our network is brilliant. It can accurately predict the digits in our images. Next up you'll write the code for training a neural network on a more complex dataset."
   ]
  }
 ],
 "metadata": {
  "kernelspec": {
   "display_name": "Python [default]",
   "language": "python",
   "name": "python3"
  },
  "language_info": {
   "codemirror_mode": {
    "name": "ipython",
    "version": 3
   },
   "file_extension": ".py",
   "mimetype": "text/x-python",
   "name": "python",
   "nbconvert_exporter": "python",
   "pygments_lexer": "ipython3",
   "version": "3.6.6"
  }
 },
 "nbformat": 4,
 "nbformat_minor": 2
}
