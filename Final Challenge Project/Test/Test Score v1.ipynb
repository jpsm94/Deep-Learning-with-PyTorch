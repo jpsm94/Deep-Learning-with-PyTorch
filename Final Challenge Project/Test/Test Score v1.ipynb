{
 "cells": [
  {
   "cell_type": "markdown",
   "metadata": {},
   "source": [
    "# Scoring your trained model\n",
    "\n",
    "In the cell below, please load your model into `model`. Also if you used an image size for your input images that *isn't* 224x224, you'll need to set `image_size` to the size you used. The scoring code assumes square input images.\n",
    "\n",
    "For example, this is how I loaded in my checkpoint:\n",
    "\n",
    "```python\n",
    "import torch\n",
    "from torch import nn\n",
    "import torch.nn.functional as F\n",
    "from torchvision import models\n",
    "\n",
    "class FFClassifier(nn.Module):\n",
    "    \n",
    "    def __init__(self, in_features, hidden_features, \n",
    "                       out_features, drop_prob=0.1):\n",
    "        super().__init__()\n",
    "        \n",
    "        self.fc1 = nn.Linear(in_features, hidden_features)\n",
    "        self.fc2 = nn.Linear(hidden_features, out_features)\n",
    "        self.drop = nn.Dropout(p=drop_prob)\n",
    "        \n",
    "    def forward(self, x):\n",
    "        x = self.drop(F.relu(self.fc1(x)))\n",
    "        x = self.fc2(x)\n",
    "        x = F.log_softmax(x, dim=1)\n",
    "        return x\n",
    "\n",
    "    \n",
    "def load_checkpoint(checkpoint_path):\n",
    "    checkpoint = torch.load(checkpoint_path)\n",
    "    \n",
    "    model = models.vgg16(pretrained=False)\n",
    "    for param in model.parameters():\n",
    "        param.requires_grad = False\n",
    "\n",
    "    # Put the classifier on the pretrained network\n",
    "    model.classifier = FFClassifier(25088, checkpoint['hidden'], 102)\n",
    "    \n",
    "    model.load_state_dict(checkpoint['state_dict'])\n",
    "    \n",
    "    return model\n",
    "\n",
    "model = load_checkpoint('/home/workspace/classifier.pt')\n",
    "```\n",
    "\n",
    "Your exact code here will depend on how you defined your network in the project. Make sure you use the absolute path to your checkpoint which should have been uploaded to the `/home/workspace` directory.\n",
    "\n",
    "Run the cell, then after loading the data, press \"Test Code\" below. This can take a few minutes or more depending on the size of your network. Your model needs  to reach **at least 20% accuracy** on the test set to be recorded."
   ]
  },
  {
   "cell_type": "code",
   "execution_count": 1,
   "metadata": {},
   "outputs": [
    {
     "name": "stderr",
     "output_type": "stream",
     "text": [
      "/opt/conda/lib/python3.6/site-packages/torchvision-0.2.1-py3.6.egg/torchvision/models/densenet.py:212: UserWarning: nn.init.kaiming_normal is now deprecated in favor of nn.init.kaiming_normal_.\n"
     ]
    }
   ],
   "source": [
    "# Imports here\n",
    "import numpy as np\n",
    "\n",
    "import torch\n",
    "from torch import nn\n",
    "from torch import optim\n",
    "import torch.nn.functional as F\n",
    "from torchvision import datasets, transforms, models\n",
    "\n",
    "model = models.densenet201(pretrained=True)\n",
    "\n",
    "# Set new classifier\n",
    "classifier = nn.Sequential(nn.Linear(1920,1000),\n",
    "                           nn.ReLU(),\n",
    "                           nn.Dropout(0.2),\n",
    "                           nn.Linear(1000, 102),\n",
    "                           nn.LogSoftmax(dim=1))\n",
    "\n",
    "model.classifier = classifier\n",
    "\n",
    "model.eval()\n",
    "\n",
    "model.load_state_dict(torch.load('model2.pt', map_location='cpu'), strict=False)\n",
    "\n",
    "# If you used something other than 224x224 cropped images, set the correct size here\n",
    "image_size = 224\n",
    "# Values you used for normalizing the images. Default here are for \n",
    "# pretrained models from torchvision.\n",
    "norm_mean = [0.485, 0.456, 0.406]\n",
    "norm_std = [0.229, 0.224, 0.225]"
   ]
  },
  {
   "cell_type": "code",
   "execution_count": 2,
   "metadata": {},
   "outputs": [
    {
     "name": "stdout",
     "output_type": "stream",
     "text": [
      "1gD39f5R-T0UnIjxdz9qEy8oxLVHlnjpv  __pycache__\t     utils.py\r\n",
      "model2.pt\t\t\t   Test Score.ipynb  view?usp=sharing\r\n"
     ]
    }
   ],
   "source": [
    "!pip install gdown==3.6.0"
   ]
  },
  {
   "cell_type": "code",
   "execution_count": null,
   "metadata": {},
   "outputs": [],
   "source": [
    "my_file_id = '1gD39f5R-T0UnIjxdz9qEy8oxLVHlnjpv'"
   ]
  },
  {
   "cell_type": "code",
   "execution_count": null,
   "metadata": {},
   "outputs": [],
   "source": [
    "!gdown https://drive.google.com/uc?id={my_file_id}"
   ]
  },
  {
   "cell_type": "code",
   "execution_count": null,
   "metadata": {},
   "outputs": [],
   "source": [
    "#!ls -lrt"
   ]
  },
  {
   "cell_type": "code",
   "execution_count": null,
   "metadata": {
    "edited": true,
    "gradable": true,
    "grader_id": "vriua3cwbv"
   },
   "outputs": [],
   "source": [
    "# If you used something other than 224x224 cropped images, set the correct size here\n",
    "image_size = 224\n",
    "# Values you used for normalizing the images. Default here are for \n",
    "# pretrained models from torchvision.\n",
    "norm_mean = [0.485, 0.456, 0.406]\n",
    "norm_std = [0.229, 0.224, 0.225]"
   ]
  },
  {
   "cell_type": "code",
   "execution_count": null,
   "metadata": {},
   "outputs": [],
   "source": [
    "# Imports here\n",
    "import numpy as np\n",
    "\n",
    "import torch\n",
    "from torch import nn\n",
    "from torch import optim\n",
    "import torch.nn.functional as F\n",
    "from torchvision import datasets, transforms, models"
   ]
  },
  {
   "cell_type": "code",
   "execution_count": null,
   "metadata": {},
   "outputs": [],
   "source": [
    "model = models.densenet201(pretrained=True)"
   ]
  },
  {
   "cell_type": "code",
   "execution_count": null,
   "metadata": {},
   "outputs": [],
   "source": [
    "# Set new classifier\n",
    "classifier = nn.Sequential(nn.Linear(1920,1000),\n",
    "                           nn.ReLU(),\n",
    "                           nn.Dropout(0.2),\n",
    "                           nn.Linear(1000, 102),\n",
    "                           nn.LogSoftmax(dim=1))\n",
    "\n",
    "model.classifier = classifier"
   ]
  },
  {
   "cell_type": "code",
   "execution_count": null,
   "metadata": {},
   "outputs": [],
   "source": [
    "model.eval()"
   ]
  },
  {
   "cell_type": "code",
   "execution_count": null,
   "metadata": {},
   "outputs": [],
   "source": [
    "model.load_state_dict(torch.load('model2.pt', map_location='cpu'), strict=False)"
   ]
  },
  {
   "cell_type": "code",
   "execution_count": null,
   "metadata": {},
   "outputs": [],
   "source": []
  },
  {
   "cell_type": "code",
   "execution_count": null,
   "metadata": {},
   "outputs": [],
   "source": []
  }
 ],
 "metadata": {
  "cell_exec_timeout": 600,
  "kernelspec": {
   "display_name": "Python [default]",
   "language": "python",
   "name": "python3"
  },
  "language_info": {
   "codemirror_mode": {
    "name": "ipython",
    "version": 3
   },
   "file_extension": ".py",
   "mimetype": "text/x-python",
   "name": "python",
   "nbconvert_exporter": "python",
   "pygments_lexer": "ipython3",
   "version": "3.6.6"
  },
  "showGradeBtn": true
 },
 "nbformat": 4,
 "nbformat_minor": 2
}
