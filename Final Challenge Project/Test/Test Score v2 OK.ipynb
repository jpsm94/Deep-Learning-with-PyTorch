{
 "cells": [
  {
   "cell_type": "markdown",
   "metadata": {},
   "source": [
    "# Scoring your trained model\n",
    "\n",
    "In the cell below, please load your model into `model`. Also if you used an image size for your input images that *isn't* 224x224, you'll need to set `image_size` to the size you used. The scoring code assumes square input images.\n",
    "\n",
    "For example, this is how I loaded in my checkpoint:\n",
    "\n",
    "```python\n",
    "import torch\n",
    "from torch import nn\n",
    "import torch.nn.functional as F\n",
    "from torchvision import models\n",
    "\n",
    "class FFClassifier(nn.Module):\n",
    "    \n",
    "    def __init__(self, in_features, hidden_features, \n",
    "                       out_features, drop_prob=0.1):\n",
    "        super().__init__()\n",
    "        \n",
    "        self.fc1 = nn.Linear(in_features, hidden_features)\n",
    "        self.fc2 = nn.Linear(hidden_features, out_features)\n",
    "        self.drop = nn.Dropout(p=drop_prob)\n",
    "        \n",
    "    def forward(self, x):\n",
    "        x = self.drop(F.relu(self.fc1(x)))\n",
    "        x = self.fc2(x)\n",
    "        x = F.log_softmax(x, dim=1)\n",
    "        return x\n",
    "\n",
    "    \n",
    "def load_checkpoint(checkpoint_path):\n",
    "    checkpoint = torch.load(checkpoint_path)\n",
    "    \n",
    "    model = models.vgg16(pretrained=False)\n",
    "    for param in model.parameters():\n",
    "        param.requires_grad = False\n",
    "\n",
    "    # Put the classifier on the pretrained network\n",
    "    model.classifier = FFClassifier(25088, checkpoint['hidden'], 102)\n",
    "    \n",
    "    model.load_state_dict(checkpoint['state_dict'])\n",
    "    \n",
    "    return model\n",
    "\n",
    "model = load_checkpoint('/home/workspace/classifier.pt')\n",
    "```\n",
    "\n",
    "Your exact code here will depend on how you defined your network in the project. Make sure you use the absolute path to your checkpoint which should have been uploaded to the `/home/workspace` directory.\n",
    "\n",
    "Run the cell, then after loading the data, press \"Test Code\" below. This can take a few minutes or more depending on the size of your network. Your model needs  to reach **at least 20% accuracy** on the test set to be recorded."
   ]
  },
  {
   "cell_type": "code",
   "execution_count": null,
   "metadata": {
    "edited": true,
    "gradable": true,
    "grader_id": "vriua3cwbv"
   },
   "outputs": [],
   "source": [
    "# Imports here\n",
    "import numpy as np\n",
    "\n",
    "import torch\n",
    "from torch import nn\n",
    "from torch import optim\n",
    "import torch.nn.functional as F\n",
    "from torchvision import datasets, transforms, models\n",
    "\n",
    "# Load your model to this variable\n",
    "model = models.densenet201(pretrained=True)\n",
    "\n",
    "# Set new classifier\n",
    "classifier = nn.Sequential(nn.Linear(1920,1000),\n",
    "                           nn.ReLU(),\n",
    "                           nn.Dropout(0.2),\n",
    "                           nn.Linear(1000, 102),\n",
    "                           nn.LogSoftmax(dim=1))\n",
    "\n",
    "model.classifier = classifier\n",
    "\n",
    "model.load_state_dict(torch.load('model2.pt', map_location='cpu'), strict=False)\n",
    "   \n",
    "# If you used something other than 224x224 cropped images, set the correct size here\n",
    "image_size = 224\n",
    "# Values you used for normalizing the images. Default here are for \n",
    "# pretrained models from torchvision.\n",
    "norm_mean = [0.485, 0.456, 0.406]\n",
    "norm_std = [0.229, 0.224, 0.225]"
   ]
  },
  {
   "cell_type": "code",
   "execution_count": 2,
   "metadata": {},
   "outputs": [
    {
     "name": "stdout",
     "output_type": "stream",
     "text": [
      "Collecting gdown==3.6.0\n",
      "  Downloading https://files.pythonhosted.org/packages/12/33/e9f21d0b3f85804ca570d124fb7a80c12a99948ff495cf54dfb72f18bf9e/gdown-3.6.0.tar.gz\n",
      "Requirement already satisfied: requests in /opt/conda/lib/python3.6/site-packages (from gdown==3.6.0)\n",
      "Requirement already satisfied: six in /opt/conda/lib/python3.6/site-packages (from gdown==3.6.0)\n",
      "Requirement already satisfied: tqdm in /opt/conda/lib/python3.6/site-packages (from gdown==3.6.0)\n",
      "Requirement already satisfied: chardet<3.1.0,>=3.0.2 in /opt/conda/lib/python3.6/site-packages (from requests->gdown==3.6.0)\n",
      "Requirement already satisfied: idna<2.7,>=2.5 in /opt/conda/lib/python3.6/site-packages (from requests->gdown==3.6.0)\n",
      "Requirement already satisfied: urllib3<1.23,>=1.21.1 in /opt/conda/lib/python3.6/site-packages (from requests->gdown==3.6.0)\n",
      "Requirement already satisfied: certifi>=2017.4.17 in /opt/conda/lib/python3.6/site-packages (from requests->gdown==3.6.0)\n",
      "Building wheels for collected packages: gdown\n",
      "  Running setup.py bdist_wheel for gdown ... \u001b[?25ldone\n",
      "\u001b[?25h  Stored in directory: /root/.cache/pip/wheels/97/90/fa/25654eb65da3e6da7752db71a164e0eb8f7a6fb4335eeb46ab\n",
      "Successfully built gdown\n",
      "Installing collected packages: gdown\n",
      "Successfully installed gdown-3.6.0\n",
      "\u001b[33mYou are using pip version 9.0.1, however version 18.1 is available.\n",
      "You should consider upgrading via the 'pip install --upgrade pip' command.\u001b[0m\n"
     ]
    }
   ],
   "source": [
    "!pip install gdown==3.6.0"
   ]
  },
  {
   "cell_type": "code",
   "execution_count": 4,
   "metadata": {},
   "outputs": [
    {
     "name": "stdout",
     "output_type": "stream",
     "text": [
      "Downloading...\n",
      "From: https://drive.google.com/uc?id=1gD39f5R-T0UnIjxdz9qEy8oxLVHlnjpv\n",
      "To: /home/workspace/model2.pt\n",
      "81.6MB [00:00, 104MB/s] \n"
     ]
    }
   ],
   "source": [
    "my_file_id = '1gD39f5R-T0UnIjxdz9qEy8oxLVHlnjpv'\n",
    "!gdown https://drive.google.com/uc?id={my_file_id}"
   ]
  },
  {
   "cell_type": "code",
   "execution_count": 5,
   "metadata": {},
   "outputs": [
    {
     "name": "stdout",
     "output_type": "stream",
     "text": [
      "total 79820\r\n",
      "-rw-r--r-- 1 root root      238 Nov  6 23:07 utils.py\r\n",
      "drwxr-xr-x 2 root root     4096 Dec 26 16:16 __pycache__\r\n",
      "-rw-r--r-- 1 root root       72 Dec 26 16:20 Untitled.ipynb\r\n",
      "-rw-r--r-- 1 root root     3800 Dec 26 16:21 Test Score.ipynb\r\n",
      "-rw-r--r-- 1 root root 81631975 Dec 26 16:22 model2.pt\r\n"
     ]
    }
   ],
   "source": [
    "!ls -lrt"
   ]
  },
  {
   "cell_type": "code",
   "execution_count": null,
   "metadata": {},
   "outputs": [],
   "source": []
  }
 ],
 "metadata": {
  "cell_exec_timeout": 600,
  "kernelspec": {
   "display_name": "Python 3",
   "language": "python",
   "name": "python3"
  },
  "language_info": {
   "codemirror_mode": {
    "name": "ipython",
    "version": 3
   },
   "file_extension": ".py",
   "mimetype": "text/x-python",
   "name": "python",
   "nbconvert_exporter": "python",
   "pygments_lexer": "ipython3",
   "version": "3.6.3"
  },
  "showGradeBtn": true
 },
 "nbformat": 4,
 "nbformat_minor": 2
}
