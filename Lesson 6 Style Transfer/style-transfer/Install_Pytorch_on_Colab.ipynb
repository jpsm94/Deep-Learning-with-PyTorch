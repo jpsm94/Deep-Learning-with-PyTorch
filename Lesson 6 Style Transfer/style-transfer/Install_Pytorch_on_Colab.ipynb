{
  "nbformat": 4,
  "nbformat_minor": 0,
  "metadata": {
    "colab": {
      "name": "Install Pytorch on Colab.ipynb",
      "version": "0.3.2",
      "provenance": [],
      "collapsed_sections": []
    },
    "kernelspec": {
      "name": "python3",
      "display_name": "Python 3"
    },
    "accelerator": "GPU"
  },
  "cells": [
    {
      "metadata": {
        "id": "9vdRg9ztIRRk",
        "colab_type": "text"
      },
      "cell_type": "markdown",
      "source": [
        "# Install Pytorch"
      ]
    },
    {
      "metadata": {
        "id": "feIQyEi5Iw77",
        "colab_type": "code",
        "outputId": "6352ae63-e49f-4038-f707-d8c1185a62ac",
        "colab": {
          "base_uri": "https://localhost:8080/",
          "height": 34
        }
      },
      "cell_type": "code",
      "source": [
        "# to install pytorch 0.4.1\n",
        "# ref: https://towardsdatascience.com/how-to-get-cuda-9-2-backend-for-pytorch-0-4-1-on-google-colab-57eb12aae27f\n",
        "!git clone https://gist.github.com/f7b7c7758a46da49f84bc68b47997d69.git"
      ],
      "execution_count": 0,
      "outputs": [
        {
          "output_type": "stream",
          "text": [
            "fatal: destination path 'f7b7c7758a46da49f84bc68b47997d69' already exists and is not an empty directory.\n"
          ],
          "name": "stdout"
        }
      ]
    },
    {
      "metadata": {
        "id": "eY91CFGLI2f7",
        "colab_type": "code",
        "outputId": "02e7731a-7ec7-4c53-e249-187c78af1a0d",
        "colab": {
          "base_uri": "https://localhost:8080/",
          "height": 34
        }
      },
      "cell_type": "code",
      "source": [
        "!ls f7b7c7758a46da49f84bc68b47997d69  "
      ],
      "execution_count": 0,
      "outputs": [
        {
          "output_type": "stream",
          "text": [
            "pytorch041_cuda92_colab.sh\n"
          ],
          "name": "stdout"
        }
      ]
    },
    {
      "metadata": {
        "id": "ZDbIGKfjKRRy",
        "colab_type": "code",
        "outputId": "0e93d14b-78f8-4006-e8da-313889cffd2c",
        "colab": {
          "base_uri": "https://localhost:8080/",
          "height": 722
        }
      },
      "cell_type": "code",
      "source": [
        "!cat f7b7c7758a46da49f84bc68b47997d69/pytorch041_cuda92_colab.sh"
      ],
      "execution_count": 0,
      "outputs": [
        {
          "output_type": "stream",
          "text": [
            "#!/bin/bash\n",
            "\n",
            "TEXT_RESET='\\e[0m'\n",
            "TEXT_YELLOW='\\e[1;33m'\n",
            "\n",
            "wget https://developer.nvidia.com/compute/cuda/9.2/Prod2/local_installers/cuda-repo-ubuntu1604-9-2-local_9.2.148-1_amd64\n",
            "echo -e $TEXT_YELLOW\n",
            "echo 'WEBGET finished..'\n",
            "echo -e $TEXT_RESET\n",
            "\n",
            "dpkg --install cuda-repo-ubuntu1604-9-2-local_9.2.148-1_amd64\n",
            "echo -e $TEXT_YELLOW\n",
            "echo 'DPKG finished..'\n",
            "echo -e $TEXT_RESET\n",
            "\n",
            "apt-key add /var/cuda-repo-9-2-local/7fa2af80.pub\n",
            "echo -e $TEXT_YELLOW\n",
            "echo 'APT added key..'\n",
            "echo -e $TEXT_RESET\n",
            "\n",
            "apt-get update\n",
            "echo -e $TEXT_YELLOW\n",
            "echo 'APT update finished..'\n",
            "echo -e $TEXT_RESET\n",
            "\n",
            "apt-get install cuda\n",
            "echo -e $TEXT_YELLOW\n",
            "echo 'APT finished installing cuda..'\n",
            "\n",
            "echo 'The CUDA version is: '\n",
            "cat /usr/local/cuda/version.txt\n",
            "echo -e $TEXT_RESET\n",
            "\n",
            "pip install http://download.pytorch.org/whl/cu92/torch-0.4.1-cp36-cp36m-linux_x86_64.whl\n",
            "echo -e $TEXT_YELLOW\n",
            "echo 'pip fininshed installing PyTorch 0.4.1 with CUDA 9.2 backend..'\n",
            "echo -e $TEXT_RESET\n",
            "\n",
            "pip install torchvision\n",
            "echo -e $TEXT_YELLOW\n",
            "echo 'pip finished installing torchvision..'\n",
            "echo -e $TEXT_RESET"
          ],
          "name": "stdout"
        }
      ]
    },
    {
      "metadata": {
        "id": "tHFMsEyiI4WM",
        "colab_type": "code",
        "outputId": "dd589c7d-20d3-459a-f6a4-f427eed3ecf0",
        "colab": {
          "base_uri": "https://localhost:8080/",
          "height": 1196
        }
      },
      "cell_type": "code",
      "source": [
        "!bash f7b7c7758a46da49f84bc68b47997d69/pytorch041_cuda92_colab.sh"
      ],
      "execution_count": 0,
      "outputs": [
        {
          "output_type": "stream",
          "text": [
            "--2018-12-22 14:31:34--  https://developer.nvidia.com/compute/cuda/9.2/Prod2/local_installers/cuda-repo-ubuntu1604-9-2-local_9.2.148-1_amd64\n",
            "Resolving developer.nvidia.com (developer.nvidia.com)... 192.229.182.215\n",
            "Connecting to developer.nvidia.com (developer.nvidia.com)|192.229.182.215|:443... connected.\n",
            "HTTP request sent, awaiting response... 302 Found\n",
            "Location: https://developer.download.nvidia.com/compute/cuda/9.2/secure/Prod2/local_installers/cuda-repo-ubuntu1604-9-2-local_9.2.148-1_amd64.deb?x60F3iDUW70aFyWf7UpV8TzL38IrjBOUcs2ms2K8z6cA-TFk8vQO2eor5AZ_79bxfobxgbZbw3OuVGxfl7tbq7nUqW3pRpHZQr8BdZjZX0XwnxvUwgCqY8eWFYnKkQnDMlYeYIFGBvqcyCvbrZ7L1Y064ko_Y1Mh_Bxaw2Al7AauyVdI4TDBMMpXwqIu-xSARIppywiKFqIhKcnChSUb8A [following]\n",
            "--2018-12-22 14:31:34--  https://developer.download.nvidia.com/compute/cuda/9.2/secure/Prod2/local_installers/cuda-repo-ubuntu1604-9-2-local_9.2.148-1_amd64.deb?x60F3iDUW70aFyWf7UpV8TzL38IrjBOUcs2ms2K8z6cA-TFk8vQO2eor5AZ_79bxfobxgbZbw3OuVGxfl7tbq7nUqW3pRpHZQr8BdZjZX0XwnxvUwgCqY8eWFYnKkQnDMlYeYIFGBvqcyCvbrZ7L1Y064ko_Y1Mh_Bxaw2Al7AauyVdI4TDBMMpXwqIu-xSARIppywiKFqIhKcnChSUb8A\n",
            "Resolving developer.download.nvidia.com (developer.download.nvidia.com)... 192.229.221.58, 2606:2800:233:ef6:15dd:1ece:1d50:1e1\n",
            "Connecting to developer.download.nvidia.com (developer.download.nvidia.com)|192.229.221.58|:443... connected.\n",
            "HTTP request sent, awaiting response... 200 OK\n",
            "Length: 1267151038 (1.2G) [application/x-deb]\n",
            "Saving to: ‘cuda-repo-ubuntu1604-9-2-local_9.2.148-1_amd64.1’\n",
            "\n",
            "cuda-repo-ubuntu160 100%[===================>]   1.18G  79.3MB/s    in 14s     \n",
            "\n",
            "2018-12-22 14:31:48 (86.0 MB/s) - ‘cuda-repo-ubuntu1604-9-2-local_9.2.148-1_amd64.1’ saved [1267151038/1267151038]\n",
            "\n",
            "\u001b[1;33m\n",
            "WEBGET finished..\n",
            "\u001b[0m\n",
            "(Reading database ... 110915 files and directories currently installed.)\n",
            "Preparing to unpack cuda-repo-ubuntu1604-9-2-local_9.2.148-1_amd64 ...\n",
            "Unpacking cuda-repo-ubuntu1604-9-2-local (9.2.148-1) over (9.2.148-1) ...\n",
            "Setting up cuda-repo-ubuntu1604-9-2-local (9.2.148-1) ...\n",
            "\u001b[1;33m\n",
            "DPKG finished..\n",
            "\u001b[0m\n",
            "OK\n",
            "\u001b[1;33m\n",
            "APT added key..\n",
            "\u001b[0m\n",
            "Get:1 file:/var/cuda-repo-9-2-local  InRelease\n",
            "Ign:1 file:/var/cuda-repo-9-2-local  InRelease\n",
            "Get:2 file:/var/cuda-repo-9-2-local  Release [574 B]\n",
            "Get:2 file:/var/cuda-repo-9-2-local  Release [574 B]\n",
            "Hit:3 http://security.ubuntu.com/ubuntu bionic-security InRelease\n",
            "Hit:4 http://ppa.launchpad.net/graphics-drivers/ppa/ubuntu bionic InRelease\n",
            "Hit:5 http://archive.ubuntu.com/ubuntu bionic InRelease\n",
            "Hit:6 http://archive.ubuntu.com/ubuntu bionic-updates InRelease\n",
            "Hit:7 http://archive.ubuntu.com/ubuntu bionic-backports InRelease\n",
            "Ign:9 https://developer.download.nvidia.com/compute/cuda/repos/ubuntu1710/x86_64  InRelease\n",
            "Ign:10 https://developer.download.nvidia.com/compute/machine-learning/repos/ubuntu1604/x86_64  InRelease\n",
            "Hit:11 https://developer.download.nvidia.com/compute/cuda/repos/ubuntu1710/x86_64  Release\n",
            "Hit:12 https://developer.download.nvidia.com/compute/machine-learning/repos/ubuntu1604/x86_64  Release\n",
            "Reading package lists... Done\n",
            "\u001b[1;33m\n",
            "APT update finished..\n",
            "\u001b[0m\n",
            "Reading package lists... Done\n",
            "Building dependency tree       \n",
            "Reading state information... Done\n",
            "cuda is already the newest version (9.2.148-1).\n",
            "0 upgraded, 0 newly installed, 0 to remove and 12 not upgraded.\n",
            "\u001b[1;33m\n",
            "APT finished installing cuda..\n",
            "The CUDA version is: \n",
            "CUDA Version 9.2.148\n",
            "\u001b[0m\n",
            "Requirement already satisfied: torch==0.4.1 from http://download.pytorch.org/whl/cu92/torch-0.4.1-cp36-cp36m-linux_x86_64.whl in /usr/local/lib/python3.6/dist-packages (0.4.1)\n",
            "\u001b[1;33m\n",
            "pip fininshed installing PyTorch 0.4.1 with CUDA 9.2 backend..\n",
            "\u001b[0m\n",
            "Requirement already satisfied: torchvision in /usr/local/lib/python3.6/dist-packages (0.2.1)\n",
            "Requirement already satisfied: pillow>=4.1.1 in /usr/local/lib/python3.6/dist-packages (from torchvision) (5.3.0)\n",
            "Requirement already satisfied: torch in /usr/local/lib/python3.6/dist-packages (from torchvision) (0.4.1)\n",
            "Requirement already satisfied: six in /usr/local/lib/python3.6/dist-packages (from torchvision) (1.11.0)\n",
            "Requirement already satisfied: numpy in /usr/local/lib/python3.6/dist-packages (from torchvision) (1.14.6)\n",
            "\u001b[1;33m\n",
            "pip finished installing torchvision..\n",
            "\u001b[0m\n"
          ],
          "name": "stdout"
        }
      ]
    },
    {
      "metadata": {
        "id": "lCYTpPfEI9FO",
        "colab_type": "code",
        "colab": {}
      },
      "cell_type": "code",
      "source": [
        "# torchvision already installed\n",
        "!pip install torchvision"
      ],
      "execution_count": 0,
      "outputs": []
    },
    {
      "metadata": {
        "id": "Z1lbSvFwN4HP",
        "colab_type": "text"
      },
      "cell_type": "markdown",
      "source": [
        "Remember to chante Runtime Type to \"GPU\" under Runtime > Change Runtime type "
      ]
    },
    {
      "metadata": {
        "id": "XCEhRQ0tIRRn",
        "colab_type": "code",
        "outputId": "f3491a11-f88d-44e1-9181-a00d49478c94",
        "colab": {
          "base_uri": "https://localhost:8080/",
          "height": 34
        }
      },
      "cell_type": "code",
      "source": [
        "import torch\n",
        "import numpy as np\n",
        "\n",
        "# check if CUDA is available\n",
        "train_on_gpu = torch.cuda.is_available()\n",
        "\n",
        "if not train_on_gpu:\n",
        "    print('CUDA is not available.  Training on CPU ...')\n",
        "else:\n",
        "    print('CUDA is available!  Training on GPU ...')"
      ],
      "execution_count": 0,
      "outputs": [
        {
          "output_type": "stream",
          "text": [
            "CUDA is available!  Training on GPU ...\n"
          ],
          "name": "stdout"
        }
      ]
    },
    {
      "metadata": {
        "id": "VS9poi1EOgy3",
        "colab_type": "code",
        "outputId": "094789a8-97af-4ee3-9844-dbb92b2909ce",
        "colab": {
          "base_uri": "https://localhost:8080/",
          "height": 118
        }
      },
      "cell_type": "code",
      "source": [
        "print(\"PyTorch version: \")\n",
        "print(torch.__version__)\n",
        "print(\"CUDA Version: \")\n",
        "print(torch.version.cuda)\n",
        "print(\"cuDNN version is: \")\n",
        "print(torch.backends.cudnn.version())"
      ],
      "execution_count": 0,
      "outputs": [
        {
          "output_type": "stream",
          "text": [
            "PyTorch version: \n",
            "0.4.1\n",
            "CUDA Version: \n",
            "9.2.148\n",
            "cuDNN version is: \n",
            "7104\n"
          ],
          "name": "stdout"
        }
      ]
    },
    {
      "metadata": {
        "id": "36SvoAptYVs1",
        "colab_type": "text"
      },
      "cell_type": "markdown",
      "source": [
        "### Note: Restart runtime of other opened notebooks (if any)"
      ]
    },
    {
      "metadata": {
        "id": "nSsPLdCDYSxp",
        "colab_type": "code",
        "colab": {}
      },
      "cell_type": "code",
      "source": [
        ""
      ],
      "execution_count": 0,
      "outputs": []
    }
  ]
}